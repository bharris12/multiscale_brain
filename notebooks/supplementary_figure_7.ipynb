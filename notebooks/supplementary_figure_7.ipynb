{
 "cells": [
  {
   "cell_type": "markdown",
   "metadata": {},
   "source": [
    "Non-Notebook scripts used for input\n",
    "* compute_agg_proportionality.r\n",
    "* compute_bulk_proportionality.r\n",
    "* run_proportionality.sh (runs compute agg)"
   ]
  },
  {
   "cell_type": "markdown",
   "metadata": {},
   "source": [
    "## Imports"
   ]
  },
  {
   "cell_type": "code",
   "execution_count": 21,
   "metadata": {
    "ExecuteTime": {
     "end_time": "2020-12-28T17:41:31.739560Z",
     "start_time": "2020-12-28T17:41:31.713352Z"
    }
   },
   "outputs": [],
   "source": [
    "import numpy as np\n",
    "import pandas as pd\n",
    "import gc\n",
    "import scanpy as sc\n",
    "\n",
    "import seaborn as sns\n",
    "import matplotlib.pyplot as plt\n",
    "from itertools import product\n",
    "\n",
    "from scipy import spatial, cluster\n",
    "import pymn\n",
    "\n",
    "import joypy"
   ]
  },
  {
   "cell_type": "code",
   "execution_count": 22,
   "metadata": {
    "ExecuteTime": {
     "end_time": "2020-12-28T17:41:31.766276Z",
     "start_time": "2020-12-28T17:41:31.741434Z"
    }
   },
   "outputs": [],
   "source": [
    "from rank import rank\n",
    "from egad import run_egad"
   ]
  },
  {
   "cell_type": "code",
   "execution_count": 23,
   "metadata": {
    "ExecuteTime": {
     "end_time": "2020-12-28T17:41:31.893122Z",
     "start_time": "2020-12-28T17:41:31.868278Z"
    }
   },
   "outputs": [],
   "source": [
    "import logging\n",
    "logging.basicConfig(format='%(asctime)s - %(message)s', level=logging.INFO)"
   ]
  },
  {
   "cell_type": "code",
   "execution_count": 24,
   "metadata": {
    "ExecuteTime": {
     "end_time": "2020-12-28T17:41:32.069321Z",
     "start_time": "2020-12-28T17:41:32.044978Z"
    }
   },
   "outputs": [],
   "source": [
    "import sys\n",
    "sys.path.append('/home/bharris/biccn_paper/scripts/')\n",
    "\n",
    "import load_pearson_networks"
   ]
  },
  {
   "cell_type": "code",
   "execution_count": 25,
   "metadata": {
    "ExecuteTime": {
     "end_time": "2020-12-28T17:41:32.234419Z",
     "start_time": "2020-12-28T17:41:32.207448Z"
    }
   },
   "outputs": [],
   "source": [
    "#These save characters as text in PDFs\n",
    "import matplotlib\n",
    "matplotlib.rcParams['pdf.fonttype'] = 42\n",
    "matplotlib.rcParams['ps.fonttype'] = 42\n",
    "\n",
    "#These change plot aesthetics\n",
    "\n",
    "sns.set(style='white', font_scale=1.25)\n",
    "plt.rc(\"axes.spines\", top=False, right=False)\n",
    "plt.rc('xtick', bottom=True)\n",
    "plt.rc('ytick', left=True)"
   ]
  },
  {
   "cell_type": "code",
   "execution_count": 26,
   "metadata": {
    "ExecuteTime": {
     "end_time": "2020-12-28T17:41:32.442320Z",
     "start_time": "2020-12-28T17:41:32.414199Z"
    }
   },
   "outputs": [
    {
     "name": "stdout",
     "output_type": "stream",
     "text": [
      "The autoreload extension is already loaded. To reload it, use:\n",
      "  %reload_ext autoreload\n"
     ]
    }
   ],
   "source": [
    "%load_ext autoreload\n",
    "%autoreload 2\n",
    "%matplotlib inline"
   ]
  },
  {
   "cell_type": "code",
   "execution_count": 27,
   "metadata": {
    "ExecuteTime": {
     "end_time": "2020-12-28T17:41:32.876699Z",
     "start_time": "2020-12-28T17:41:32.853486Z"
    }
   },
   "outputs": [],
   "source": [
    "from move_seaborn_legend import move_legend"
   ]
  },
  {
   "cell_type": "markdown",
   "metadata": {},
   "source": [
    "## Functions"
   ]
  },
  {
   "cell_type": "code",
   "execution_count": 14,
   "metadata": {
    "ExecuteTime": {
     "end_time": "2020-12-18T13:30:07.993886Z",
     "start_time": "2020-12-18T13:30:07.970572Z"
    }
   },
   "outputs": [],
   "source": [
    "def create_empty_network(genes=genes):\n",
    "    return np.zeros([genes.shape[0], genes.shape[0]])"
   ]
  },
  {
   "cell_type": "code",
   "execution_count": 16,
   "metadata": {
    "ExecuteTime": {
     "end_time": "2020-12-18T13:36:53.708952Z",
     "start_time": "2020-12-18T13:36:53.684194Z"
    }
   },
   "outputs": [],
   "source": [
    "def aggregate_networks(datasets, level, genes=genes):\n",
    "    nws_path = '/home/bharris/biccn_paper/data/networks/proportionality/proportionality_nw_'\n",
    "    agg_nw = create_empty_network()\n",
    "    for dataset in datasets:\n",
    "        if 'macosko' in dataset:\n",
    "            dataset = 'macosko'\n",
    "        nw = pd.read_csv(f'{nws_path}{dataset}_{level}.csv.gz', index_col=0)\n",
    "        agg_nw += nw.values\n",
    "        del nw\n",
    "        gc.collect()\n",
    "    rank(agg_nw)\n",
    "    return pd.DataFrame(agg_nw, index=genes, columns=genes)"
   ]
  },
  {
   "cell_type": "markdown",
   "metadata": {},
   "source": [
    "## Load data"
   ]
  },
  {
   "cell_type": "code",
   "execution_count": 28,
   "metadata": {
    "ExecuteTime": {
     "end_time": "2020-12-28T17:41:42.066888Z",
     "start_time": "2020-12-28T17:41:34.206109Z"
    }
   },
   "outputs": [],
   "source": [
    "bulk_agg_nw = bulk_agg_nw = pd.read_csv(\n",
    "    '/home/bharris/biccn_paper/data/networks/proportionality/bulk_agg_nw.csv.gz',\n",
    "    index_col=0)"
   ]
  },
  {
   "cell_type": "code",
   "execution_count": 29,
   "metadata": {
    "ExecuteTime": {
     "end_time": "2020-12-28T17:41:42.098954Z",
     "start_time": "2020-12-28T17:41:42.068736Z"
    }
   },
   "outputs": [],
   "source": [
    "dataset_dict = pd.read_csv(\n",
    "    '/home/bharris/biccn_paper/data/dataset_dict_biccn_sets_7.csv',\n",
    "    index_col=0).to_dict()"
   ]
  },
  {
   "cell_type": "code",
   "execution_count": 30,
   "metadata": {
    "ExecuteTime": {
     "end_time": "2020-12-28T17:41:52.580727Z",
     "start_time": "2020-12-28T17:41:42.101019Z"
    }
   },
   "outputs": [],
   "source": [
    "go_mouse = pd.read_hdf('/home/bharris/GO_data/go_mouse_nw.hdf5', 'go')\n",
    "\n",
    "go_slim = np.genfromtxt('/home/bharris/GO_data/aug4.GOslim', dtype=str)\n",
    "\n",
    "go_mouse_slim = go_mouse[np.intersect1d(go_mouse.columns, go_slim)]"
   ]
  },
  {
   "cell_type": "code",
   "execution_count": 31,
   "metadata": {
    "ExecuteTime": {
     "end_time": "2020-12-28T17:41:52.642692Z",
     "start_time": "2020-12-28T17:41:52.583814Z"
    }
   },
   "outputs": [],
   "source": [
    "genes = np.genfromtxt(\n",
    "    '/home/bharris/biccn_paper/data/highly_expressed_7_datasets_75k.csv',\n",
    "    dtype=str)"
   ]
  },
  {
   "cell_type": "code",
   "execution_count": 32,
   "metadata": {
    "ExecuteTime": {
     "end_time": "2020-12-28T17:45:48.396684Z",
     "start_time": "2020-12-28T17:41:52.644599Z"
    }
   },
   "outputs": [
    {
     "name": "stderr",
     "output_type": "stream",
     "text": [
      "2020-12-28 12:41:52,669 - zeng_10x_cell\n",
      "2020-12-28 12:42:17,514 - zeng_10x_nuc\n",
      "2020-12-28 12:42:43,179 - zeng_smart_cell\n",
      "2020-12-28 12:43:07,503 - zeng_smart_nuc\n",
      "2020-12-28 12:43:31,521 - zeng_10x_cell_v3\n",
      "2020-12-28 12:43:54,248 - zeng_10x_nuc_v3\n",
      "2020-12-28 12:44:17,998 - macosko_10x_nuc_v3\n"
     ]
    }
   ],
   "source": [
    "pearson_nws = load_pearson_networks.load_all_networks()"
   ]
  },
  {
   "cell_type": "markdown",
   "metadata": {},
   "source": [
    "## Analyze GO"
   ]
  },
  {
   "cell_type": "code",
   "execution_count": 33,
   "metadata": {
    "ExecuteTime": {
     "end_time": "2020-12-28T17:49:04.862564Z",
     "start_time": "2020-12-28T17:45:48.399261Z"
    }
   },
   "outputs": [],
   "source": [
    "agg_class_label = aggregate_networks(dataset_dict.keys(), 'class_label')\n",
    "agg_subclass_label = aggregate_networks(dataset_dict.keys(), 'subclass_label')\n",
    "agg_joint_cluster_label = aggregate_networks(dataset_dict.keys(),\n",
    "                                             'joint_cluster_label')"
   ]
  },
  {
   "cell_type": "code",
   "execution_count": 34,
   "metadata": {
    "ExecuteTime": {
     "end_time": "2020-12-28T17:49:56.153433Z",
     "start_time": "2020-12-28T17:49:04.864256Z"
    }
   },
   "outputs": [],
   "source": [
    "cl = run_egad(go_mouse, agg_class_label)\n",
    "cl['level'] = 'Class Label'\n",
    "scl = run_egad(go_mouse, agg_subclass_label)\n",
    "scl['level'] = 'Subclass Label'\n",
    "jcl = run_egad(go_mouse, agg_joint_cluster_label)\n",
    "jcl['level'] = 'Cluster Label'\n",
    "bl = run_egad(go_mouse, bulk_agg_nw)\n",
    "bl['level'] = 'bulk'"
   ]
  },
  {
   "cell_type": "code",
   "execution_count": 60,
   "metadata": {
    "ExecuteTime": {
     "end_time": "2021-01-05T14:11:26.296492Z",
     "start_time": "2021-01-05T14:11:25.728204Z"
    }
   },
   "outputs": [
    {
     "data": {
      "image/png": "[encoded data removed]",
      "text/plain": [
       "<Figure size 432x288 with 4 Axes>"
      ]
     },
     "metadata": {
      "needs_background": "light"
     },
     "output_type": "display_data"
    }
   ],
   "source": [
    "joypy.joyplot(pd.concat([cl, scl, jcl])[['level', 'AUC']],\n",
    "              by='level',\n",
    "              colormap=plt.cm.gist_earth,\n",
    "              alpha=.75,\n",
    "              x_range=[.5, 1])\n",
    "plt.xlabel('GO AUROC in Proportionality Networks')\n",
    "plt.tight_layout()\n",
    "plt.savefig(\n",
    "    '/home/bharris/biccn_paper/figures/resub/proportionality_subclass_GO.pdf',\n",
    "    transparent=True)"
   ]
  },
  {
   "cell_type": "code",
   "execution_count": 36,
   "metadata": {
    "ExecuteTime": {
     "end_time": "2020-12-28T17:49:57.597033Z",
     "start_time": "2020-12-28T17:49:57.561966Z"
    }
   },
   "outputs": [
    {
     "data": {
      "text/html": [
       "<div>\n",
       "<style scoped>\n",
       "    .dataframe tbody tr th:only-of-type {\n",
       "        vertical-align: middle;\n",
       "    }\n",
       "\n",
       "    .dataframe tbody tr th {\n",
       "        vertical-align: top;\n",
       "    }\n",
       "\n",
       "    .dataframe thead th {\n",
       "        text-align: right;\n",
       "    }\n",
       "</style>\n",
       "<table border=\"1\" class=\"dataframe\">\n",
       "  <thead>\n",
       "    <tr style=\"text-align: right;\">\n",
       "      <th></th>\n",
       "      <th>AUC</th>\n",
       "      <th>AVG_NODE_DEGREE</th>\n",
       "      <th>DEGREE_NULL_AUC</th>\n",
       "      <th>P_Value</th>\n",
       "    </tr>\n",
       "    <tr>\n",
       "      <th>level</th>\n",
       "      <th></th>\n",
       "      <th></th>\n",
       "      <th></th>\n",
       "      <th></th>\n",
       "    </tr>\n",
       "  </thead>\n",
       "  <tbody>\n",
       "    <tr>\n",
       "      <th>Class Label</th>\n",
       "      <td>0.625030</td>\n",
       "      <td>2030.745124</td>\n",
       "      <td>0.446899</td>\n",
       "      <td>0.034714</td>\n",
       "    </tr>\n",
       "    <tr>\n",
       "      <th>Subclass Label</th>\n",
       "      <td>0.629120</td>\n",
       "      <td>2026.775284</td>\n",
       "      <td>0.445523</td>\n",
       "      <td>0.032030</td>\n",
       "    </tr>\n",
       "    <tr>\n",
       "      <th>Cluster Label</th>\n",
       "      <td>0.624992</td>\n",
       "      <td>2027.252932</td>\n",
       "      <td>0.449323</td>\n",
       "      <td>0.033785</td>\n",
       "    </tr>\n",
       "  </tbody>\n",
       "</table>\n",
       "</div>"
      ],
      "text/plain": [
       "                     AUC  AVG_NODE_DEGREE  DEGREE_NULL_AUC   P_Value\n",
       "level                                                               \n",
       "Class Label     0.625030      2030.745124         0.446899  0.034714\n",
       "Subclass Label  0.629120      2026.775284         0.445523  0.032030\n",
       "Cluster Label   0.624992      2027.252932         0.449323  0.033785"
      ]
     },
     "execution_count": 36,
     "metadata": {},
     "output_type": "execute_result"
    }
   ],
   "source": [
    "pd.concat([cl, scl, jcl, bl]).groupby('level').mean().rename({\n",
    "    'joint_cluster_label': 'cluster_label'\n",
    "}).iloc[[0, 2, 1]]"
   ]
  },
  {
   "cell_type": "markdown",
   "metadata": {},
   "source": [
    "## Analzye Markers"
   ]
  },
  {
   "cell_type": "code",
   "execution_count": 38,
   "metadata": {
    "ExecuteTime": {
     "end_time": "2020-12-28T17:49:58.003318Z",
     "start_time": "2020-12-28T17:49:57.971685Z"
    }
   },
   "outputs": [],
   "source": [
    "markers = pd.read_csv('/home/bharris/biccn_paper/data/stephan_marker_nw.csv',\n",
    "                      index_col=0)\n",
    "markers.drop(columns=['Glutamatergic', 'Non.Neuronal', 'GABAergic'],\n",
    "             inplace=True)"
   ]
  },
  {
   "cell_type": "code",
   "execution_count": 39,
   "metadata": {
    "ExecuteTime": {
     "end_time": "2020-12-28T17:50:00.993804Z",
     "start_time": "2020-12-28T17:49:58.004868Z"
    }
   },
   "outputs": [],
   "source": [
    "bm = run_egad(markers, bulk_agg_nw)\n",
    "bm['level'] = 'Bulk'\n",
    "\n",
    "cm = run_egad(markers, agg_class_label)\n",
    "cm['level'] = 'Class Label'\n",
    "\n",
    "sm = run_egad(markers, agg_subclass_label)\n",
    "sm['level'] = 'Subclass Label'\n",
    "\n",
    "scm = run_egad(markers, agg_joint_cluster_label)\n",
    "scm['level'] = 'Cluster Label'\n",
    "\n",
    "combined_marker_performance = pd.concat([bm, cm, sm, scm])"
   ]
  },
  {
   "cell_type": "code",
   "execution_count": 61,
   "metadata": {
    "ExecuteTime": {
     "end_time": "2021-01-05T14:11:29.679002Z",
     "start_time": "2021-01-05T14:11:29.293118Z"
    },
    "scrolled": true
   },
   "outputs": [
    {
     "data": {
      "image/png": "[encoded data removed]",
      "text/plain": [
       "<Figure size 432x288 with 4 Axes>"
      ]
     },
     "metadata": {
      "needs_background": "light"
     },
     "output_type": "display_data"
    }
   ],
   "source": [
    "joypy.joyplot(\n",
    "    combined_marker_performance.loc[combined_marker_performance.level != 'Bulk',\n",
    "                                    ['level', 'AUC']],\n",
    "    by='level',\n",
    "    colormap=plt.cm.gist_earth,\n",
    "    alpha=.75,\n",
    "    x_range=[.5, 1])\n",
    "plt.xlabel('AUROC of Subclass Markers in Proportionality Networks')\n",
    "plt.tight_layout()\n",
    "plt.savefig(\n",
    "    '/home/bharris/biccn_paper/figures/resub/proportionality_subclass.pdf',\n",
    "    transparent=True)"
   ]
  },
  {
   "cell_type": "code",
   "execution_count": 63,
   "metadata": {
    "ExecuteTime": {
     "end_time": "2021-01-07T01:05:39.133896Z",
     "start_time": "2021-01-07T01:05:39.100113Z"
    }
   },
   "outputs": [
    {
     "data": {
      "text/html": [
       "<div>\n",
       "<style scoped>\n",
       "    .dataframe tbody tr th:only-of-type {\n",
       "        vertical-align: middle;\n",
       "    }\n",
       "\n",
       "    .dataframe tbody tr th {\n",
       "        vertical-align: top;\n",
       "    }\n",
       "\n",
       "    .dataframe thead th {\n",
       "        text-align: right;\n",
       "    }\n",
       "</style>\n",
       "<table border=\"1\" class=\"dataframe\">\n",
       "  <thead>\n",
       "    <tr style=\"text-align: right;\">\n",
       "      <th></th>\n",
       "      <th>AUC</th>\n",
       "      <th>AVG_NODE_DEGREE</th>\n",
       "      <th>DEGREE_NULL_AUC</th>\n",
       "      <th>P_Value</th>\n",
       "    </tr>\n",
       "    <tr>\n",
       "      <th>level</th>\n",
       "      <th></th>\n",
       "      <th></th>\n",
       "      <th></th>\n",
       "      <th></th>\n",
       "    </tr>\n",
       "  </thead>\n",
       "  <tbody>\n",
       "    <tr>\n",
       "      <th>Bulk</th>\n",
       "      <td>0.862208</td>\n",
       "      <td>1450.307009</td>\n",
       "      <td>0.171069</td>\n",
       "      <td>8.102442e-30</td>\n",
       "    </tr>\n",
       "    <tr>\n",
       "      <th>Class Label</th>\n",
       "      <td>0.920923</td>\n",
       "      <td>1847.037079</td>\n",
       "      <td>0.241754</td>\n",
       "      <td>3.695319e-23</td>\n",
       "    </tr>\n",
       "    <tr>\n",
       "      <th>Cluster Label</th>\n",
       "      <td>0.840422</td>\n",
       "      <td>1891.463336</td>\n",
       "      <td>0.303756</td>\n",
       "      <td>1.319382e-21</td>\n",
       "    </tr>\n",
       "    <tr>\n",
       "      <th>Subclass Label</th>\n",
       "      <td>0.854898</td>\n",
       "      <td>1847.524785</td>\n",
       "      <td>0.250808</td>\n",
       "      <td>2.922753e-25</td>\n",
       "    </tr>\n",
       "  </tbody>\n",
       "</table>\n",
       "</div>"
      ],
      "text/plain": [
       "                     AUC  AVG_NODE_DEGREE  DEGREE_NULL_AUC       P_Value\n",
       "level                                                                   \n",
       "Bulk            0.862208      1450.307009         0.171069  8.102442e-30\n",
       "Class Label     0.920923      1847.037079         0.241754  3.695319e-23\n",
       "Cluster Label   0.840422      1891.463336         0.303756  1.319382e-21\n",
       "Subclass Label  0.854898      1847.524785         0.250808  2.922753e-25"
      ]
     },
     "execution_count": 63,
     "metadata": {},
     "output_type": "execute_result"
    }
   ],
   "source": [
    "combined_marker_performance.groupby('level').mean()"
   ]
  },
  {
   "cell_type": "code",
   "execution_count": null,
   "metadata": {},
   "outputs": [],
   "source": []
  }
 ],
 "metadata": {
  "kernelspec": {
   "display_name": "Python 3",
   "language": "python",
   "name": "python3"
  },
  "language_info": {
   "codemirror_mode": {
    "name": "ipython",
    "version": 3
   },
   "file_extension": ".py",
   "mimetype": "text/x-python",
   "name": "python",
   "nbconvert_exporter": "python",
   "pygments_lexer": "ipython3",
   "version": "3.7.9"
  },
  "toc": {
   "base_numbering": 1,
   "nav_menu": {},
   "number_sections": true,
   "sideBar": true,
   "skip_h1_title": false,
   "title_cell": "Table of Contents",
   "title_sidebar": "Contents",
   "toc_cell": false,
   "toc_position": {},
   "toc_section_display": true,
   "toc_window_display": true
  }
 },
 "nbformat": 4,
 "nbformat_minor": 4
}
