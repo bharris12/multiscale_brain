{
 "cells": [
  {
   "cell_type": "code",
   "execution_count": 1,
   "metadata": {
    "ExecuteTime": {
     "end_time": "2020-08-27T15:41:59.897691Z",
     "start_time": "2020-08-27T15:41:57.903400Z"
    }
   },
   "outputs": [
    {
     "name": "stderr",
     "output_type": "stream",
     "text": [
      "In /home/bharris/miniconda3/envs/python3/lib/python3.7/site-packages/matplotlib/mpl-data/stylelib/_classic_test.mplstyle: \n",
      "The savefig.frameon rcparam was deprecated in Matplotlib 3.1 and will be removed in 3.3.\n",
      "In /home/bharris/miniconda3/envs/python3/lib/python3.7/site-packages/matplotlib/mpl-data/stylelib/_classic_test.mplstyle: \n",
      "The verbose.level rcparam was deprecated in Matplotlib 3.1 and will be removed in 3.3.\n",
      "In /home/bharris/miniconda3/envs/python3/lib/python3.7/site-packages/matplotlib/mpl-data/stylelib/_classic_test.mplstyle: \n",
      "The verbose.fileo rcparam was deprecated in Matplotlib 3.1 and will be removed in 3.3.\n"
     ]
    }
   ],
   "source": [
    "import pandas as pd\n",
    "import numpy as np\n",
    "import statsmodels.api as sm\n",
    "import scanpy as sc\n",
    "import bottleneck\n",
    "from scipy import stats\n",
    "from scipy import io\n",
    "import gc\n",
    "import re\n",
    "import matplotlib.pyplot as plt\n",
    "import seaborn as sns\n",
    "\n",
    "sns.set(style='white', font_scale=1.25)\n",
    "plt.rc(\"axes.spines\", top=False, right=False)\n",
    "plt.rc('xtick', bottom=True)\n",
    "plt.rc('ytick', left=True)\n",
    "\n",
    "from itertools import combinations\n",
    "import logging\n",
    "logging.basicConfig(format='%(asctime)s - %(message)s', level=logging.INFO)\n",
    "\n",
    "import networkx as nx\n",
    "\n",
    "%matplotlib inline"
   ]
  },
  {
   "cell_type": "code",
   "execution_count": 2,
   "metadata": {
    "ExecuteTime": {
     "end_time": "2020-08-27T15:42:03.340358Z",
     "start_time": "2020-08-27T15:42:03.307775Z"
    }
   },
   "outputs": [],
   "source": [
    "%load_ext autoreload\n",
    "%autoreload 2"
   ]
  },
  {
   "cell_type": "code",
   "execution_count": 8,
   "metadata": {
    "ExecuteTime": {
     "end_time": "2020-08-27T15:44:33.723498Z",
     "start_time": "2020-08-27T15:44:33.697023Z"
    }
   },
   "outputs": [],
   "source": [
    "import sys\n",
    "sys.path.append('/home/bharris/biccn_paper/scripts/')\n",
    "sys.path.append('/home/bharris/Correlation_Coexpression/scripts/')\n"
   ]
  },
  {
   "cell_type": "code",
   "execution_count": 14,
   "metadata": {
    "ExecuteTime": {
     "end_time": "2020-08-27T15:47:12.291764Z",
     "start_time": "2020-08-27T15:47:12.250156Z"
    }
   },
   "outputs": [],
   "source": [
    "from rank import rank\n",
    "from egad import run_egad\n",
    "from egad_by_gene import run_egad_gene_score\n",
    "\n",
    "import biccn_nw_perf_funcs as perf\n",
    "import load_pearson_networks"
   ]
  },
  {
   "cell_type": "code",
   "execution_count": 12,
   "metadata": {
    "ExecuteTime": {
     "end_time": "2020-08-27T15:46:41.721675Z",
     "start_time": "2020-08-27T15:46:41.688570Z"
    }
   },
   "outputs": [],
   "source": [
    "import matplotlib\n",
    "matplotlib.rcParams['pdf.fonttype'] = 42\n",
    "matplotlib.rcParams['ps.fonttype'] = 42"
   ]
  },
  {
   "cell_type": "code",
   "execution_count": 30,
   "metadata": {
    "ExecuteTime": {
     "end_time": "2020-08-27T15:52:47.741319Z",
     "start_time": "2020-08-27T15:52:47.714476Z"
    }
   },
   "outputs": [],
   "source": [
    "import logging\n",
    "logging.basicConfig(format='%(asctime)s - %(message)s', level=logging.INFO)"
   ]
  },
  {
   "cell_type": "markdown",
   "metadata": {},
   "source": [
    "## Load Data"
   ]
  },
  {
   "cell_type": "code",
   "execution_count": 11,
   "metadata": {
    "ExecuteTime": {
     "end_time": "2020-08-27T15:44:51.326901Z",
     "start_time": "2020-08-27T15:44:51.301003Z"
    }
   },
   "outputs": [],
   "source": [
    "dataset_dict = perf.dataset_dict\n",
    "genes = perf.genes"
   ]
  },
  {
   "cell_type": "code",
   "execution_count": 66,
   "metadata": {
    "ExecuteTime": {
     "end_time": "2020-08-27T16:28:27.179221Z",
     "start_time": "2020-08-27T16:28:27.138906Z"
    }
   },
   "outputs": [],
   "source": [
    "markers = pd.read_csv('/home/bharris/biccn_paper/data/stephan_marker_nw.csv',\n",
    "                      index_col=0)\n",
    "markers.drop(['GABAergic', 'Glutamatergic', 'Non.Neuronal','L6.IT.Car3'],\n",
    "             axis=1,\n",
    "             inplace=True)\n",
    "fix_subclass = np.vectorize(lambda x: x.replace('.', '_'))\n",
    "markers.columns = fix_subclass(markers.columns)\n",
    "\n",
    "markers.rename(columns={\n",
    "    'L5_6_NP': 'L5.6_NP',\n",
    "    'L2_3_IT': 'L2.3_IT'\n",
    "},\n",
    "               inplace=True)\n",
    "subclasses = markers.columns"
   ]
  },
  {
   "cell_type": "code",
   "execution_count": 51,
   "metadata": {
    "ExecuteTime": {
     "end_time": "2020-08-27T16:19:37.620425Z",
     "start_time": "2020-08-27T16:19:37.591587Z"
    }
   },
   "outputs": [],
   "source": [
    "nws_path = '/home/bharris/biccn_paper/data/networks/aggregate/coexpression_nw_subclass_label_'"
   ]
  },
  {
   "cell_type": "markdown",
   "metadata": {},
   "source": [
    "## Subclass Specific Co-expression"
   ]
  },
  {
   "cell_type": "code",
   "execution_count": 52,
   "metadata": {
    "ExecuteTime": {
     "end_time": "2020-08-27T16:19:38.520957Z",
     "start_time": "2020-08-27T16:19:38.489878Z"
    }
   },
   "outputs": [],
   "source": [
    "is_marker = pd.DataFrame(markers.astype(bool).any(axis=1).astype(float))"
   ]
  },
  {
   "cell_type": "code",
   "execution_count": 53,
   "metadata": {
    "ExecuteTime": {
     "end_time": "2020-08-27T16:19:38.696782Z",
     "start_time": "2020-08-27T16:19:38.667103Z"
    }
   },
   "outputs": [],
   "source": [
    "vip_genes = genes[markers['Vip'].astype(bool)]"
   ]
  },
  {
   "cell_type": "code",
   "execution_count": 67,
   "metadata": {
    "ExecuteTime": {
     "end_time": "2020-08-27T16:30:20.120376Z",
     "start_time": "2020-08-27T16:28:33.875564Z"
    },
    "scrolled": true
   },
   "outputs": [
    {
     "name": "stderr",
     "output_type": "stream",
     "text": [
      "2020-08-27 12:28:33,906 - L5_IT\n",
      "2020-08-27 12:28:42,615 - Vip\n",
      "2020-08-27 12:28:51,397 - L5.6_NP\n",
      "2020-08-27 12:29:00,106 - L6_IT\n",
      "2020-08-27 12:29:08,610 - L2.3_IT\n",
      "2020-08-27 12:29:17,583 - L6b\n",
      "2020-08-27 12:29:28,015 - L6_CT\n",
      "2020-08-27 12:29:37,022 - Sncg\n",
      "2020-08-27 12:29:45,903 - Sst\n",
      "2020-08-27 12:29:54,610 - Lamp5\n",
      "2020-08-27 12:30:03,142 - Pvalb\n",
      "2020-08-27 12:30:11,510 - L5_ET\n"
     ]
    }
   ],
   "source": [
    "subclass_perf = []\n",
    "subclass_by_gene_perf = []\n",
    "vip_nws = {}\n",
    "for subclass in subclasses:\n",
    "    logging.info(subclass)\n",
    "    if subclass=='L5_6_NP':\n",
    "        subclass = 'L5.6_NP'\n",
    "    nw = pd.read_hdf(f'{nws_path}{subclass}_unranked.hdf5', 'nw')\n",
    "    rank(nw.values)\n",
    "    perf = run_egad(markers, nw)['AUC']\n",
    "    perf.name = subclass\n",
    "    subclass_perf.append(perf)\n",
    "\n",
    "    res = run_egad_gene_score(is_marker, nw)[0]\n",
    "    res.name = subclass\n",
    "    subclass_by_gene_perf.append(res)\n",
    "    vip_nws[subclass] = nw.loc[vip_genes, vip_genes]\n",
    "    del nw\n",
    "    gc.collect()"
   ]
  },
  {
   "cell_type": "code",
   "execution_count": 72,
   "metadata": {
    "ExecuteTime": {
     "end_time": "2020-08-27T16:33:07.195734Z",
     "start_time": "2020-08-27T16:33:07.164812Z"
    }
   },
   "outputs": [],
   "source": [
    "subclass_order = np.sort(subclasses)"
   ]
  },
  {
   "cell_type": "code",
   "execution_count": 117,
   "metadata": {
    "ExecuteTime": {
     "end_time": "2020-08-27T17:01:43.792450Z",
     "start_time": "2020-08-27T17:01:43.560475Z"
    }
   },
   "outputs": [
    {
     "data": {
      "image/png": "[encoded data removed]",
      "text/plain": [
       "<Figure size 432x288 with 2 Axes>"
      ]
     },
     "metadata": {
      "needs_background": "light"
     },
     "output_type": "display_data"
    }
   ],
   "source": [
    "ax=sns.heatmap(pd.concat(subclass_perf,\n",
    "                      axis=1).loc[subclass_order, subclass_order],\n",
    "            cmap='GnBu')\n",
    "labels_func = np.vectorize(lambda x: x.replace('_', '.'))\n",
    "ax.set_xticklabels(labels_func(subclass_order))\n",
    "ax.set_yticklabels(labels_func(subclass_order))\n",
    "plt.show()"
   ]
  },
  {
   "cell_type": "code",
   "execution_count": 121,
   "metadata": {
    "ExecuteTime": {
     "end_time": "2020-08-28T13:47:40.085315Z",
     "start_time": "2020-08-28T13:47:38.221355Z"
    },
    "code_folding": [],
    "scrolled": false
   },
   "outputs": [
    {
     "data": {
      "image/png": "[encoded data removed]",
      "text/plain": [
       "<Figure size 720x432 with 2 Axes>"
      ]
     },
     "metadata": {
      "needs_background": "light"
     },
     "output_type": "display_data"
    }
   ],
   "source": [
    "by_gene = pd.concat(subclass_by_gene_perf, axis=1)\n",
    "\n",
    "by_gene.dropna(inplace=True)\n",
    "fig, ax = plt.subplots(figsize=(10, 6))\n",
    "sns.heatmap(\n",
    "    by_gene.loc[by_gene.mean(axis=1).sort_values().index, subclass_order],\n",
    "    cmap='Blues',\n",
    "    yticklabels=False,\n",
    "    ax=ax)\n",
    "ax.set(ylabel='Marker Genes', xlabel='Co-expression Network')\n",
    "labels_func = np.vectorize(lambda x: x.replace('_', '.'))\n",
    "ax.set_xticklabels(labels_func(subclass_order))\n",
    "plt.tight_layout()\n",
    "plt.savefig('/home/bharris/biccn_paper/figures/supp6B.pdf', transparent=True)"
   ]
  },
  {
   "cell_type": "code",
   "execution_count": 110,
   "metadata": {
    "ExecuteTime": {
     "end_time": "2020-08-27T16:59:27.237836Z",
     "start_time": "2020-08-27T16:59:27.206895Z"
    }
   },
   "outputs": [],
   "source": [
    "\n",
    "    "
   ]
  }
 ],
 "metadata": {
  "kernelspec": {
   "display_name": "Python 3",
   "language": "python",
   "name": "python3"
  },
  "language_info": {
   "codemirror_mode": {
    "name": "ipython",
    "version": 3
   },
   "file_extension": ".py",
   "mimetype": "text/x-python",
   "name": "python",
   "nbconvert_exporter": "python",
   "pygments_lexer": "ipython3",
   "version": "3.7.0"
  },
  "latex_envs": {
   "LaTeX_envs_menu_present": true,
   "autoclose": false,
   "autocomplete": true,
   "bibliofile": "biblio.bib",
   "cite_by": "apalike",
   "current_citInitial": 1,
   "eqLabelWithNumbers": true,
   "eqNumInitial": 1,
   "hotkeys": {
    "equation": "Ctrl-E",
    "itemize": "Ctrl-I"
   },
   "labels_anchors": false,
   "latex_user_defs": false,
   "report_style_numbering": false,
   "user_envs_cfg": false
  },
  "toc": {
   "base_numbering": 1,
   "nav_menu": {},
   "number_sections": true,
   "sideBar": true,
   "skip_h1_title": false,
   "title_cell": "Table of Contents",
   "title_sidebar": "Contents",
   "toc_cell": false,
   "toc_position": {},
   "toc_section_display": true,
   "toc_window_display": false
  }
 },
 "nbformat": 4,
 "nbformat_minor": 2
}
