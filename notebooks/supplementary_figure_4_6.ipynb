{
 "cells": [
  {
   "cell_type": "markdown",
   "metadata": {},
   "source": [
    "This notebook will create gene lists used to build networks. To build the gene lists I will take all pairs of subclasses and compute constituitievely expressed genes within those 2 subclasses within each dataset and then use the recurrent list to build Cluster, Subclass and Class label networks.\n",
    "\n",
    "It also includes the pseudobulk analysis\n"
   ]
  },
  {
   "cell_type": "markdown",
   "metadata": {},
   "source": [
    "## Imports"
   ]
  },
  {
   "cell_type": "code",
   "execution_count": 1,
   "metadata": {
    "ExecuteTime": {
     "end_time": "2020-12-28T18:33:17.439139Z",
     "start_time": "2020-12-28T18:33:15.680791Z"
    }
   },
   "outputs": [],
   "source": [
    "import numpy as np\n",
    "import pandas as pd\n",
    "import gc\n",
    "import scanpy as sc\n",
    "\n",
    "import seaborn as sns\n",
    "import matplotlib.pyplot as plt\n",
    "from itertools import product\n",
    "\n",
    "\n",
    "from scipy import spatial, cluster\n",
    "import joypy\n",
    "\n",
    "from egad import run_egad\n",
    "import pymn\n",
    "from rank import rank"
   ]
  },
  {
   "cell_type": "code",
   "execution_count": 2,
   "metadata": {
    "ExecuteTime": {
     "end_time": "2020-12-28T18:33:17.444421Z",
     "start_time": "2020-12-28T18:33:17.441524Z"
    }
   },
   "outputs": [],
   "source": [
    "import logging\n",
    "logging.basicConfig(format='%(asctime)s - %(message)s', level=logging.INFO)"
   ]
  },
  {
   "cell_type": "code",
   "execution_count": 3,
   "metadata": {
    "ExecuteTime": {
     "end_time": "2020-12-28T18:33:17.451514Z",
     "start_time": "2020-12-28T18:33:17.446481Z"
    }
   },
   "outputs": [],
   "source": [
    "#These save characters as text in PDFs\n",
    "import matplotlib\n",
    "from move_seaborn_legend import move_legend\n",
    "matplotlib.rcParams['pdf.fonttype'] = 42\n",
    "matplotlib.rcParams['ps.fonttype'] = 42\n",
    "\n",
    "#These change plot aesthetics\n",
    "\n",
    "sns.set(style='white', font_scale=1.25)\n",
    "plt.rc(\"axes.spines\", top=False, right=False)\n",
    "plt.rc('xtick', bottom=True)\n",
    "plt.rc('ytick', left=True)"
   ]
  },
  {
   "cell_type": "code",
   "execution_count": 4,
   "metadata": {
    "ExecuteTime": {
     "end_time": "2020-12-28T18:33:17.483974Z",
     "start_time": "2020-12-28T18:33:17.453290Z"
    }
   },
   "outputs": [],
   "source": [
    "import sys\n",
    "sys.path.append('/home/bharris/biccn_paper/scripts/')\n",
    "\n",
    "import load_pearson_networks"
   ]
  },
  {
   "cell_type": "code",
   "execution_count": 5,
   "metadata": {
    "ExecuteTime": {
     "end_time": "2020-12-28T18:33:17.524482Z",
     "start_time": "2020-12-28T18:33:17.485751Z"
    }
   },
   "outputs": [],
   "source": [
    "%load_ext autoreload\n",
    "%autoreload 2\n",
    "%matplotlib inline"
   ]
  },
  {
   "cell_type": "markdown",
   "metadata": {},
   "source": [
    "## Functions"
   ]
  },
  {
   "cell_type": "code",
   "execution_count": 22,
   "metadata": {
    "ExecuteTime": {
     "end_time": "2020-12-28T18:49:01.180330Z",
     "start_time": "2020-12-28T18:49:01.141077Z"
    }
   },
   "outputs": [],
   "source": [
    "def read_markers(subclass):\n",
    "    subclass = subclass.replace('_', '.')\n",
    "    return pd.read_csv(\n",
    "        f'/tyronedata/fischer/de_lists/{subclass}_markers_de.txt',\n",
    "        index_col=0,\n",
    "        comment='#',\n",
    "        delimiter=' ')"
   ]
  },
  {
   "cell_type": "code",
   "execution_count": 23,
   "metadata": {
    "ExecuteTime": {
     "end_time": "2020-12-28T18:49:01.206211Z",
     "start_time": "2020-12-28T18:49:01.182338Z"
    }
   },
   "outputs": [],
   "source": [
    "def create_empty_network(genes):\n",
    "    return np.zeros([genes.shape[0], genes.shape[0]])"
   ]
  },
  {
   "cell_type": "code",
   "execution_count": 24,
   "metadata": {
    "ExecuteTime": {
     "end_time": "2020-12-28T18:49:01.233370Z",
     "start_time": "2020-12-28T18:49:01.207906Z"
    }
   },
   "outputs": [],
   "source": [
    "def aggregate_networks(datasets, level, genes_name, genes):\n",
    "    nws_path = '/home/bharris/biccn_paper/data/subclass_pairs_analysis/networks/'\n",
    "    agg_nw = create_empty_network(genes)\n",
    "    for dataset in datasets:\n",
    "        if dataset == 'macosko_10x_nuc_v3':\n",
    "            nw = pd.read_hdf(\n",
    "                f'{nws_path}macosko_MOp_v3_gene_list_{genes_name}_{level}_aggregated.hdf5',\n",
    "                'nw')\n",
    "        else:\n",
    "            nw = pd.read_hdf(\n",
    "                f'{nws_path}{dataset}_object_gene_list_{genes_name}_{level}_aggregated.hdf5',\n",
    "                'nw')\n",
    "        agg_nw += nw.values\n",
    "        del nw\n",
    "        gc.collect()\n",
    "    rank(agg_nw)\n",
    "    return pd.DataFrame(agg_nw, index=genes, columns=genes)"
   ]
  },
  {
   "cell_type": "code",
   "execution_count": 25,
   "metadata": {
    "ExecuteTime": {
     "end_time": "2020-12-28T18:49:01.260455Z",
     "start_time": "2020-12-28T18:49:01.234907Z"
    }
   },
   "outputs": [],
   "source": [
    "def get_marker_dummies(selected_genes, min_auroc = .6):\n",
    "    top_markers = all_markers[all_markers.gene.isin(\n",
    "        selected_genes)].sort_values(\n",
    "            ['subclass', 'recurrence', 'average_auroc'],\n",
    "            ascending=[True, False, False\n",
    "                       ]).groupby('subclass').head(100).reset_index(drop=True)\n",
    "    top_markers = top_markers.query(f'average_auroc >= {min_auroc}')\n",
    "    marker_dummies = pd.get_dummies(\n",
    "        top_markers.set_index('gene')['subclass']).reset_index().groupby(\n",
    "            'gene').sum().reindex(selected_genes).fillna(0)\n",
    "    return marker_dummies"
   ]
  },
  {
   "cell_type": "markdown",
   "metadata": {},
   "source": [
    "## Load Data"
   ]
  },
  {
   "cell_type": "code",
   "execution_count": 6,
   "metadata": {
    "ExecuteTime": {
     "end_time": "2020-12-28T18:33:23.631312Z",
     "start_time": "2020-12-28T18:33:23.603261Z"
    }
   },
   "outputs": [],
   "source": [
    "dataset_dict = pd.read_csv(\n",
    "    '/home/bharris/biccn_paper/data/dataset_dict_biccn_sets_7.csv',\n",
    "    index_col=0).to_dict()"
   ]
  },
  {
   "cell_type": "code",
   "execution_count": 7,
   "metadata": {
    "ExecuteTime": {
     "end_time": "2020-12-28T18:33:23.794724Z",
     "start_time": "2020-12-28T18:33:23.766308Z"
    }
   },
   "outputs": [],
   "source": [
    "subclass_recurrence = pd.read_csv(\n",
    "    '/home/bharris/biccn_paper/data/subclass_recurrence.csv', index_col=0)\n",
    "subclass_recurrence.drop(['Meis2', 'Sst_Chodl'], inplace=True)"
   ]
  },
  {
   "cell_type": "code",
   "execution_count": 8,
   "metadata": {
    "ExecuteTime": {
     "end_time": "2020-12-28T18:33:23.930291Z",
     "start_time": "2020-12-28T18:33:23.906010Z"
    }
   },
   "outputs": [],
   "source": [
    "subclass_pairs = list(\n",
    "    filter(\n",
    "        lambda t: t[0] < t[1],\n",
    "        product(subclass_recurrence.index.values,\n",
    "                subclass_recurrence.index.values)))"
   ]
  },
  {
   "cell_type": "code",
   "execution_count": 9,
   "metadata": {
    "ExecuteTime": {
     "end_time": "2020-12-28T18:33:24.142983Z",
     "start_time": "2020-12-28T18:33:24.052183Z"
    }
   },
   "outputs": [],
   "source": [
    "all_genes = np.genfromtxt(\n",
    "    '/home/bharris/biccn_paper/data/all_dataset_shared_genes.txt', dtype=str)"
   ]
  },
  {
   "cell_type": "code",
   "execution_count": 10,
   "metadata": {
    "ExecuteTime": {
     "end_time": "2020-12-28T18:33:24.450086Z",
     "start_time": "2020-12-28T18:33:24.198898Z"
    }
   },
   "outputs": [],
   "source": [
    "# Build dictionary to store recurrence (subclass1, subclass2) : pd.DataFrame(index=genes,columns=shared_datasets)\n",
    "genes_recurrence = {}\n",
    "for subclass1, subclass2 in subclass_pairs:\n",
    "    shared_datasets = (subclass_recurrence.loc[subclass1]\n",
    "                       & subclass_recurrence.loc[subclass2]).index\n",
    "    genes_recurrence[(subclass1,\n",
    "                      subclass2)] = pd.DataFrame(0,\n",
    "                                                 index=all_genes,\n",
    "                                                 columns=shared_datasets)"
   ]
  },
  {
   "cell_type": "code",
   "execution_count": 11,
   "metadata": {
    "ExecuteTime": {
     "end_time": "2020-12-28T18:33:33.324456Z",
     "start_time": "2020-12-28T18:33:24.452116Z"
    }
   },
   "outputs": [],
   "source": [
    "go_mouse = pd.read_hdf('/home/bharris/GO_data/go_mouse_nw.hdf5', 'go')\n",
    "\n",
    "go_slim = np.genfromtxt('/home/bharris/GO_data/aug4.GOslim', dtype=str)\n",
    "\n",
    "go_mouse_slim = go_mouse[np.intersect1d(go_mouse.columns, go_slim)]"
   ]
  },
  {
   "cell_type": "code",
   "execution_count": 12,
   "metadata": {
    "ExecuteTime": {
     "end_time": "2020-12-28T18:33:33.360836Z",
     "start_time": "2020-12-28T18:33:33.326941Z"
    }
   },
   "outputs": [],
   "source": [
    "gist_earth = sns.color_palette('gist_earth', 3)\n",
    "\n",
    "gist_earth[0] = 'k'\n"
   ]
  },
  {
   "cell_type": "markdown",
   "metadata": {},
   "source": [
    "## Select Genes for Networks"
   ]
  },
  {
   "cell_type": "code",
   "execution_count": null,
   "metadata": {
    "ExecuteTime": {
     "end_time": "2020-12-18T13:24:06.799204Z",
     "start_time": "2020-12-18T13:23:54.394Z"
    },
    "hidden": true
   },
   "outputs": [],
   "source": [
    "# for dataset in dataset_dict:\n",
    "#     logging.info(dataset)\n",
    "#     fn = dataset_dict[dataset]['andata']\n",
    "#     adata = sc.read(fn)\n",
    "#     adata = adata[\n",
    "#         adata.obs.class_label.isin(['GABAergic', 'Glutamatergic']), :]\n",
    "#     adata = adata[:, all_genes]\n",
    "#     for subclass1, subclass2 in subclass_pairs:\n",
    "#         logging.info((subclass1, subclass2))\n",
    "#         if not (subclass_recurrence.loc[subclass1, dataset]\n",
    "#                 & subclass_recurrence.loc[subclass2, dataset]):\n",
    "#             continue\n",
    "#         adata_subclass = adata[adata.obs.subclass_label.isin(\n",
    "#             [subclass1, subclass2])]\n",
    "#         detection = np.ravel((adata_subclass.X > 0).sum(axis=0)) / adata_subclass.shape[0]\n",
    "#         genes_recurrence[(subclass1, subclass2)][dataset] = detection\n",
    "\n",
    "#     del adata, adata_subclass\n",
    "#     gc.collect()"
   ]
  },
  {
   "cell_type": "code",
   "execution_count": null,
   "metadata": {
    "ExecuteTime": {
     "end_time": "2020-12-18T13:24:06.799924Z",
     "start_time": "2020-12-18T13:23:54.396Z"
    },
    "hidden": true
   },
   "outputs": [],
   "source": [
    "# all_selected_genes = pd.DataFrame(index=all_genes)\n",
    "# for subclass1, subclass2 in subclass_pairs:\n",
    "#     selected_genes = (genes_recurrence[(subclass1, subclass2)] > .25).sum(\n",
    "#         axis=1) >= (genes_recurrence[(subclass1, subclass2)].shape[1] - 2)\n",
    "#     all_selected_genes.loc[all_genes[selected_genes.values],\n",
    "#                            f'{subclass1}_{subclass2}'] = 1\n",
    "# all_selected_genes.fillna(0, inplace=True)"
   ]
  },
  {
   "cell_type": "code",
   "execution_count": null,
   "metadata": {
    "ExecuteTime": {
     "end_time": "2020-12-18T13:24:06.800603Z",
     "start_time": "2020-12-18T13:23:54.397Z"
    },
    "hidden": true
   },
   "outputs": [],
   "source": [
    "for dataset in dataset_dict:\n",
    "    logging.info(dataset)\n",
    "    fn = dataset_dict[dataset]['andata']\n",
    "    adata = sc.read(fn)\n",
    "    adata = adata[\n",
    "        adata.obs.class_label.isin(['GABAergic', 'Glutamatergic']), :]\n",
    "    adata = adata[:, all_genes]\n",
    "    for subclass1, subclass2 in subclass_pairs:\n",
    "        logging.info((subclass1, subclass2))\n",
    "        if not (subclass_recurrence.loc[subclass1, dataset]\n",
    "                & subclass_recurrence.loc[subclass2, dataset]):\n",
    "            continue\n",
    "        adata_subclass = adata[adata.obs.subclass_label.isin(\n",
    "            [subclass1, subclass2])]\n",
    "        detection = np.mean(adata_subclass.to_df().values, axis=0)\n",
    "        genes_recurrence[(subclass1, subclass2)][dataset] = detection\n",
    "    del adata, adata_subclass\n",
    "    gc.collect()"
   ]
  },
  {
   "cell_type": "code",
   "execution_count": null,
   "metadata": {
    "ExecuteTime": {
     "end_time": "2020-12-18T13:24:06.801342Z",
     "start_time": "2020-12-18T13:23:54.399Z"
    },
    "hidden": true
   },
   "outputs": [],
   "source": [
    "all_selected_genes = pd.DataFrame(index=all_genes)\n",
    "for subclass1, subclass2 in subclass_pairs:\n",
    "    selected_genes = all_genes[genes_recurrence[(subclass1, subclass2)].rank(\n",
    "        ascending=False).mean(axis=1).rank(ascending=True) <= 4201]\n",
    "    all_selected_genes.loc[selected_genes, f'{subclass1}_{subclass2}'] = 1\n",
    "all_selected_genes.fillna(0, inplace=True)"
   ]
  },
  {
   "cell_type": "code",
   "execution_count": null,
   "metadata": {
    "ExecuteTime": {
     "end_time": "2020-12-18T13:24:06.802027Z",
     "start_time": "2020-12-18T13:23:54.400Z"
    },
    "hidden": true
   },
   "outputs": [],
   "source": [
    "jaccard_selected_genes = all_selected_genes.T @ all_selected_genes\n",
    "\n"
   ]
  },
  {
   "cell_type": "code",
   "execution_count": null,
   "metadata": {
    "ExecuteTime": {
     "end_time": "2020-12-18T13:24:06.802730Z",
     "start_time": "2020-12-18T13:23:54.402Z"
    },
    "hidden": true
   },
   "outputs": [],
   "source": [
    "jac = spatial.distance.squareform(\n",
    "    spatial.distance.pdist(all_selected_genes.values.T, metric='jaccard'))"
   ]
  },
  {
   "cell_type": "code",
   "execution_count": null,
   "metadata": {
    "ExecuteTime": {
     "end_time": "2020-12-18T13:24:06.803429Z",
     "start_time": "2020-12-18T13:23:54.404Z"
    },
    "hidden": true
   },
   "outputs": [],
   "source": [
    "l = pymn.compute_nw_linkage(pd.DataFrame(1-jac))\n",
    "sns.clustermap(1 - jac,\n",
    "               cmap='coolwarm',\n",
    "               vmin=0,\n",
    "               vmax=1,\n",
    "               row_linkage=l,\n",
    "               col_linkage=l)"
   ]
  },
  {
   "cell_type": "code",
   "execution_count": null,
   "metadata": {
    "ExecuteTime": {
     "end_time": "2020-12-18T13:24:06.804112Z",
     "start_time": "2020-12-18T13:23:54.405Z"
    },
    "hidden": true
   },
   "outputs": [],
   "source": [
    "clustered_lists = pd.concat([\n",
    "    pd.Series(cluster.hierarchy.fcluster(l, 10, criterion='maxclust'),\n",
    "              index=all_selected_genes.columns),\n",
    "    all_selected_genes.sum()\n",
    "],\n",
    "                            axis=1)\n",
    "clustered_lists.columns=['Cluster','Size']"
   ]
  },
  {
   "cell_type": "code",
   "execution_count": null,
   "metadata": {
    "ExecuteTime": {
     "end_time": "2020-12-18T13:24:06.804776Z",
     "start_time": "2020-12-18T13:23:54.407Z"
    },
    "hidden": true
   },
   "outputs": [],
   "source": [
    "selected_clusters = clustered_lists.groupby('Cluster').agg(['idxmax', 'max'])['Size']\n",
    "np.savetxt(\n",
    "    '/home/bharris/biccn_paper/data/subclass_pairs_analysis/selected_subclass_pairs.csv',\n",
    "    selected_clusters['idxmax'].values,\n",
    "    fmt='%s')"
   ]
  },
  {
   "cell_type": "code",
   "execution_count": null,
   "metadata": {
    "ExecuteTime": {
     "end_time": "2020-12-18T13:24:06.805471Z",
     "start_time": "2020-12-18T13:23:54.410Z"
    },
    "hidden": true
   },
   "outputs": [],
   "source": [
    "file_names = []\n",
    "for col in selected_clusters['idxmax'].values:\n",
    "    fn = f'/home/bharris/biccn_paper/data/subclass_pairs_analysis/gene_list_{col}.csv'\n",
    "    np.savetxt(fn, all_genes[all_selected_genes[col].astype(bool)], fmt='%s')\n",
    "    file_names.append(fn)\n",
    "np.savetxt(\n",
    "    f'/home/bharris/biccn_paper/data/subclass_pairs_analysis/gene_list_file_names.csv',\n",
    "    file_names,\n",
    "    fmt=\"%s\")"
   ]
  },
  {
   "cell_type": "code",
   "execution_count": null,
   "metadata": {
    "ExecuteTime": {
     "end_time": "2020-12-18T13:24:06.806253Z",
     "start_time": "2020-12-18T13:23:54.411Z"
    },
    "hidden": true
   },
   "outputs": [],
   "source": [
    "sns.clustermap(1 - spatial.distance.squareform(\n",
    "    spatial.distance.pdist(\n",
    "        all_selected_genes[selected_clusters['idxmax'].values].values.T,\n",
    "        metric='jaccard')),\n",
    "            cmap='coolwarm',\n",
    "            vmin=0,\n",
    "            vmax=1,\n",
    "            annot=True,\n",
    "            annot_kws={'fontsize': 7})\n",
    "plt.show()"
   ]
  },
  {
   "cell_type": "markdown",
   "metadata": {},
   "source": [
    "## Evaluate Networks"
   ]
  },
  {
   "cell_type": "code",
   "execution_count": 22,
   "metadata": {
    "ExecuteTime": {
     "end_time": "2020-12-28T16:55:41.456126Z",
     "start_time": "2020-12-28T16:55:41.418207Z"
    }
   },
   "outputs": [],
   "source": [
    "selected_cluster = np.genfromtxt(\n",
    "    '/home/bharris/biccn_paper/data/subclass_pairs_analysis/selected_subclass_pairs.csv',\n",
    "    dtype=str)"
   ]
  },
  {
   "cell_type": "markdown",
   "metadata": {},
   "source": [
    "### Compute Performance for existing publication"
   ]
  },
  {
   "cell_type": "code",
   "execution_count": 67,
   "metadata": {
    "ExecuteTime": {
     "end_time": "2021-01-15T15:51:54.165791Z",
     "start_time": "2021-01-15T15:51:54.131075Z"
    }
   },
   "outputs": [],
   "source": [
    "normal_markers = pd.read_csv(\n",
    "    '/home/bharris/biccn_paper/data/stephan_marker_nw.csv', index_col=0)\n",
    "normal_markers.drop(['GABAergic', 'Glutamatergic', 'Non.Neuronal'],\n",
    "                    axis=1,\n",
    "                    inplace=True)"
   ]
  },
  {
   "cell_type": "code",
   "execution_count": 19,
   "metadata": {
    "ExecuteTime": {
     "end_time": "2020-12-28T16:55:38.820972Z",
     "start_time": "2020-12-28T16:51:39.964399Z"
    }
   },
   "outputs": [
    {
     "name": "stderr",
     "output_type": "stream",
     "text": [
      "2020-12-28 11:51:39,986 - zeng_10x_cell\n",
      "2020-12-28 11:52:04,995 - zeng_10x_nuc\n",
      "2020-12-28 11:52:30,313 - zeng_smart_cell\n",
      "2020-12-28 11:52:55,079 - zeng_smart_nuc\n",
      "2020-12-28 11:53:19,875 - zeng_10x_cell_v3\n",
      "2020-12-28 11:53:45,083 - zeng_10x_nuc_v3\n",
      "2020-12-28 11:54:11,205 - macosko_10x_nuc_v3\n"
     ]
    }
   ],
   "source": [
    "pearson_nws = load_pearson_networks.load_all_networks()"
   ]
  },
  {
   "cell_type": "code",
   "execution_count": 20,
   "metadata": {
    "ExecuteTime": {
     "end_time": "2020-12-28T16:55:40.946847Z",
     "start_time": "2020-12-28T16:55:38.823067Z"
    }
   },
   "outputs": [],
   "source": [
    "cl_norm = run_egad(normal_markers, pearson_nws['class_label']['aggregate'])\n",
    "cl_norm['level'] = \"class_label\"\n",
    "\n",
    "scl_norm = run_egad(normal_markers, pearson_nws['subclass_label']['aggregate'])\n",
    "scl_norm['level'] = \"subclass_label\"\n",
    "\n",
    "jcl_norm = run_egad(normal_markers,\n",
    "                    pearson_nws['joint_cluster_label']['aggregate'])\n",
    "jcl_norm['level'] = \"joint_cluster_label\"\n",
    "normal_performance = pd.concat([cl_norm, scl_norm, jcl_norm])\n",
    "normal_performance['genes_size'] = pearson_nws['joint_cluster_label'][\n",
    "    'aggregate'].shape[0]\n",
    "\n",
    "norm_performance = normal_performance.groupby('level').mean().reset_index()[[\n",
    "    'level', 'AUC', 'genes_size'\n",
    "]]\n",
    "norm_performance['list_type'] = 'Highly Expressed'"
   ]
  },
  {
   "cell_type": "markdown",
   "metadata": {},
   "source": [
    "### Compute performance using new markers"
   ]
  },
  {
   "cell_type": "code",
   "execution_count": 24,
   "metadata": {
    "ExecuteTime": {
     "end_time": "2020-12-28T16:56:15.801221Z",
     "start_time": "2020-12-28T16:56:15.760395Z"
    }
   },
   "outputs": [],
   "source": [
    "all_marker_performances = pd.read_csv(\n",
    "    '/home/bharris/biccn_paper/data/subclass_pairs_analysis/agg_nws_markers_perf.csv.gz',\n",
    "    index_col=0)\n",
    "\n",
    "avg_auroc = all_marker_performances.groupby(['gene_list', 'level'\n",
    "                                             ])['AUC'].mean().reset_index()"
   ]
  },
  {
   "cell_type": "code",
   "execution_count": 25,
   "metadata": {
    "ExecuteTime": {
     "end_time": "2020-12-28T16:56:17.944365Z",
     "start_time": "2020-12-28T16:56:17.896546Z"
    }
   },
   "outputs": [
    {
     "data": {
      "text/html": [
       "<div>\n",
       "<style scoped>\n",
       "    .dataframe tbody tr th:only-of-type {\n",
       "        vertical-align: middle;\n",
       "    }\n",
       "\n",
       "    .dataframe tbody tr th {\n",
       "        vertical-align: top;\n",
       "    }\n",
       "\n",
       "    .dataframe thead th {\n",
       "        text-align: right;\n",
       "    }\n",
       "</style>\n",
       "<table border=\"1\" class=\"dataframe\">\n",
       "  <thead>\n",
       "    <tr style=\"text-align: right;\">\n",
       "      <th></th>\n",
       "      <th>AUC</th>\n",
       "    </tr>\n",
       "    <tr>\n",
       "      <th>level</th>\n",
       "      <th></th>\n",
       "    </tr>\n",
       "  </thead>\n",
       "  <tbody>\n",
       "    <tr>\n",
       "      <th>class_label</th>\n",
       "      <td>0.871690</td>\n",
       "    </tr>\n",
       "    <tr>\n",
       "      <th>subclass_label</th>\n",
       "      <td>0.689813</td>\n",
       "    </tr>\n",
       "    <tr>\n",
       "      <th>cluster_label</th>\n",
       "      <td>0.659769</td>\n",
       "    </tr>\n",
       "  </tbody>\n",
       "</table>\n",
       "</div>"
      ],
      "text/plain": [
       "                     AUC\n",
       "level                   \n",
       "class_label     0.871690\n",
       "subclass_label  0.689813\n",
       "cluster_label   0.659769"
      ]
     },
     "execution_count": 25,
     "metadata": {},
     "output_type": "execute_result"
    }
   ],
   "source": [
    "avg_auroc.groupby('level').mean().rename({\n",
    "    'joint_cluster_label': 'cluster_label'\n",
    "}).iloc[[0, 2, 1]]"
   ]
  },
  {
   "cell_type": "code",
   "execution_count": 27,
   "metadata": {
    "ExecuteTime": {
     "end_time": "2020-12-28T16:56:27.860762Z",
     "start_time": "2020-12-28T16:56:27.833211Z"
    }
   },
   "outputs": [],
   "source": [
    "avg_auroc['list_type'] = 'Subclass Pair'\n",
    "\n",
    "subclass_performance = pd.concat([avg_auroc, norm_performance])"
   ]
  },
  {
   "cell_type": "code",
   "execution_count": 41,
   "metadata": {
    "ExecuteTime": {
     "end_time": "2020-12-28T16:59:10.014386Z",
     "start_time": "2020-12-28T16:59:09.551108Z"
    }
   },
   "outputs": [
    {
     "data": {
      "image/png": "[encoded data removed]",
      "text/plain": [
       "<Figure size 534x360 with 1 Axes>"
      ]
     },
     "metadata": {
      "needs_background": "light"
     },
     "output_type": "display_data"
    }
   ],
   "source": [
    "g = sns.displot(avg_auroc,\n",
    "                x='AUC',\n",
    "                hue='level',\n",
    "                kind='kde',\n",
    "                fill=True,\n",
    "                palette=gist_earth)\n",
    "for i in range(3):\n",
    "    g.ax.axvline(norm_performance.iloc[i, 1], c=gist_earth[i], ls='--')\n",
    "g.set_xlabels('Avg AUROC of Markers in each network')\n",
    "plt.savefig(\n",
    "    '/home/bharris/biccn_paper/figures/resub/two_subclass_markers_perf.pdf',\n",
    "    transparent=True)"
   ]
  },
  {
   "cell_type": "markdown",
   "metadata": {},
   "source": [
    "## Evaluate GO performance on the networks\n"
   ]
  },
  {
   "cell_type": "markdown",
   "metadata": {},
   "source": [
    "### Compute Performance for exisitng Networks"
   ]
  },
  {
   "cell_type": "code",
   "execution_count": 32,
   "metadata": {
    "ExecuteTime": {
     "end_time": "2020-12-28T16:57:14.714567Z",
     "start_time": "2020-12-28T16:57:11.863539Z"
    }
   },
   "outputs": [],
   "source": [
    "c_go_norm = run_egad(go_mouse_slim, pearson_nws['class_label']['aggregate'])\n",
    "c_go_norm['level'] = \"class_label\"\n",
    "\n",
    "sc_go_norm = run_egad(go_mouse_slim,\n",
    "                      pearson_nws['subclass_label']['aggregate'])\n",
    "sc_go_norm['level'] = \"subclass_label\"\n",
    "\n",
    "jc_go_norm = run_egad(go_mouse_slim,\n",
    "                      pearson_nws['joint_cluster_label']['aggregate'])\n",
    "jc_go_norm['level'] = \"joint_cluster_label\"\n",
    "normal_go_performance = pd.concat([c_go_norm, sc_go_norm, jc_go_norm])\n",
    "normal_go_performance['genes_size'] = pearson_nws['joint_cluster_label'][\n",
    "    'aggregate'].shape[0]\n",
    "\n",
    "norm_go_perf = normal_go_performance.groupby('level').mean().reset_index()[[\n",
    "    'level', 'AUC', 'genes_size'\n",
    "]]\n",
    "norm_go_perf['list_type'] = 'Highly Expressed'"
   ]
  },
  {
   "cell_type": "markdown",
   "metadata": {},
   "source": [
    "### Compute performance for new networks"
   ]
  },
  {
   "cell_type": "code",
   "execution_count": 34,
   "metadata": {
    "ExecuteTime": {
     "end_time": "2020-12-28T16:57:16.870171Z",
     "start_time": "2020-12-28T16:57:16.825565Z"
    }
   },
   "outputs": [],
   "source": [
    "all_go_performances = pd.read_csv(\n",
    "    '/home/bharris/biccn_paper/data/subclass_pairs_analysis/agg_nws_go_perf.csv.gz',\n",
    "    index_col=0)"
   ]
  },
  {
   "cell_type": "code",
   "execution_count": 35,
   "metadata": {
    "ExecuteTime": {
     "end_time": "2020-12-28T16:57:21.597841Z",
     "start_time": "2020-12-28T16:57:21.568676Z"
    }
   },
   "outputs": [],
   "source": [
    "avg_go = all_go_performances.groupby(['gene_list', 'level']).mean()['AUC'].reset_index()\n",
    "\n",
    "avg_go['list_type'] = 'Subclass Pair'"
   ]
  },
  {
   "cell_type": "code",
   "execution_count": 36,
   "metadata": {
    "ExecuteTime": {
     "end_time": "2020-12-28T16:57:22.620401Z",
     "start_time": "2020-12-28T16:57:22.589839Z"
    }
   },
   "outputs": [
    {
     "data": {
      "text/html": [
       "<div>\n",
       "<style scoped>\n",
       "    .dataframe tbody tr th:only-of-type {\n",
       "        vertical-align: middle;\n",
       "    }\n",
       "\n",
       "    .dataframe tbody tr th {\n",
       "        vertical-align: top;\n",
       "    }\n",
       "\n",
       "    .dataframe thead th {\n",
       "        text-align: right;\n",
       "    }\n",
       "</style>\n",
       "<table border=\"1\" class=\"dataframe\">\n",
       "  <thead>\n",
       "    <tr style=\"text-align: right;\">\n",
       "      <th></th>\n",
       "      <th>AUC</th>\n",
       "    </tr>\n",
       "    <tr>\n",
       "      <th>level</th>\n",
       "      <th></th>\n",
       "    </tr>\n",
       "  </thead>\n",
       "  <tbody>\n",
       "    <tr>\n",
       "      <th>class_label</th>\n",
       "      <td>0.592067</td>\n",
       "    </tr>\n",
       "    <tr>\n",
       "      <th>subclass_label</th>\n",
       "      <td>0.591336</td>\n",
       "    </tr>\n",
       "    <tr>\n",
       "      <th>cluster_label</th>\n",
       "      <td>0.588926</td>\n",
       "    </tr>\n",
       "  </tbody>\n",
       "</table>\n",
       "</div>"
      ],
      "text/plain": [
       "                     AUC\n",
       "level                   \n",
       "class_label     0.592067\n",
       "subclass_label  0.591336\n",
       "cluster_label   0.588926"
      ]
     },
     "execution_count": 36,
     "metadata": {},
     "output_type": "execute_result"
    }
   ],
   "source": [
    "avg_go.groupby('level').mean().rename({\n",
    "    'joint_cluster_label': 'cluster_label'\n",
    "}).iloc[[0, 2, 1]]"
   ]
  },
  {
   "cell_type": "code",
   "execution_count": 40,
   "metadata": {
    "ExecuteTime": {
     "end_time": "2020-12-28T16:58:18.368218Z",
     "start_time": "2020-12-28T16:58:17.998773Z"
    }
   },
   "outputs": [
    {
     "name": "stderr",
     "output_type": "stream",
     "text": [
      "/home/bharris/miniconda3/envs/python3_base/lib/python3.7/site-packages/ipykernel_launcher.py:12: MatplotlibDeprecationWarning: savefig() got unexpected keyword argument \"tranparent\" which is no longer supported as of 3.3 and will become an error two minor releases later\n",
      "  if sys.path[0] == '':\n"
     ]
    },
    {
     "data": {
      "image/png": "[encoded data removed]",
      "text/plain": [
       "<Figure size 360x360 with 1 Axes>"
      ]
     },
     "metadata": {
      "needs_background": "light"
     },
     "output_type": "display_data"
    }
   ],
   "source": [
    "g = sns.displot(avg_go,\n",
    "                x='AUC',\n",
    "                hue='level',\n",
    "                kind='kde',\n",
    "                fill=True,\n",
    "                palette=gist_earth,\n",
    "                legend=False)\n",
    "for i in range(3):\n",
    "    g.ax.axvline(norm_go_perf.iloc[i, 1], c=gist_earth[i], ls='--')\n",
    "g.set_xlabels('Avg AUROC of GO in each network')\n",
    "plt.savefig('/home/bharris/biccn_paper/figures/resub/two_subclass_GO_perf.pdf',\n",
    "            tranparent=True)"
   ]
  },
  {
   "cell_type": "markdown",
   "metadata": {},
   "source": [
    "## Pseudobulk test (Supplementary Figure 4)"
   ]
  },
  {
   "cell_type": "code",
   "execution_count": 15,
   "metadata": {
    "ExecuteTime": {
     "end_time": "2020-12-28T18:34:02.719562Z",
     "start_time": "2020-12-28T18:34:02.331808Z"
    }
   },
   "outputs": [],
   "source": [
    "df = pd.concat([\n",
    "    pd.read_csv(\n",
    "        f'/home/bharris/biccn_paper/data/pseudobulk/pseudo_bulk_egad_res_{i}.csv.gz',\n",
    "        index_col=0) for i in range(1,101)\n",
    "])"
   ]
  },
  {
   "cell_type": "code",
   "execution_count": 16,
   "metadata": {
    "ExecuteTime": {
     "end_time": "2020-12-28T18:34:02.759193Z",
     "start_time": "2020-12-28T18:34:02.721655Z"
    }
   },
   "outputs": [
    {
     "data": {
      "text/html": [
       "<div>\n",
       "<style scoped>\n",
       "    .dataframe tbody tr th:only-of-type {\n",
       "        vertical-align: middle;\n",
       "    }\n",
       "\n",
       "    .dataframe tbody tr th {\n",
       "        vertical-align: top;\n",
       "    }\n",
       "\n",
       "    .dataframe thead th {\n",
       "        text-align: right;\n",
       "    }\n",
       "</style>\n",
       "<table border=\"1\" class=\"dataframe\">\n",
       "  <thead>\n",
       "    <tr style=\"text-align: right;\">\n",
       "      <th></th>\n",
       "      <th>AUC</th>\n",
       "      <th>AVG_NODE_DEGREE</th>\n",
       "      <th>DEGREE_NULL_AUC</th>\n",
       "      <th>P_Value</th>\n",
       "      <th>run_id</th>\n",
       "    </tr>\n",
       "    <tr>\n",
       "      <th>reference</th>\n",
       "      <th></th>\n",
       "      <th></th>\n",
       "      <th></th>\n",
       "      <th></th>\n",
       "      <th></th>\n",
       "    </tr>\n",
       "  </thead>\n",
       "  <tbody>\n",
       "    <tr>\n",
       "      <th>GO</th>\n",
       "      <td>0.562980</td>\n",
       "      <td>2085.627261</td>\n",
       "      <td>0.516984</td>\n",
       "      <td>0.058082</td>\n",
       "      <td>50.5</td>\n",
       "    </tr>\n",
       "    <tr>\n",
       "      <th>Markers</th>\n",
       "      <td>0.869174</td>\n",
       "      <td>2084.792269</td>\n",
       "      <td>0.434783</td>\n",
       "      <td>0.000092</td>\n",
       "      <td>50.5</td>\n",
       "    </tr>\n",
       "  </tbody>\n",
       "</table>\n",
       "</div>"
      ],
      "text/plain": [
       "                AUC  AVG_NODE_DEGREE  DEGREE_NULL_AUC   P_Value  run_id\n",
       "reference                                                              \n",
       "GO         0.562980      2085.627261         0.516984  0.058082    50.5\n",
       "Markers    0.869174      2084.792269         0.434783  0.000092    50.5"
      ]
     },
     "execution_count": 16,
     "metadata": {},
     "output_type": "execute_result"
    }
   ],
   "source": [
    "df.groupby('reference').mean()"
   ]
  },
  {
   "cell_type": "code",
   "execution_count": 55,
   "metadata": {
    "ExecuteTime": {
     "end_time": "2020-12-28T20:30:01.149383Z",
     "start_time": "2020-12-28T20:30:00.635229Z"
    }
   },
   "outputs": [
    {
     "data": {
      "image/png": "[encoded data removed]",
      "text/plain": [
       "<Figure size 432x288 with 1 Axes>"
      ]
     },
     "metadata": {
      "needs_background": "light"
     },
     "output_type": "display_data"
    }
   ],
   "source": [
    "ax = sns.histplot(df[df.reference == 'GO'].AUC, bins=100, color='.3')\n",
    "ax.axvline(.5, ls='--', c='r')\n",
    "ax.set(xlabel='Pseudobulk Networks GO AUROC')\n",
    "plt.tight_layout()\n",
    "plt.savefig('/home/bharris/biccn_paper/figures/resub/pseduobulk_GO.pdf',\n",
    "            transparent=True)"
   ]
  },
  {
   "cell_type": "code",
   "execution_count": 57,
   "metadata": {
    "ExecuteTime": {
     "end_time": "2020-12-28T20:30:33.931033Z",
     "start_time": "2020-12-28T20:30:33.430634Z"
    }
   },
   "outputs": [
    {
     "data": {
      "image/png": "[encoded data removed]",
      "text/plain": [
       "<Figure size 432x288 with 1 Axes>"
      ]
     },
     "metadata": {
      "needs_background": "light"
     },
     "output_type": "display_data"
    }
   ],
   "source": [
    "ax = sns.histplot(df[df.reference == 'Markers'].AUC, bins=100, color='.3')\n",
    "ax.axvline(.5, ls='--', c='r')\n",
    "ax.set(xlabel='Pseudobulk Networks Markers AUROC')\n",
    "plt.tight_layout()\n",
    "plt.savefig('/home/bharris/biccn_paper/figures/resub/pseduobulk_Markers.pdf',\n",
    "            transparent=True)"
   ]
  }
 ],
 "metadata": {
  "kernelspec": {
   "display_name": "Python 3",
   "language": "python",
   "name": "python3"
  },
  "language_info": {
   "codemirror_mode": {
    "name": "ipython",
    "version": 3
   },
   "file_extension": ".py",
   "mimetype": "text/x-python",
   "name": "python",
   "nbconvert_exporter": "python",
   "pygments_lexer": "ipython3",
   "version": "3.7.9"
  },
  "toc": {
   "base_numbering": 1,
   "nav_menu": {},
   "number_sections": true,
   "sideBar": true,
   "skip_h1_title": false,
   "title_cell": "Table of Contents",
   "title_sidebar": "Contents",
   "toc_cell": false,
   "toc_position": {
    "height": "calc(100% - 180px)",
    "left": "10px",
    "top": "150px",
    "width": "370.797px"
   },
   "toc_section_display": true,
   "toc_window_display": true
  }
 },
 "nbformat": 4,
 "nbformat_minor": 4
}
