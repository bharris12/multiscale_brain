{
 "cells": [
  {
   "cell_type": "markdown",
   "metadata": {},
   "source": [
    "Here I am just looking at sample sizes, building the networks for each dataset and every level of classification"
   ]
  },
  {
   "cell_type": "markdown",
   "metadata": {
    "toc": true
   },
   "source": [
    "<h1>Table of Contents<span class=\"tocSkip\"></span></h1>\n",
    "<div class=\"toc\"><ul class=\"toc-item\"><li><span><a href=\"#Imports\" data-toc-modified-id=\"Imports-1\"><span class=\"toc-item-num\">1&nbsp;&nbsp;</span>Imports</a></span></li><li><span><a href=\"#Functions\" data-toc-modified-id=\"Functions-2\"><span class=\"toc-item-num\">2&nbsp;&nbsp;</span>Functions</a></span></li><li><span><a href=\"#Load-Data\" data-toc-modified-id=\"Load-Data-3\"><span class=\"toc-item-num\">3&nbsp;&nbsp;</span>Load Data</a></span></li><li><span><a href=\"#Check-Sample-Sizes-of-Non-Neuronal-Cell-Types\" data-toc-modified-id=\"Check-Sample-Sizes-of-Non-Neuronal-Cell-Types-4\"><span class=\"toc-item-num\">4&nbsp;&nbsp;</span>Check Sample Sizes of Non-Neuronal Cell Types</a></span></li><li><span><a href=\"#Check-Recurrent-Labels\" data-toc-modified-id=\"Check-Recurrent-Labels-5\"><span class=\"toc-item-num\">5&nbsp;&nbsp;</span>Check Recurrent Labels</a></span></li><li><span><a href=\"#Compute-Aggregate-Networks\" data-toc-modified-id=\"Compute-Aggregate-Networks-6\"><span class=\"toc-item-num\">6&nbsp;&nbsp;</span>Compute Aggregate Networks</a></span></li><li><span><a href=\"#Compute-Aggregate-Networks-without-Zeng_10x_nuc_v3\" data-toc-modified-id=\"Compute-Aggregate-Networks-without-Zeng_10x_nuc_v3-7\"><span class=\"toc-item-num\">7&nbsp;&nbsp;</span>Compute Aggregate Networks without Zeng_10x_nuc_v3</a></span></li><li><span><a href=\"#Compute-Compositional-Networks\" data-toc-modified-id=\"Compute-Compositional-Networks-8\"><span class=\"toc-item-num\">8&nbsp;&nbsp;</span>Compute Compositional Networks</a></span></li><li><span><a href=\"#Compute-Aggregate-Markers\" data-toc-modified-id=\"Compute-Aggregate-Markers-9\"><span class=\"toc-item-num\">9&nbsp;&nbsp;</span>Compute Aggregate Markers</a></span><ul class=\"toc-item\"><li><span><a href=\"#Class-Label\" data-toc-modified-id=\"Class-Label-9.1\"><span class=\"toc-item-num\">9.1&nbsp;&nbsp;</span>Class Label</a></span><ul class=\"toc-item\"><li><span><a href=\"#No-Zeng-10x-Nuc-V3-Markers\" data-toc-modified-id=\"No-Zeng-10x-Nuc-V3-Markers-9.1.1\"><span class=\"toc-item-num\">9.1.1&nbsp;&nbsp;</span>No Zeng 10x Nuc V3 Markers</a></span></li></ul></li><li><span><a href=\"#Subclass_label\" data-toc-modified-id=\"Subclass_label-9.2\"><span class=\"toc-item-num\">9.2&nbsp;&nbsp;</span>Subclass_label</a></span></li><li><span><a href=\"#Cluster-Label\" data-toc-modified-id=\"Cluster-Label-9.3\"><span class=\"toc-item-num\">9.3&nbsp;&nbsp;</span>Cluster Label</a></span></li></ul></li><li><span><a href=\"#Aggregagte-AUROCs\" data-toc-modified-id=\"Aggregagte-AUROCs-10\"><span class=\"toc-item-num\">10&nbsp;&nbsp;</span>Aggregagte AUROCs</a></span></li><li><span><a href=\"#Compute-Aggregates-properly\" data-toc-modified-id=\"Compute-Aggregates-properly-11\"><span class=\"toc-item-num\">11&nbsp;&nbsp;</span>Compute Aggregates properly</a></span></li></ul></div>"
   ]
  },
  {
   "cell_type": "markdown",
   "metadata": {},
   "source": [
    "## Imports"
   ]
  },
  {
   "cell_type": "code",
   "execution_count": 2,
   "metadata": {
    "ExecuteTime": {
     "end_time": "2019-11-13T15:39:32.309135Z",
     "start_time": "2019-11-13T15:39:32.182129Z"
    }
   },
   "outputs": [],
   "source": [
    "import pandas as pd\n",
    "import numpy as np\n",
    "import statsmodels.api as sm\n",
    "import scanpy as sc\n",
    "import bottleneck\n",
    "from scipy import stats\n",
    "import gc\n",
    "\n",
    "import matplotlib.pyplot as plt\n",
    "import seaborn as sns\n",
    "\n",
    "sns.set(style='white', font_scale=1.25)\n",
    "plt.rc(\"axes.spines\", top=False, right=False)\n",
    "plt.rc('xtick', bottom=True)\n",
    "plt.rc('ytick', left=True)\n",
    "\n",
    "from itertools import combinations\n",
    "import logging\n",
    "logging.basicConfig(format='%(asctime)s - %(message)s', level=logging.INFO)\n",
    "\n",
    "\n",
    "import networkx as nx\n",
    "\n",
    "%matplotlib inline"
   ]
  },
  {
   "cell_type": "code",
   "execution_count": 3,
   "metadata": {
    "ExecuteTime": {
     "end_time": "2019-11-13T15:39:33.247228Z",
     "start_time": "2019-11-13T15:39:33.215324Z"
    }
   },
   "outputs": [],
   "source": [
    "import sys\n",
    "sys.path.append('../scripts/')\n",
    "sys.path.append('/home/bharris/Correlation_Coexpression/scripts/')\n",
    "sys.path.append('/home/bharris/vshape/scripts/')"
   ]
  },
  {
   "cell_type": "code",
   "execution_count": 4,
   "metadata": {
    "ExecuteTime": {
     "end_time": "2019-11-11T15:20:53.362694Z",
     "start_time": "2019-11-11T15:20:53.323463Z"
    }
   },
   "outputs": [],
   "source": [
    "%load_ext autoreload\n",
    "%autoreload 2"
   ]
  },
  {
   "cell_type": "code",
   "execution_count": 5,
   "metadata": {
    "ExecuteTime": {
     "end_time": "2019-11-11T15:20:53.397595Z",
     "start_time": "2019-11-11T15:20:53.364582Z"
    }
   },
   "outputs": [],
   "source": [
    "from rank import rank\n",
    "from processify import processify\n",
    "from egad import run_egad\n",
    "from egad_by_gene import run_egad_gene_score"
   ]
  },
  {
   "cell_type": "markdown",
   "metadata": {},
   "source": [
    "## Functions"
   ]
  },
  {
   "cell_type": "markdown",
   "metadata": {},
   "source": [
    "## Load Data"
   ]
  },
  {
   "cell_type": "code",
   "execution_count": 7,
   "metadata": {
    "ExecuteTime": {
     "end_time": "2019-11-11T15:20:57.225028Z",
     "start_time": "2019-11-11T15:20:57.187313Z"
    }
   },
   "outputs": [],
   "source": [
    "dataset_dict = pd.read_csv(\n",
    "    '/home/bharris/biccn_paper/data/dataset_dict_biccn_sets_7.csv',\n",
    "    index_col=0).to_dict()"
   ]
  },
  {
   "cell_type": "code",
   "execution_count": 8,
   "metadata": {
    "ExecuteTime": {
     "end_time": "2019-11-11T15:20:57.616131Z",
     "start_time": "2019-11-11T15:20:57.567739Z"
    }
   },
   "outputs": [],
   "source": [
    "genes = np.genfromtxt(\n",
    "        '/home/bharris/biccn_paper/data/highly_expressed_7_datasets_75k.csv',\n",
    "        dtype=str)"
   ]
  },
  {
   "cell_type": "code",
   "execution_count": 9,
   "metadata": {
    "ExecuteTime": {
     "end_time": "2019-11-14T15:44:54.458845Z",
     "start_time": "2019-11-14T15:44:54.433327Z"
    }
   },
   "outputs": [],
   "source": [
    "nws_path = '/home/bharris/biccn_paper/data/networks/'\n",
    "markers_path = '/home/bharris/biccn_paper/data/de_one_v_all/'"
   ]
  },
  {
   "cell_type": "markdown",
   "metadata": {},
   "source": [
    "## Compute Aggregate Networks"
   ]
  },
  {
   "cell_type": "code",
   "execution_count": 28,
   "metadata": {
    "ExecuteTime": {
     "end_time": "2019-11-22T19:21:44.332021Z",
     "start_time": "2019-11-22T19:21:44.298579Z"
    }
   },
   "outputs": [],
   "source": [
    "cluster_recurrence = pd.read_csv(\n",
    "    '/home/bharris/biccn_paper/data/cluster_recurrence.csv', index_col=0)\n",
    "subclass_recurrence = pd.read_csv(\n",
    "    '/home/bharris/biccn_paper/data/subclass_recurrence.csv', index_col=0)\n",
    "subclass_recurrence.drop(index=['Meis2','Sst_Chodl'],inplace=True)"
   ]
  },
  {
   "cell_type": "code",
   "execution_count": 18,
   "metadata": {
    "ExecuteTime": {
     "end_time": "2019-11-22T19:41:37.796345Z",
     "start_time": "2019-11-22T19:41:37.766292Z"
    }
   },
   "outputs": [],
   "source": [
    "def compute_agg_nw(dataset, meta_level, selected_clusters,name=''):\n",
    "    agg = np.zeros([genes.shape[0], genes.shape[0]])\n",
    "    for cluster in selected_clusters:\n",
    "        nw = pd.read_hdf(\n",
    "            f'{nws_path}{dataset}/coexpression_nw_{meta_level}_{cluster}.hdf5',\n",
    "            'nw')\n",
    "        np.fill_diagonal(nw.values, 1)\n",
    "        agg += nw.values\n",
    "        del nw\n",
    "        gc.collect()\n",
    "    pd.DataFrame(agg, index=genes, columns=genes).to_hdf(\n",
    "        f'{nws_path}{dataset}/pearson_agg_all_{meta_level}{name}.hdf5', 'nw')\n",
    "    "
   ]
  },
  {
   "cell_type": "code",
   "execution_count": 30,
   "metadata": {
    "ExecuteTime": {
     "end_time": "2019-11-22T15:12:40.437581Z",
     "start_time": "2019-11-22T15:08:40.153792Z"
    }
   },
   "outputs": [
    {
     "name": "stderr",
     "output_type": "stream",
     "text": [
      "2020-03-05 13:41:48,364 - zeng_10x_cell\n",
      "2020-03-05 13:41:53,373 - zeng_10x_nuc\n",
      "2020-03-05 13:41:58,276 - zeng_smart_cell\n",
      "2020-03-05 13:42:03,297 - zeng_smart_nuc\n",
      "2020-03-05 13:42:08,005 - zeng_10x_cell_v3\n",
      "2020-03-05 13:42:12,939 - zeng_10x_nuc_v3\n",
      "2020-03-05 13:42:17,998 - macosko_10x_nuc_v3\n"
     ]
    }
   ],
   "source": [
    "for dataset in dataset_dict:\n",
    "    logging.info(dataset)\n",
    "    selected_clusters = cluster_recurrence.index[\n",
    "        cluster_recurrence[dataset].astype(bool).values]\n",
    "#    compute_agg_nw(dataset, 'cluster_label', selected_clusters)\n",
    "    selected_subclass = subclass_recurrence.index[\n",
    "        subclass_recurrence[dataset].astype(bool).values]\n",
    "    compute_agg_nw(dataset, 'subclass_label', selected_subclass)\n",
    "    compute_agg_nw(dataset, 'class_label', ['GABAergic', 'Glutamatergic'])\n",
    "#     selected_joint_clusters = joint_cluster_recurrence.index[joint_cluster_recurrence[dataset].astype(bool).values]\n",
    "#     compute_agg_nw(dataset, 'joint_cluster_label',selected_joint_clusters)"
   ]
  }
 ],
 "metadata": {
  "hide_input": false,
  "kernelspec": {
   "display_name": "Python 3",
   "language": "python",
   "name": "python3"
  },
  "language_info": {
   "codemirror_mode": {
    "name": "ipython",
    "version": 3
   },
   "file_extension": ".py",
   "mimetype": "text/x-python",
   "name": "python",
   "nbconvert_exporter": "python",
   "pygments_lexer": "ipython3",
   "version": "3.7.0"
  },
  "latex_envs": {
   "LaTeX_envs_menu_present": true,
   "autoclose": false,
   "autocomplete": true,
   "bibliofile": "biblio.bib",
   "cite_by": "apalike",
   "current_citInitial": 1,
   "eqLabelWithNumbers": true,
   "eqNumInitial": 1,
   "hotkeys": {
    "equation": "Ctrl-E",
    "itemize": "Ctrl-I"
   },
   "labels_anchors": false,
   "latex_user_defs": false,
   "report_style_numbering": false,
   "user_envs_cfg": false
  },
  "notify_time": "5",
  "output_auto_scroll": false,
  "toc": {
   "base_numbering": 1,
   "nav_menu": {},
   "number_sections": true,
   "sideBar": true,
   "skip_h1_title": true,
   "title_cell": "Table of Contents",
   "title_sidebar": "Contents",
   "toc_cell": true,
   "toc_position": {
    "height": "calc(100% - 180px)",
    "left": "10px",
    "top": "150px",
    "width": "272px"
   },
   "toc_section_display": true,
   "toc_window_display": true
  },
  "widgets": {
   "application/vnd.jupyter.widget-state+json": {
    "state": {},
    "version_major": 2,
    "version_minor": 0
   }
  }
 },
 "nbformat": 4,
 "nbformat_minor": 4
}
