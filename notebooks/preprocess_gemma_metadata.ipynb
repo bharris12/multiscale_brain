{
 "cells": [
  {
   "cell_type": "markdown",
   "metadata": {},
   "source": [
    "Notebook for parsing GEMMA database metadata to identify brain datasets. The metadata file `EETag_Dump.tsv` is the GEMMA metadata aquired directly from the corresponding authors of GEMMA on November 26th, 2019\n",
    "\n",
    "In this analysis we read in the metadata and filtered according to the diagram in Supplementary Figure 3A"
   ]
  },
  {
   "cell_type": "code",
   "execution_count": 1,
   "metadata": {
    "ExecuteTime": {
     "end_time": "2019-12-12T16:44:15.406515Z",
     "start_time": "2019-12-12T16:44:11.667325Z"
    }
   },
   "outputs": [],
   "source": [
    "import pandas as pd\n",
    "import seaborn as sns\n",
    "import matplotlib.pyplot as plt\n",
    "import numpy as np\n",
    "%matplotlib inline"
   ]
  },
  {
   "cell_type": "code",
   "execution_count": 2,
   "metadata": {
    "ExecuteTime": {
     "end_time": "2019-12-12T16:56:15.939724Z",
     "start_time": "2019-12-12T16:56:15.878301Z"
    }
   },
   "outputs": [],
   "source": [
    "metadata_raw = pd.read_csv('/home/bharris/biccn_paper/data/bulk_rna/EETag_Dump.tsv',index_col=0,delimiter='\\t')"
   ]
  },
  {
   "cell_type": "code",
   "execution_count": 3,
   "metadata": {
    "ExecuteTime": {
     "end_time": "2019-12-12T16:56:16.209920Z",
     "start_time": "2019-12-12T16:56:16.201135Z"
    }
   },
   "outputs": [
    {
     "data": {
      "text/html": [
       "<div>\n",
       "<style scoped>\n",
       "    .dataframe tbody tr th:only-of-type {\n",
       "        vertical-align: middle;\n",
       "    }\n",
       "\n",
       "    .dataframe tbody tr th {\n",
       "        vertical-align: top;\n",
       "    }\n",
       "\n",
       "    .dataframe thead th {\n",
       "        text-align: right;\n",
       "    }\n",
       "</style>\n",
       "<table border=\"1\" class=\"dataframe\">\n",
       "  <thead>\n",
       "    <tr style=\"text-align: right;\">\n",
       "      <th></th>\n",
       "      <th>ee.Taxon</th>\n",
       "      <th>ee.NumSample</th>\n",
       "      <th>ad.Name</th>\n",
       "      <th>ad.IsSequencing</th>\n",
       "      <th>ee.TagVal</th>\n",
       "      <th>ee.TagURI</th>\n",
       "    </tr>\n",
       "    <tr>\n",
       "      <th>ee.Name</th>\n",
       "      <th></th>\n",
       "      <th></th>\n",
       "      <th></th>\n",
       "      <th></th>\n",
       "      <th></th>\n",
       "      <th></th>\n",
       "    </tr>\n",
       "  </thead>\n",
       "  <tbody>\n",
       "    <tr>\n",
       "      <th>GSE2018</th>\n",
       "      <td>human</td>\n",
       "      <td>34</td>\n",
       "      <td>GPL96</td>\n",
       "      <td>False</td>\n",
       "      <td>lung</td>\n",
       "      <td>http://purl.obolibrary.org/obo/UBERON_0002048</td>\n",
       "    </tr>\n",
       "    <tr>\n",
       "      <th>GSE2018</th>\n",
       "      <td>human</td>\n",
       "      <td>34</td>\n",
       "      <td>GPL96</td>\n",
       "      <td>False</td>\n",
       "      <td>respiratory epithelial cell</td>\n",
       "      <td>http://purl.obolibrary.org/obo/CL_0002368</td>\n",
       "    </tr>\n",
       "    <tr>\n",
       "      <th>GSE2018</th>\n",
       "      <td>human</td>\n",
       "      <td>34</td>\n",
       "      <td>GPL96</td>\n",
       "      <td>False</td>\n",
       "      <td>Transplanted Organ Complication</td>\n",
       "      <td>http://purl.obolibrary.org/obo/DOID_556</td>\n",
       "    </tr>\n",
       "    <tr>\n",
       "      <th>GSE4523</th>\n",
       "      <td>mouse</td>\n",
       "      <td>6</td>\n",
       "      <td>GPL1261</td>\n",
       "      <td>False</td>\n",
       "      <td>Mfi2 [mouse] antigen p97 (melanoma associated)...</td>\n",
       "      <td>http://purl.org/commons/record/ncbi_gene/30060</td>\n",
       "    </tr>\n",
       "    <tr>\n",
       "      <th>GSE4523</th>\n",
       "      <td>mouse</td>\n",
       "      <td>6</td>\n",
       "      <td>GPL1261</td>\n",
       "      <td>False</td>\n",
       "      <td>Homozygous negative</td>\n",
       "      <td>http://purl.obolibrary.org/obo/TGEMO_00001</td>\n",
       "    </tr>\n",
       "  </tbody>\n",
       "</table>\n",
       "</div>"
      ],
      "text/plain": [
       "        ee.Taxon  ee.NumSample  ad.Name  ad.IsSequencing  \\\n",
       "ee.Name                                                    \n",
       "GSE2018    human            34    GPL96            False   \n",
       "GSE2018    human            34    GPL96            False   \n",
       "GSE2018    human            34    GPL96            False   \n",
       "GSE4523    mouse             6  GPL1261            False   \n",
       "GSE4523    mouse             6  GPL1261            False   \n",
       "\n",
       "                                                 ee.TagVal  \\\n",
       "ee.Name                                                      \n",
       "GSE2018                                               lung   \n",
       "GSE2018                        respiratory epithelial cell   \n",
       "GSE2018                    Transplanted Organ Complication   \n",
       "GSE4523  Mfi2 [mouse] antigen p97 (melanoma associated)...   \n",
       "GSE4523                                Homozygous negative   \n",
       "\n",
       "                                              ee.TagURI  \n",
       "ee.Name                                                  \n",
       "GSE2018   http://purl.obolibrary.org/obo/UBERON_0002048  \n",
       "GSE2018       http://purl.obolibrary.org/obo/CL_0002368  \n",
       "GSE2018         http://purl.obolibrary.org/obo/DOID_556  \n",
       "GSE4523  http://purl.org/commons/record/ncbi_gene/30060  \n",
       "GSE4523      http://purl.obolibrary.org/obo/TGEMO_00001  "
      ]
     },
     "execution_count": 3,
     "metadata": {},
     "output_type": "execute_result"
    }
   ],
   "source": [
    "metadata_raw.head()"
   ]
  },
  {
   "cell_type": "code",
   "execution_count": 4,
   "metadata": {
    "ExecuteTime": {
     "end_time": "2019-12-12T16:56:16.555894Z",
     "start_time": "2019-12-12T16:56:16.526521Z"
    }
   },
   "outputs": [
    {
     "data": {
      "text/plain": [
       "(8115,)"
      ]
     },
     "execution_count": 4,
     "metadata": {},
     "output_type": "execute_result"
    }
   ],
   "source": [
    "np.unique(metadata_raw.index).shape"
   ]
  },
  {
   "cell_type": "code",
   "execution_count": 5,
   "metadata": {
    "ExecuteTime": {
     "end_time": "2019-12-12T16:56:16.916344Z",
     "start_time": "2019-12-12T16:56:16.911090Z"
    }
   },
   "outputs": [],
   "source": [
    "bulk_rna_all = metadata_raw[metadata_raw['ee.NumSample'] >= 20]"
   ]
  },
  {
   "cell_type": "code",
   "execution_count": 6,
   "metadata": {
    "ExecuteTime": {
     "end_time": "2019-12-12T16:56:17.244741Z",
     "start_time": "2019-12-12T16:56:17.225991Z"
    }
   },
   "outputs": [
    {
     "data": {
      "text/plain": [
       "(4876,)"
      ]
     },
     "execution_count": 6,
     "metadata": {},
     "output_type": "execute_result"
    }
   ],
   "source": [
    "np.unique(bulk_rna_all.index).shape"
   ]
  },
  {
   "cell_type": "code",
   "execution_count": 7,
   "metadata": {
    "ExecuteTime": {
     "end_time": "2019-12-12T16:56:17.592092Z",
     "start_time": "2019-12-12T16:56:17.588431Z"
    }
   },
   "outputs": [],
   "source": [
    "bulk_rna_all = bulk_rna_all[bulk_rna_all['ad.IsSequencing']]"
   ]
  },
  {
   "cell_type": "code",
   "execution_count": 8,
   "metadata": {
    "ExecuteTime": {
     "end_time": "2019-12-12T16:56:17.911771Z",
     "start_time": "2019-12-12T16:56:17.907595Z"
    }
   },
   "outputs": [
    {
     "data": {
      "text/plain": [
       "(300,)"
      ]
     },
     "execution_count": 8,
     "metadata": {},
     "output_type": "execute_result"
    }
   ],
   "source": [
    "np.unique(bulk_rna_all.index).shape"
   ]
  },
  {
   "cell_type": "code",
   "execution_count": 9,
   "metadata": {
    "ExecuteTime": {
     "end_time": "2019-12-12T16:56:24.838345Z",
     "start_time": "2019-12-12T16:56:24.834725Z"
    }
   },
   "outputs": [],
   "source": [
    "bulk_rna_all = bulk_rna_all[bulk_rna_all['ee.Taxon']=='mouse']"
   ]
  },
  {
   "cell_type": "code",
   "execution_count": 10,
   "metadata": {
    "ExecuteTime": {
     "end_time": "2019-12-12T16:56:25.368859Z",
     "start_time": "2019-12-12T16:56:25.365128Z"
    }
   },
   "outputs": [
    {
     "data": {
      "text/plain": [
       "(210,)"
      ]
     },
     "execution_count": 10,
     "metadata": {},
     "output_type": "execute_result"
    }
   ],
   "source": [
    "np.unique(bulk_rna_all.index).shape"
   ]
  },
  {
   "cell_type": "code",
   "execution_count": 11,
   "metadata": {
    "ExecuteTime": {
     "end_time": "2019-11-26T21:27:14.225891Z",
     "start_time": "2019-11-26T21:27:14.223866Z"
    }
   },
   "outputs": [],
   "source": [
    "maybe_terms = ['astrocyte','microglial cell','neuron stem cell','glial cell']"
   ]
  },
  {
   "cell_type": "code",
   "execution_count": null,
   "metadata": {
    "ExecuteTime": {
     "end_time": "2019-11-26T21:27:15.314836Z",
     "start_time": "2019-11-26T21:27:15.297244Z"
    }
   },
   "outputs": [],
   "source": [
    "bulk_rna_all[bulk_rna_all['ee.TagVal'].isin(terms)].reset_index().drop_duplicates('ee.Name')"
   ]
  },
  {
   "cell_type": "code",
   "execution_count": 13,
   "metadata": {
    "ExecuteTime": {
     "end_time": "2019-11-26T21:20:19.410264Z",
     "start_time": "2019-11-26T21:20:19.406244Z"
    }
   },
   "outputs": [
    {
     "data": {
      "text/plain": [
       "22"
      ]
     },
     "execution_count": 13,
     "metadata": {},
     "output_type": "execute_result"
    }
   ],
   "source": [
    "(bulk_rna_all['ee.TagVal'] =='brain').sum()"
   ]
  },
  {
   "cell_type": "code",
   "execution_count": 14,
   "metadata": {
    "ExecuteTime": {
     "end_time": "2019-11-26T21:19:23.778425Z",
     "start_time": "2019-11-26T21:19:23.775221Z"
    }
   },
   "outputs": [],
   "source": [
    "terms = [\n",
    "    'brain', 'cerebellum', 'cerebral cortex', 'striatum', 'prefrontal cortex',\n",
    "    'neuron', 'frontal cortex', 'amygdala', 'hypothalamus',\n",
    "    'CA1 field of hippocampus', 'neocortex', 'striatum',\n",
    "    'arcuate nucleus of hypothalamus',\n",
    "    'dentate gyrus of hippocampal formation', 'neuron of cerebral cortex',\n",
    "    'cerebellar cortex', 'primary visual cortex', 'preoptic area',\n",
    "    'dorsomedial nucleus of hypothalamus', 'pons',\n",
    "    'ventromedial nucleus of hypothalamus', 'CA3 field of hippocampus',\n",
    "    'hippocampus','Pvalb [mouse] parvalbumin','dentate gyrus polymorphic layer','primary motor cortex','somatosensory cortex','forebrain'\n",
    "]"
   ]
  },
  {
   "cell_type": "code",
   "execution_count": 15,
   "metadata": {
    "ExecuteTime": {
     "end_time": "2019-11-26T21:28:14.004748Z",
     "start_time": "2019-11-26T21:28:14.000044Z"
    }
   },
   "outputs": [
    {
     "data": {
      "text/plain": [
       "(591,)"
      ]
     },
     "execution_count": 15,
     "metadata": {},
     "output_type": "execute_result"
    }
   ],
   "source": [
    "bulk_rna_all['ee.TagVal'].value_counts().index.shape"
   ]
  },
  {
   "cell_type": "code",
   "execution_count": 16,
   "metadata": {
    "ExecuteTime": {
     "end_time": "2019-12-12T17:01:44.672190Z",
     "start_time": "2019-12-12T17:01:44.631536Z"
    },
    "scrolled": true
   },
   "outputs": [
    {
     "name": "stdout",
     "output_type": "stream",
     "text": [
      "brain\n",
      "cerebral cortex\n",
      "CA1 field of hippocampus\n",
      "prefrontal cortex\n",
      "frontal cortex\n",
      "hypothalamus\n",
      "neuron of cerebral cortex\n",
      "visual cortex\n",
      "dentate gyrus of hippocampal formation\n",
      "neocortex\n",
      "arcuate nucleus of hypothalamus\n",
      "ventromedial nucleus of hypothalamus\n",
      "Traumatic brain injury\n",
      "brainstem\n",
      "dorsomedial nucleus of hypothalamus\n",
      "paraventricular nucleus of hypothalamus\n",
      "CA3 field of hippocampus\n",
      "anterior lateral motor cortex\n",
      "hippocampal formation\n",
      "entorhinal cortex layer 6\n",
      "cerebellar cortex\n",
      "entorhinal cortex\n",
      "dentate gyrus of hippocampal formation granule cell\n",
      "forebrain\n",
      "primary visual cortex\n",
      "embryonic brain\n",
      "primary motor cortex\n",
      "hippocampus\n",
      "somatosensory cortex\n",
      "central gray substance of midbrain\n"
     ]
    }
   ],
   "source": [
    "search_terms = []\n",
    "for i in bulk_rna_all['ee.TagVal'].value_counts().index.values:\n",
    "    if 'cortex' in i:\n",
    "        print(i)\n",
    "        search_terms.append(i)\n",
    "    elif 'brain' in i:\n",
    "        print(i)\n",
    "        search_terms.append(i)\n",
    "    elif 'hypothalamus' in i:\n",
    "        print(i)\n",
    "        search_terms.append(i)\n",
    "    elif 'hippocampus' in i:\n",
    "        print(i)\n",
    "        search_terms.append(i)\n",
    "    elif 'hippocampal' in i:\n",
    "        print(i)\n",
    "        search_terms.append(i)"
   ]
  },
  {
   "cell_type": "code",
   "execution_count": 17,
   "metadata": {
    "ExecuteTime": {
     "end_time": "2019-12-12T17:01:57.459166Z",
     "start_time": "2019-12-12T17:01:57.455115Z"
    }
   },
   "outputs": [
    {
     "data": {
      "text/plain": [
       "30"
      ]
     },
     "execution_count": 17,
     "metadata": {},
     "output_type": "execute_result"
    }
   ],
   "source": [
    "len(search_terms)"
   ]
  },
  {
   "cell_type": "code",
   "execution_count": 18,
   "metadata": {
    "ExecuteTime": {
     "end_time": "2019-11-26T21:38:46.229039Z",
     "start_time": "2019-11-26T21:38:46.226971Z"
    }
   },
   "outputs": [],
   "source": [
    "search_terms.remove('Traumatic brain injury')\n",
    "search_terms.remove('embryonic brain')"
   ]
  },
  {
   "cell_type": "code",
   "execution_count": 19,
   "metadata": {
    "ExecuteTime": {
     "end_time": "2019-11-26T21:38:47.108245Z",
     "start_time": "2019-11-26T21:38:47.102285Z"
    }
   },
   "outputs": [],
   "source": [
    "selected_datasets = bulk_rna_all[bulk_rna_all['ee.TagVal'].isin(\n",
    "    search_terms)].reset_index().drop_duplicates('ee.Name')"
   ]
  },
  {
   "cell_type": "code",
   "execution_count": 20,
   "metadata": {
    "ExecuteTime": {
     "end_time": "2019-11-26T21:38:47.703146Z",
     "start_time": "2019-11-26T21:38:47.682715Z"
    },
    "scrolled": true
   },
   "outputs": [
    {
     "name": "stdout",
     "output_type": "stream",
     "text": [
      "C57BL/6\n",
      "brain\n",
      "C57BL/6J\n",
      "Homozygous negative\n",
      "male\n",
      "cerebral cortex\n",
      "[SUBSET]\n",
      "female\n",
      "Adult\n",
      "Overexpression\n",
      "RNA-seq of coding RNA\n",
      "CA1 field of hippocampus\n",
      "neuron\n",
      "prefrontal cortex\n",
      "cerebellum\n",
      "heart\n",
      "liver\n",
      "frontal cortex\n",
      "Heterozygous\n",
      "Ammon's horn\n",
      "FVB\n",
      "hypothalamus\n",
      "microglial cell\n",
      "APP [human] amyloid beta (A4) precursor protein\n",
      "astrocyte\n",
      "lung\n",
      "embryo stage\n",
      "dentate gyrus of hippocampal formation\n",
      "PSEN1 [human] presenilin 1\n",
      "neuron of cerebral cortex\n",
      "kidney\n",
      "arcuate nucleus of hypothalamus\n",
      "neocortex\n",
      "Alzheimer's disease\n",
      "testis\n",
      "visual cortex\n",
      "[Sample Study]\n",
      "brainstem\n",
      "adrenal gland\n",
      "fasting\n",
      "Traumatic brain injury\n",
      "ventromedial nucleus of hypothalamus\n",
      "embryonic stem cell\n",
      "spleen\n",
      "thymus\n",
      "neuronal stem cell\n",
      "lipopolysaccharide\n",
      "dorsomedial nucleus of hypothalamus\n",
      "schizophrenia\n",
      "129/Sv\n",
      "paraventricular nucleus of hypothalamus\n",
      "Tardbp [mouse] TAR DNA binding protein\n",
      "high fat diet\n",
      "neonate\n",
      "radial glial cell\n",
      "infant\n",
      "late adult stage\n",
      "HTT [human] huntingtin\n",
      "vastus lateralis\n",
      "Pvalb [mouse] parvalbumin\n",
      "olfactory bulb\n",
      "nuclear RNA extract\n",
      "CA3 field of hippocampus\n",
      "Spinal Muscular Atrophy\n",
      "NPC\n",
      "aorta\n",
      "Usp15 [mouse] ubiquitin specific peptidase 15\n",
      "pons\n",
      "Prdm16 [mouse] PR domain containing 16\n",
      "large intestine\n",
      "medulla oblongata\n",
      "Mbnl2 [mouse] muscleblind-like 2\n",
      "ESC derived cell line\n",
      "central gray substance of midbrain\n",
      "Csnk1e [rat] casein kinase 1, epsilon\n",
      "subiculum\n",
      "mutation\n",
      "5 months\n",
      "median eminence of neurohypophysis\n",
      "dorsal\n",
      "Gad2 [mouse] glutamic acid decarboxylase 2\n",
      "collateral sprouting of injured axon\n",
      "total RNA\n",
      "corticospinal tract\n",
      "Slc1a1 [mouse] solute carrier family 1 (neuronal/epithelial high affinity glutamate transporter, system Xag), member 1\n",
      "pregnancy\n",
      "E14.5\n",
      "Itgam [mouse] integrin alpha M\n",
      "small intestine\n",
      "ventral\n",
      "Kat2a [mouse] K(lysine) acetyltransferase 2A\n",
      "ethanol\n",
      "pyramidal layer of CA1\n",
      "Smn1 [mouse] survival motor neuron 1\n",
      "Immunodepletion\n",
      "neonate stage\n",
      "spinal cord\n",
      "oligodendrocyte\n",
      "CBA\n",
      "C57BL\n",
      "frontal lobe\n",
      "hippocampal formation\n",
      "post-traumatic stress disorder\n",
      "Mef2c [mouse] myocyte enhancer factor 2C\n",
      "Rbfox3 [mouse] RNA binding protein, fox-1 homolog (C. elegans) 3\n",
      "BALB/c\n",
      "exercise\n",
      "sRNA-Seq\n",
      "somatosensory cortex\n",
      "inhibitory neuron\n",
      "motor neuron\n",
      "brown adipose tissue\n",
      "basal\n",
      "Phf8 [mouse] PHD finger protein 8\n",
      "Grn [mouse] granulin\n",
      "water\n",
      "mammary gland\n",
      "C57BL/6J x FVB\n",
      "Sprague Dawley\n",
      "Snord116 [mouse] small nucleolar RNA, C/D box 116 cluster\n",
      "potassium\n",
      "anterior lateral motor cortex\n",
      "teratoma\n",
      "primary motor cortex\n",
      "Cdkn2a [mouse] cyclin-dependent kinase inhibitor 2A\n",
      "cell body\n",
      "cerebellar cortex\n",
      "129/Ola\n",
      "Vip [mouse] vasoactive intestinal polypeptide\n",
      "Plasmodium berghei\n",
      "postnatal subventricular zone\n",
      "forskolin\n",
      "Htt [mouse] huntingtin\n",
      "cerebrovascular disease\n",
      "Rtn4r [mouse] reticulon 4 receptor\n",
      "RNA-seq of total RNA\n",
      "embryo\n",
      "colon\n",
      "Satb2 [mouse] special AT-rich sequence binding protein 2\n",
      "thalamus\n",
      "excitatory neuron\n",
      "Rett Syndrome\n",
      "dentate gyrus polymorphic layer\n",
      "amyotrophic lateral sclerosis\n",
      "129s2/SvPas\n",
      "Mbnl1 [mouse] muscleblind-like 1 (Drosophila)\n",
      "Ifnar1 [mouse] interferon (alpha and beta) receptor 1\n",
      "experimental autoimmune encephalomyelitis\n",
      "Mir132 [mouse] microRNA 132\n",
      "valproic acid\n",
      "pyramidal layer of CA3\n",
      "Mir212 [mouse] microRNA 212\n",
      "ventral striatum\n",
      "vorinostat\n",
      "neuropil\n",
      "blood\n",
      "primary visual cortex\n",
      "TREM2 [human] triggering receptor expressed on myeloid cells 2\n",
      "APOE [human] apolipoprotein E\n",
      "duodenum\n",
      "Knockdown\n",
      "placenta\n",
      "Fmn2 [mouse] formin 2\n",
      "3,3',5'-triiodothyronine\n",
      "Alcoholism\n",
      "entorhinal cortex layer 6\n",
      "hippocampus\n",
      "129\n",
      "20 months\n",
      "Nrros [mouse] negative regulator of reactive oxygen species\n",
      "pyramidal neuron\n",
      "129/OlaHsd\n",
      "pyramidal layer of CA2\n",
      "Gfap [mouse] glial fibrillary acidic protein\n",
      "Elavl1 [mouse] ELAV (embryonic lethal, abnormal vision, Drosophila)-like 1 (Hu antigen R)\n",
      "chronic alcoholic intoxication\n",
      "preoptic area\n",
      "cycloheximide\n",
      "Prader-Willi syndrome\n",
      "Cck [mouse] cholecystokinin\n",
      "gonadal fat pad\n",
      "embryonic brain\n",
      "ischemia\n",
      "subcutaneous adipose tissue\n",
      "forebrain\n",
      "cerebral malaria\n",
      "GRO-seq\n",
      "limb\n",
      "female gonad\n",
      "epididymal fat pad\n",
      "gastrocnemius\n",
      "RCB0987 cell\n",
      "apical\n",
      "macrophage\n",
      "Bmp4 [mouse] bone morphogenetic protein 4\n",
      "superior colliculus\n",
      "entorhinal cortex\n",
      "Mecp2 [mouse] methyl CpG binding protein 2\n",
      "Cdr1 [mouse] cerebellar degeneration related antigen 1\n",
      "Circumventricular Hypothalamus (CVH)\n",
      "encephalomyelitis\n",
      "stomach\n",
      "SMN2 [human] survival of motor neuron 2, centromeric\n",
      "central nervous system\n",
      "juvenile stage\n",
      "saline\n",
      "dentate gyrus of hippocampal formation granule cell\n",
      "nicotine\n",
      "Sst [mouse] somatostatin\n",
      "Bmi1 [mouse] Bmi1 polycomb ring finger oncogene\n",
      "calcium(2+)\n",
      "urinary bladder\n",
      "striatum\n",
      "Emx1 [mouse] empty spiracles homeobox 1\n",
      "Ifnb1 [mouse] interferon beta 1, fibroblast\n",
      "Trim25 [mouse] tripartite motif-containing 25\n",
      "nucleus accumbens\n"
     ]
    }
   ],
   "source": [
    "for i in metadata_raw.loc[selected_datasets['ee.Name']]['ee.TagVal'].value_counts().index:\n",
    "    print(i)"
   ]
  },
  {
   "cell_type": "code",
   "execution_count": 21,
   "metadata": {
    "ExecuteTime": {
     "end_time": "2019-11-26T21:38:49.062752Z",
     "start_time": "2019-11-26T21:38:49.057058Z"
    }
   },
   "outputs": [
    {
     "data": {
      "text/plain": [
       "Index(['GSE90988', 'GSE83474', 'GSE95649'], dtype='object', name='ee.Name')"
      ]
     },
     "execution_count": 21,
     "metadata": {},
     "output_type": "execute_result"
    }
   ],
   "source": [
    "metadata_raw[metadata_raw['ee.TagVal'].isin(['GRO-seq','sRNA-Seq'])].index"
   ]
  },
  {
   "cell_type": "code",
   "execution_count": 22,
   "metadata": {
    "ExecuteTime": {
     "end_time": "2019-11-26T21:59:41.200632Z",
     "start_time": "2019-11-26T21:59:41.184756Z"
    }
   },
   "outputs": [
    {
     "data": {
      "text/html": [
       "<div>\n",
       "<style scoped>\n",
       "    .dataframe tbody tr th:only-of-type {\n",
       "        vertical-align: middle;\n",
       "    }\n",
       "\n",
       "    .dataframe tbody tr th {\n",
       "        vertical-align: top;\n",
       "    }\n",
       "\n",
       "    .dataframe thead th {\n",
       "        text-align: right;\n",
       "    }\n",
       "</style>\n",
       "<table border=\"1\" class=\"dataframe\">\n",
       "  <thead>\n",
       "    <tr style=\"text-align: right;\">\n",
       "      <th></th>\n",
       "      <th>ee.Taxon</th>\n",
       "      <th>ee.NumSample</th>\n",
       "      <th>ad.Name</th>\n",
       "      <th>ad.IsSequencing</th>\n",
       "      <th>ee.TagVal</th>\n",
       "      <th>ee.TagURI</th>\n",
       "    </tr>\n",
       "    <tr>\n",
       "      <th>ee.Name</th>\n",
       "      <th></th>\n",
       "      <th></th>\n",
       "      <th></th>\n",
       "      <th></th>\n",
       "      <th></th>\n",
       "      <th></th>\n",
       "    </tr>\n",
       "  </thead>\n",
       "  <tbody>\n",
       "    <tr>\n",
       "      <th>GSE65770</th>\n",
       "      <td>mouse</td>\n",
       "      <td>168</td>\n",
       "      <td>Generic_mouse_ensemblIds</td>\n",
       "      <td>True</td>\n",
       "      <td>cerebral cortex</td>\n",
       "      <td>http://purl.obolibrary.org/obo/UBERON_0000956</td>\n",
       "    </tr>\n",
       "    <tr>\n",
       "      <th>GSE75386</th>\n",
       "      <td>mouse</td>\n",
       "      <td>108</td>\n",
       "      <td>Generic_mouse_ncbiIds</td>\n",
       "      <td>True</td>\n",
       "      <td>hippocampus</td>\n",
       "      <td>http://purl.obolibrary.org/obo/EHDAA2_0004443</td>\n",
       "    </tr>\n",
       "    <tr>\n",
       "      <th>GSE54651</th>\n",
       "      <td>mouse</td>\n",
       "      <td>96</td>\n",
       "      <td>Generic_mouse_ensemblIds</td>\n",
       "      <td>True</td>\n",
       "      <td>hypothalamus</td>\n",
       "      <td>http://purl.obolibrary.org/obo/UBERON_0001898</td>\n",
       "    </tr>\n",
       "    <tr>\n",
       "      <th>GSE77243</th>\n",
       "      <td>mouse</td>\n",
       "      <td>75</td>\n",
       "      <td>Generic_mouse_ensemblIds</td>\n",
       "      <td>True</td>\n",
       "      <td>visual cortex</td>\n",
       "      <td>http://purl.obolibrary.org/obo/UBERON_0000411</td>\n",
       "    </tr>\n",
       "    <tr>\n",
       "      <th>GSE104775</th>\n",
       "      <td>mouse</td>\n",
       "      <td>72</td>\n",
       "      <td>Generic_mouse_ensemblIds</td>\n",
       "      <td>True</td>\n",
       "      <td>cerebral cortex</td>\n",
       "      <td>http://purl.obolibrary.org/obo/UBERON_0000956</td>\n",
       "    </tr>\n",
       "    <tr>\n",
       "      <th>...</th>\n",
       "      <td>...</td>\n",
       "      <td>...</td>\n",
       "      <td>...</td>\n",
       "      <td>...</td>\n",
       "      <td>...</td>\n",
       "      <td>...</td>\n",
       "    </tr>\n",
       "    <tr>\n",
       "      <th>GSE99353</th>\n",
       "      <td>mouse</td>\n",
       "      <td>20</td>\n",
       "      <td>Generic_mouse_ensemblIds</td>\n",
       "      <td>True</td>\n",
       "      <td>frontal cortex</td>\n",
       "      <td>http://purl.obolibrary.org/obo/UBERON_0001870</td>\n",
       "    </tr>\n",
       "    <tr>\n",
       "      <th>GSE96938</th>\n",
       "      <td>mouse</td>\n",
       "      <td>20</td>\n",
       "      <td>Generic_mouse_ensemblIds</td>\n",
       "      <td>True</td>\n",
       "      <td>brain</td>\n",
       "      <td>http://purl.obolibrary.org/obo/UBERON_0000955</td>\n",
       "    </tr>\n",
       "    <tr>\n",
       "      <th>GSE103194</th>\n",
       "      <td>mouse</td>\n",
       "      <td>20</td>\n",
       "      <td>Generic_mouse_ensemblIds</td>\n",
       "      <td>True</td>\n",
       "      <td>brain</td>\n",
       "      <td>http://purl.obolibrary.org/obo/UBERON_0000955</td>\n",
       "    </tr>\n",
       "    <tr>\n",
       "      <th>GSE102204</th>\n",
       "      <td>mouse</td>\n",
       "      <td>20</td>\n",
       "      <td>Generic_mouse_ensemblIds</td>\n",
       "      <td>True</td>\n",
       "      <td>brain</td>\n",
       "      <td>http://purl.obolibrary.org/obo/UBERON_0000955</td>\n",
       "    </tr>\n",
       "    <tr>\n",
       "      <th>GSE119182</th>\n",
       "      <td>mouse</td>\n",
       "      <td>20</td>\n",
       "      <td>Generic_mouse_ensemblIds</td>\n",
       "      <td>True</td>\n",
       "      <td>anterior lateral motor cortex</td>\n",
       "      <td>NaN</td>\n",
       "    </tr>\n",
       "  </tbody>\n",
       "</table>\n",
       "<p>61 rows × 6 columns</p>\n",
       "</div>"
      ],
      "text/plain": [
       "          ee.Taxon  ee.NumSample                   ad.Name  ad.IsSequencing  \\\n",
       "ee.Name                                                                       \n",
       "GSE65770     mouse           168  Generic_mouse_ensemblIds             True   \n",
       "GSE75386     mouse           108     Generic_mouse_ncbiIds             True   \n",
       "GSE54651     mouse            96  Generic_mouse_ensemblIds             True   \n",
       "GSE77243     mouse            75  Generic_mouse_ensemblIds             True   \n",
       "GSE104775    mouse            72  Generic_mouse_ensemblIds             True   \n",
       "...            ...           ...                       ...              ...   \n",
       "GSE99353     mouse            20  Generic_mouse_ensemblIds             True   \n",
       "GSE96938     mouse            20  Generic_mouse_ensemblIds             True   \n",
       "GSE103194    mouse            20  Generic_mouse_ensemblIds             True   \n",
       "GSE102204    mouse            20  Generic_mouse_ensemblIds             True   \n",
       "GSE119182    mouse            20  Generic_mouse_ensemblIds             True   \n",
       "\n",
       "                               ee.TagVal  \\\n",
       "ee.Name                                    \n",
       "GSE65770                 cerebral cortex   \n",
       "GSE75386                     hippocampus   \n",
       "GSE54651                    hypothalamus   \n",
       "GSE77243                   visual cortex   \n",
       "GSE104775                cerebral cortex   \n",
       "...                                  ...   \n",
       "GSE99353                  frontal cortex   \n",
       "GSE96938                           brain   \n",
       "GSE103194                          brain   \n",
       "GSE102204                          brain   \n",
       "GSE119182  anterior lateral motor cortex   \n",
       "\n",
       "                                               ee.TagURI  \n",
       "ee.Name                                                   \n",
       "GSE65770   http://purl.obolibrary.org/obo/UBERON_0000956  \n",
       "GSE75386   http://purl.obolibrary.org/obo/EHDAA2_0004443  \n",
       "GSE54651   http://purl.obolibrary.org/obo/UBERON_0001898  \n",
       "GSE77243   http://purl.obolibrary.org/obo/UBERON_0000411  \n",
       "GSE104775  http://purl.obolibrary.org/obo/UBERON_0000956  \n",
       "...                                                  ...  \n",
       "GSE99353   http://purl.obolibrary.org/obo/UBERON_0001870  \n",
       "GSE96938   http://purl.obolibrary.org/obo/UBERON_0000955  \n",
       "GSE103194  http://purl.obolibrary.org/obo/UBERON_0000955  \n",
       "GSE102204  http://purl.obolibrary.org/obo/UBERON_0000955  \n",
       "GSE119182                                            NaN  \n",
       "\n",
       "[61 rows x 6 columns]"
      ]
     },
     "execution_count": 22,
     "metadata": {},
     "output_type": "execute_result"
    }
   ],
   "source": [
    "final_datasets = selected_datasets.set_index('ee.Name').drop(\n",
    "    ['GSE83474', 'GSE95649'], axis=0).sort_values('ee.NumSample',\n",
    "                                                  ascending=False)\n",
    "final_datasets"
   ]
  },
  {
   "cell_type": "code",
   "execution_count": 23,
   "metadata": {
    "ExecuteTime": {
     "end_time": "2019-11-26T21:59:53.892136Z",
     "start_time": "2019-11-26T21:59:53.722231Z"
    }
   },
   "outputs": [
    {
     "data": {
      "image/png": "[encoded data removed]",
      "text/plain": [
       "<Figure size 432x288 with 1 Axes>"
      ]
     },
     "metadata": {
      "needs_background": "light"
     },
     "output_type": "display_data"
    }
   ],
   "source": [
    "sns.distplot(final_datasets['ee.NumSample'], kde=False)\n",
    "sns.despine()\n",
    "plt.show()"
   ]
  },
  {
   "cell_type": "code",
   "execution_count": 124,
   "metadata": {
    "ExecuteTime": {
     "end_time": "2019-11-26T22:01:16.632212Z",
     "start_time": "2019-11-26T22:01:16.629032Z"
    }
   },
   "outputs": [],
   "source": [
    "np.savetxt(\n",
    "    '/home/bharris/biccn_paper/data/bulk_rna/selected_gemma_datasets.txt',\n",
    "    final_datasets.index.values,\n",
    "    fmt='%s')"
   ]
  }
 ],
 "metadata": {
  "kernelspec": {
   "display_name": "Python 3",
   "language": "python",
   "name": "python3"
  },
  "language_info": {
   "codemirror_mode": {
    "name": "ipython",
    "version": 3
   },
   "file_extension": ".py",
   "mimetype": "text/x-python",
   "name": "python",
   "nbconvert_exporter": "python",
   "pygments_lexer": "ipython3",
   "version": "3.7.0"
  },
  "latex_envs": {
   "LaTeX_envs_menu_present": true,
   "autoclose": false,
   "autocomplete": true,
   "bibliofile": "biblio.bib",
   "cite_by": "apalike",
   "current_citInitial": 1,
   "eqLabelWithNumbers": true,
   "eqNumInitial": 1,
   "hotkeys": {
    "equation": "Ctrl-E",
    "itemize": "Ctrl-I"
   },
   "labels_anchors": false,
   "latex_user_defs": false,
   "report_style_numbering": false,
   "user_envs_cfg": false
  },
  "toc": {
   "base_numbering": 1,
   "nav_menu": {},
   "number_sections": true,
   "sideBar": true,
   "skip_h1_title": false,
   "title_cell": "Table of Contents",
   "title_sidebar": "Contents",
   "toc_cell": false,
   "toc_position": {},
   "toc_section_display": true,
   "toc_window_display": false
  },
  "widgets": {
   "application/vnd.jupyter.widget-state+json": {
    "state": {},
    "version_major": 2,
    "version_minor": 0
   }
  }
 },
 "nbformat": 4,
 "nbformat_minor": 4
}
