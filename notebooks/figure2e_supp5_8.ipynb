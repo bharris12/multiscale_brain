{
 "cells": [
  {
   "cell_type": "markdown",
   "metadata": {},
   "source": [
    "In this notebook we first plot the results of the downsampling experiement, which are supplemetnary figure 4\n",
    "\n",
    "Then we plot network modules for Figure 3f and the cross module performances in 3g-h and supplementary figure 5"
   ]
  },
  {
   "cell_type": "markdown",
   "metadata": {},
   "source": [
    "## Imports"
   ]
  },
  {
   "cell_type": "code",
   "execution_count": 1,
   "metadata": {
    "ExecuteTime": {
     "end_time": "2020-01-09T18:27:48.287227Z",
     "start_time": "2020-01-09T18:27:46.596664Z"
    }
   },
   "outputs": [],
   "source": [
    "import pandas as pd\n",
    "import numpy as np\n",
    "import statsmodels.api as sm\n",
    "import scanpy as sc\n",
    "import bottleneck\n",
    "from scipy import stats\n",
    "from scipy import io\n",
    "import gc\n",
    "import re\n",
    "import matplotlib.pyplot as plt\n",
    "import matplotlib.patches as mpatches\n",
    "import seaborn as sns\n",
    "import joypy\n",
    "from shutil import copyfile\n",
    "\n",
    "sns.set(style='white', font_scale=1.25)\n",
    "plt.rc(\"axes.spines\", top=False, right=False)\n",
    "plt.rc('xtick', bottom=True)\n",
    "plt.rc('ytick', left=True)\n",
    "\n",
    "from itertools import combinations\n",
    "import logging\n",
    "logging.basicConfig(format='%(asctime)s - %(message)s', level=logging.INFO)\n",
    "\n",
    "import networkx as nx\n",
    "\n",
    "%matplotlib inline"
   ]
  },
  {
   "cell_type": "code",
   "execution_count": 2,
   "metadata": {
    "ExecuteTime": {
     "end_time": "2020-01-09T18:27:48.292943Z",
     "start_time": "2020-01-09T18:27:48.289789Z"
    }
   },
   "outputs": [],
   "source": [
    "import matplotlib\n",
    "matplotlib.rcParams['pdf.fonttype'] = 42\n",
    "matplotlib.rcParams['ps.fonttype'] = 42"
   ]
  },
  {
   "cell_type": "code",
   "execution_count": 3,
   "metadata": {
    "ExecuteTime": {
     "end_time": "2020-01-09T18:27:48.297982Z",
     "start_time": "2020-01-09T18:27:48.295151Z"
    }
   },
   "outputs": [],
   "source": [
    "import sys\n",
    "sys.path.append('../scripts/')\n",
    "sys.path.append('/home/bharris/Correlation_Coexpression/scripts/')\n",
    "sys.path.append('/home/bharris/vshape/scripts/')"
   ]
  },
  {
   "cell_type": "code",
   "execution_count": 4,
   "metadata": {
    "ExecuteTime": {
     "end_time": "2020-01-09T18:27:48.349004Z",
     "start_time": "2020-01-09T18:27:48.299658Z"
    }
   },
   "outputs": [],
   "source": [
    "%load_ext autoreload\n",
    "%autoreload 2"
   ]
  },
  {
   "cell_type": "code",
   "execution_count": 5,
   "metadata": {
    "ExecuteTime": {
     "end_time": "2020-01-09T18:27:48.511722Z",
     "start_time": "2020-01-09T18:27:48.350548Z"
    }
   },
   "outputs": [],
   "source": [
    "from rank import rank\n",
    "from processify import processify\n",
    "from egad import run_egad\n",
    "from egad_by_gene import run_egad_gene_score\n",
    "\n",
    "import biccn_nw_perf_funcs as perf\n",
    "import load_pearson_networks\n",
    "import egad_train_test_terms as egad_tt"
   ]
  },
  {
   "cell_type": "markdown",
   "metadata": {},
   "source": [
    "## Functions"
   ]
  },
  {
   "cell_type": "code",
   "execution_count": 18,
   "metadata": {},
   "outputs": [],
   "source": [
    "def contains_number(string):\n",
    "    return re.search('\\d', string)\n",
    "\n",
    "\n",
    "def fix_marker_name(name):\n",
    "    split_name = name.split('.')\n",
    "    if name == 'Non.Neuronal':\n",
    "        return name\n",
    "    if len(split_name) == 1:\n",
    "        return name\n",
    "    if len(split_name) == 2:\n",
    "\n",
    "        return '_'.join(split_name)\n",
    "    if len(split_name) == 3:\n",
    "        if contains_number(split_name[1]):\n",
    "            return f'{split_name[0]}.{split_name[1]}_{split_name[2]}'\n",
    "        else:\n",
    "            return '_'.join(split_name)\n",
    "\n",
    "\n",
    "fix_marker_name = np.vectorize(fix_marker_name)"
   ]
  },
  {
   "cell_type": "markdown",
   "metadata": {},
   "source": [
    "## Load Data"
   ]
  },
  {
   "cell_type": "code",
   "execution_count": 9,
   "metadata": {
    "ExecuteTime": {
     "end_time": "2020-01-09T18:27:48.604009Z",
     "start_time": "2020-01-09T18:27:48.576673Z"
    }
   },
   "outputs": [],
   "source": [
    "dataset_dict = perf.dataset_dict\n",
    "genes = perf.genes"
   ]
  },
  {
   "cell_type": "code",
   "execution_count": 10,
   "metadata": {
    "ExecuteTime": {
     "end_time": "2020-01-09T18:27:48.685268Z",
     "start_time": "2020-01-09T18:27:48.605707Z"
    }
   },
   "outputs": [
    {
     "data": {
      "text/html": [
       "<div>\n",
       "<style scoped>\n",
       "    .dataframe tbody tr th:only-of-type {\n",
       "        vertical-align: middle;\n",
       "    }\n",
       "\n",
       "    .dataframe tbody tr th {\n",
       "        vertical-align: top;\n",
       "    }\n",
       "\n",
       "    .dataframe thead th {\n",
       "        text-align: right;\n",
       "    }\n",
       "</style>\n",
       "<table border=\"1\" class=\"dataframe\">\n",
       "  <thead>\n",
       "    <tr style=\"text-align: right;\">\n",
       "      <th></th>\n",
       "      <th>V1</th>\n",
       "      <th>V2</th>\n",
       "      <th>V3</th>\n",
       "    </tr>\n",
       "  </thead>\n",
       "  <tbody>\n",
       "    <tr>\n",
       "      <th>1</th>\n",
       "      <td>mmu00010</td>\n",
       "      <td>11674</td>\n",
       "      <td>Aldoa</td>\n",
       "    </tr>\n",
       "    <tr>\n",
       "      <th>2</th>\n",
       "      <td>mmu00010</td>\n",
       "      <td>11676</td>\n",
       "      <td>Aldoc</td>\n",
       "    </tr>\n",
       "    <tr>\n",
       "      <th>3</th>\n",
       "      <td>mmu00010</td>\n",
       "      <td>230163</td>\n",
       "      <td>Aldob</td>\n",
       "    </tr>\n",
       "    <tr>\n",
       "      <th>4</th>\n",
       "      <td>mmu00010</td>\n",
       "      <td>353204</td>\n",
       "      <td>Aldoart1</td>\n",
       "    </tr>\n",
       "    <tr>\n",
       "      <th>5</th>\n",
       "      <td>mmu00010</td>\n",
       "      <td>110695</td>\n",
       "      <td>Aldh7a1</td>\n",
       "    </tr>\n",
       "  </tbody>\n",
       "</table>\n",
       "</div>"
      ],
      "text/plain": [
       "         V1      V2        V3\n",
       "1  mmu00010   11674     Aldoa\n",
       "2  mmu00010   11676     Aldoc\n",
       "3  mmu00010  230163     Aldob\n",
       "4  mmu00010  353204  Aldoart1\n",
       "5  mmu00010  110695   Aldh7a1"
      ]
     },
     "execution_count": 10,
     "metadata": {},
     "output_type": "execute_result"
    }
   ],
   "source": [
    "kegg_tidy = pd.read_csv('/home/bharris/reference_networks/kegg/kegg_all.csv',\n",
    "                        index_col=0)\n",
    "\n",
    "kegg_tidy.head()"
   ]
  },
  {
   "cell_type": "code",
   "execution_count": 11,
   "metadata": {
    "ExecuteTime": {
     "end_time": "2020-01-09T18:28:13.093111Z",
     "start_time": "2020-01-09T18:27:48.686759Z"
    }
   },
   "outputs": [],
   "source": [
    "kegg_tidy.set_index('V3', inplace=True)\n",
    "\n",
    "kegg_genes = np.unique(kegg_tidy.index.values)\n",
    "\n",
    "kegg_terms = np.unique(kegg_tidy.V1.values)\n",
    "\n",
    "kegg = pd.DataFrame(0, index=kegg_genes, columns=kegg_terms)\n",
    "for i, j in kegg_tidy[['V1']].groupby('V1').groups.items():\n",
    "    kegg.at[j, i] = 1"
   ]
  },
  {
   "cell_type": "code",
   "execution_count": 12,
   "metadata": {
    "ExecuteTime": {
     "end_time": "2020-01-09T18:28:13.127999Z",
     "start_time": "2020-01-09T18:28:13.095712Z"
    }
   },
   "outputs": [],
   "source": [
    "nws_path = '/home/bharris/biccn_paper/data/networks/'\n",
    "markers_path = '/home/bharris/biccn_paper/data/de_one_v_all/'"
   ]
  },
  {
   "cell_type": "code",
   "execution_count": 13,
   "metadata": {
    "ExecuteTime": {
     "end_time": "2020-01-09T18:28:13.156227Z",
     "start_time": "2020-01-09T18:28:13.129597Z"
    }
   },
   "outputs": [],
   "source": [
    "all_datasets = np.array(list(dataset_dict.keys()))"
   ]
  },
  {
   "cell_type": "markdown",
   "metadata": {},
   "source": [
    "## Identify Subclasses and Clusters Needed"
   ]
  },
  {
   "cell_type": "code",
   "execution_count": 14,
   "metadata": {
    "ExecuteTime": {
     "end_time": "2020-01-09T23:39:26.090225Z",
     "start_time": "2020-01-09T23:37:00.544592Z"
    }
   },
   "outputs": [
    {
     "name": "stderr",
     "output_type": "stream",
     "text": [
      "2020-03-05 12:11:49,853 - zeng_10x_cell\n",
      "2020-03-05 12:14:09,541 - zeng_10x_nuc\n",
      "2020-03-05 12:15:12,371 - zeng_smart_cell\n",
      "2020-03-05 12:15:30,133 - zeng_smart_nuc\n",
      "2020-03-05 12:15:45,589 - zeng_10x_cell_v3\n",
      "2020-03-05 12:17:07,003 - zeng_10x_nuc_v3\n",
      "2020-03-05 12:17:29,585 - macosko_10x_nuc_v3\n"
     ]
    }
   ],
   "source": [
    "subclass_labels = {}\n",
    "all_subclasses = []\n",
    "cluster_labels = {}\n",
    "all_clusters = []\n",
    "all_joint_clusters = []\n",
    "joint_clusters = {}\n",
    "for dataset in dataset_dict:\n",
    "    logging.info(dataset)\n",
    "    andata = sc.read_h5ad(dataset_dict[dataset]['andata'])\n",
    "    andata = andata[andata.obs.class_label.isin(['GABAergic',\n",
    "                                                 'Glutamatergic'])]\n",
    "    subclass_counts = andata.obs.subclass_label.value_counts()\n",
    "    cluster_counts = andata.obs.cluster_label.value_counts()\n",
    "    joint_cluster_counts = andata.obs.joint_cluster_label.value_counts()\n",
    "\n",
    "    subclass_counts = subclass_counts[subclass_counts >= 100]\n",
    "    cluster_counts = cluster_counts[cluster_counts>= 100]\n",
    "    joint_cluster_counts = joint_cluster_counts[joint_cluster_counts >= 100]\n",
    "\n",
    "    all_subclasses.extend(subclass_counts.index.values)\n",
    "    all_clusters.extend(cluster_counts.index.values)\n",
    "    all_joint_clusters.extend(joint_cluster_counts.index.values)\n",
    "\n",
    "    subclass_labels[dataset] = subclass_counts.index.values\n",
    "    cluster_labels[dataset] = cluster_counts.index.values\n",
    "    joint_clusters[dataset] = joint_cluster_counts.index.values.astype(\n",
    "        str)\n",
    "    del andata\n",
    "    gc.collect()\n",
    "all_subclasses = np.unique(all_subclasses)\n",
    "all_clusters = np.unique(all_clusters)\n",
    "all_joint_clusters = np.unique(all_joint_clusters)"
   ]
  },
  {
   "cell_type": "code",
   "execution_count": 15,
   "metadata": {
    "ExecuteTime": {
     "end_time": "2020-01-09T18:30:12.751143Z",
     "start_time": "2020-01-09T18:30:12.704409Z"
    }
   },
   "outputs": [
    {
     "name": "stderr",
     "output_type": "stream",
     "text": [
      "2020-03-05 12:19:11,537 - zeng_10x_cell\n",
      "2020-03-05 12:19:11,542 - zeng_10x_nuc\n",
      "2020-03-05 12:19:11,545 - zeng_smart_cell\n",
      "2020-03-05 12:19:11,548 - zeng_smart_nuc\n",
      "2020-03-05 12:19:11,550 - zeng_10x_cell_v3\n",
      "2020-03-05 12:19:11,553 - zeng_10x_nuc_v3\n",
      "2020-03-05 12:19:11,556 - macosko_10x_nuc_v3\n"
     ]
    }
   ],
   "source": [
    "subclass_spec = pd.DataFrame(0, index=all_datasets, columns=all_subclasses)\n",
    "cluster_spec = pd.DataFrame(0, index=all_datasets, columns=all_clusters)\n",
    "joint_spec = pd.DataFrame(0, index=all_datasets, columns=all_joint_clusters)\n",
    "for dataset in subclass_labels:\n",
    "    logging.info(dataset)\n",
    "    subclass_spec.at[dataset, subclass_labels[dataset]] = 1\n",
    "    cluster_spec.at[dataset, cluster_labels[dataset]] = 1\n",
    "    joint_spec.at[dataset, joint_clusters[dataset]] = 1"
   ]
  },
  {
   "cell_type": "code",
   "execution_count": 17,
   "metadata": {},
   "outputs": [],
   "source": [
    "joint_spec.to_csv('/home/bharris/biccn_paper/data/networks/nearest_centroid/joint_cluster_spec_table.csv')"
   ]
  },
  {
   "cell_type": "code",
   "execution_count": null,
   "metadata": {},
   "outputs": [],
   "source": [
    "sns.countplot(joint_spec.sum())\n",
    "plt.show()"
   ]
  },
  {
   "cell_type": "code",
   "execution_count": 22,
   "metadata": {
    "ExecuteTime": {
     "end_time": "2020-01-09T18:31:38.223712Z",
     "start_time": "2020-01-09T18:31:38.048157Z"
    }
   },
   "outputs": [],
   "source": [
    "subclass_spec.to_csv(\n",
    "    '/home/bharris/biccn_paper/data/networks/nearest_centroid/subclass_spec_table.csv'\n",
    ")"
   ]
  },
  {
   "cell_type": "code",
   "execution_count": 21,
   "metadata": {
    "ExecuteTime": {
     "end_time": "2020-01-09T20:54:37.055902Z",
     "start_time": "2020-01-09T20:54:36.600521Z"
    }
   },
   "outputs": [],
   "source": [
    "ax = sns.countplot(cluster_spec.sum())\n",
    "ax.set(yscale='log')"
   ]
  },
  {
   "cell_type": "code",
   "execution_count": 22,
   "metadata": {
    "ExecuteTime": {
     "end_time": "2020-01-09T18:32:46.819836Z",
     "start_time": "2020-01-09T18:32:46.787178Z"
    }
   },
   "outputs": [],
   "source": [
    "cluster_spec.to_csv(\n",
    "    '/home/bharris/biccn_paper/data/networks/nearest_centroid/cluster_spec_table.csv'\n",
    ")"
   ]
  },
  {
   "cell_type": "markdown",
   "metadata": {},
   "source": [
    "### Load Specs \n",
    "Load Specs so you don't have to recalulate everytime"
   ]
  },
  {
   "cell_type": "code",
   "execution_count": 23,
   "metadata": {},
   "outputs": [],
   "source": [
    "cluster_spec = pd.read_csv( '/home/bharris/biccn_paper/data/networks/nearest_centroid/cluster_spec_table.csv',index_col=0)\n",
    "subclass_spec = pd.read_csv('/home/bharris/biccn_paper/data/networks/nearest_centroid/subclass_spec_table.csv',index_col=0)\n",
    "joint_cluster_spec = pd.read_csv('/home/bharris/biccn_paper/data/networks/nearest_centroid/joint_cluster_spec_table.csv',index_col=0)\n"
   ]
  },
  {
   "cell_type": "markdown",
   "metadata": {},
   "source": [
    "## Compute Aggregate Networks"
   ]
  },
  {
   "cell_type": "code",
   "execution_count": 24,
   "metadata": {
    "ExecuteTime": {
     "end_time": "2020-01-09T21:44:50.384434Z",
     "start_time": "2020-01-09T21:34:17.098218Z"
    },
    "scrolled": true
   },
   "outputs": [
    {
     "name": "stderr",
     "output_type": "stream",
     "text": [
      "2020-03-05 09:19:53,524 - L2.3_IT\n",
      "2020-03-05 09:19:53,525 - zeng_10x_nuc\n",
      "2020-03-05 09:19:53,892 - zeng_smart_nuc\n",
      "2020-03-05 09:19:54,274 - zeng_10x_cell_v3\n",
      "2020-03-05 09:19:59,502 - L2.3_IT_1\n",
      "2020-03-05 09:19:59,504 - zeng_10x_nuc_v3\n",
      "2020-03-05 09:19:59,840 - macosko_10x_nuc_v3\n",
      "2020-03-05 09:20:06,695 - L2.3_IT_2\n",
      "2020-03-05 09:20:06,697 - zeng_10x_nuc_v3\n",
      "2020-03-05 09:20:06,993 - macosko_10x_nuc_v3\n",
      "2020-03-05 09:20:13,691 - L2.3_IT_3\n",
      "2020-03-05 09:20:13,991 - L2.3_IT_Cdh13_Fos\n",
      "2020-03-05 09:20:14,628 - L2.3_IT_Cdh13_Met\n",
      "2020-03-05 09:20:15,280 - L2.3_IT_Cdh13_Sla\n",
      "2020-03-05 09:20:15,282 - zeng_10x_cell\n",
      "2020-03-05 09:20:15,727 - zeng_smart_cell\n",
      "2020-03-05 09:20:22,642 - L2.3_IT_Macc1\n",
      "2020-03-05 09:20:22,645 - zeng_10x_cell\n",
      "2020-03-05 09:20:23,025 - zeng_smart_cell\n",
      "2020-03-05 09:20:29,840 - L2.3_IT_S100a6\n",
      "2020-03-05 09:20:30,159 - L2.3_IT_S100a6_\n",
      "2020-03-05 09:20:30,664 - L5.6_NP_2\n",
      "2020-03-05 09:20:31,378 - L5.6_NP_3\n",
      "2020-03-05 09:20:32,108 - L5.6_NP_CT\n",
      "2020-03-05 09:20:32,873 - L5_ET_1\n",
      "2020-03-05 09:20:32,875 - zeng_10x_nuc_v3\n",
      "2020-03-05 09:20:33,608 - macosko_10x_nuc_v3\n",
      "2020-03-05 09:20:41,025 - L5_ET_2\n",
      "2020-03-05 09:20:41,291 - L5_ET_3\n",
      "2020-03-05 09:20:41,293 - zeng_10x_nuc_v3\n",
      "2020-03-05 09:20:42,124 - macosko_10x_nuc_v3\n",
      "2020-03-05 09:20:48,685 - L5_ET_4\n",
      "2020-03-05 09:20:48,934 - L5_ET_5\n",
      "2020-03-05 09:20:48,936 - zeng_10x_nuc_v3\n",
      "2020-03-05 09:20:49,570 - macosko_10x_nuc_v3\n",
      "2020-03-05 09:20:56,445 - L5_ET_6\n",
      "2020-03-05 09:20:57,067 - L5_IT_Pld5\n",
      "2020-03-05 09:20:57,069 - zeng_10x_cell_v3\n",
      "2020-03-05 09:20:57,927 - macosko_10x_nuc_v3\n",
      "2020-03-05 09:21:05,044 - L5_IT_Pld5_1\n",
      "2020-03-05 09:21:05,046 - zeng_10x_cell\n",
      "2020-03-05 09:21:05,448 - zeng_10x_nuc_v3\n",
      "2020-03-05 09:21:12,266 - L5_IT_Pld5_2\n",
      "2020-03-05 09:21:12,537 - L5_IT_Pld5_3\n",
      "2020-03-05 09:21:12,965 - L5_IT_Pld5_4\n",
      "2020-03-05 09:21:13,475 - L5_IT_Rspo1\n",
      "2020-03-05 09:21:13,477 - zeng_10x_nuc\n",
      "2020-03-05 09:21:14,103 - zeng_smart_cell\n",
      "2020-03-05 09:21:14,806 - macosko_10x_nuc_v3\n",
      "2020-03-05 09:21:22,072 - L5_IT_Rspo1_1\n",
      "2020-03-05 09:21:22,074 - zeng_10x_cell\n",
      "2020-03-05 09:21:22,384 - zeng_smart_nuc\n",
      "2020-03-05 09:21:22,750 - zeng_10x_nuc_v3\n",
      "2020-03-05 09:21:29,656 - L5_IT_Rspo1_2\n",
      "2020-03-05 09:21:29,658 - zeng_smart_nuc\n",
      "2020-03-05 09:21:30,060 - zeng_10x_nuc_v3\n",
      "2020-03-05 09:21:35,670 - L5_IT_Rspo1_3\n",
      "2020-03-05 09:21:35,901 - L5_IT_Rspo2\n",
      "2020-03-05 09:21:36,425 - L5_IT_Rspo2_1\n",
      "2020-03-05 09:21:36,945 - L5_IT_S100b\n",
      "2020-03-05 09:21:36,946 - zeng_10x_nuc\n",
      "2020-03-05 09:21:37,704 - zeng_10x_cell_v3\n",
      "2020-03-05 09:21:38,513 - zeng_10x_nuc_v3\n",
      "2020-03-05 09:21:39,332 - macosko_10x_nuc_v3\n",
      "2020-03-05 09:21:46,247 - L5_IT_S100b_1\n",
      "2020-03-05 09:21:46,249 - zeng_10x_cell\n",
      "2020-03-05 09:21:46,604 - zeng_smart_cell\n",
      "2020-03-05 09:21:47,040 - zeng_smart_nuc\n",
      "2020-03-05 09:21:54,329 - L5_IT_S100b_2\n",
      "2020-03-05 09:21:54,331 - zeng_10x_cell\n",
      "2020-03-05 09:21:54,731 - zeng_smart_nuc\n",
      "2020-03-05 09:22:01,767 - L5_IT_Tcap_1\n",
      "2020-03-05 09:22:01,769 - zeng_10x_cell\n",
      "2020-03-05 09:22:02,276 - zeng_smart_cell\n",
      "2020-03-05 09:22:02,865 - zeng_10x_cell_v3\n",
      "2020-03-05 09:22:09,677 - L5_IT_Tcap_2\n",
      "2020-03-05 09:22:09,679 - zeng_10x_cell\n",
      "2020-03-05 09:22:10,032 - zeng_smart_cell\n",
      "2020-03-05 09:22:10,367 - zeng_10x_cell_v3\n",
      "2020-03-05 09:22:17,127 - L5_NP_Slc17a8\n",
      "2020-03-05 09:22:17,130 - zeng_10x_cell\n",
      "2020-03-05 09:22:17,467 - zeng_10x_nuc\n",
      "2020-03-05 09:22:17,799 - zeng_smart_cell\n",
      "2020-03-05 09:22:18,191 - zeng_smart_nuc\n",
      "2020-03-05 09:22:23,898 - L5_NP_Slc17a8_1\n",
      "2020-03-05 09:22:23,900 - zeng_10x_cell_v3\n",
      "2020-03-05 09:22:24,171 - zeng_10x_nuc_v3\n",
      "2020-03-05 09:22:30,933 - L5_NP_Slc17a8_2\n",
      "2020-03-05 09:22:30,935 - zeng_10x_cell_v3\n",
      "2020-03-05 09:22:31,231 - zeng_10x_nuc_v3\n",
      "2020-03-05 09:22:38,003 - L5_NP_Slc17a8_3\n",
      "2020-03-05 09:22:38,249 - L5_PT_1\n",
      "2020-03-05 09:22:38,251 - zeng_10x_cell\n",
      "2020-03-05 09:22:38,831 - zeng_10x_nuc\n",
      "2020-03-05 09:22:45,341 - L5_PT_2\n",
      "2020-03-05 09:22:45,343 - zeng_10x_cell\n",
      "2020-03-05 09:22:45,686 - zeng_10x_nuc\n",
      "2020-03-05 09:22:52,344 - L5_PT_3\n",
      "2020-03-05 09:22:52,647 - L6_CT\n",
      "2020-03-05 09:22:52,649 - zeng_10x_nuc\n",
      "2020-03-05 09:22:53,179 - zeng_smart_nuc\n",
      "2020-03-05 09:23:00,267 - L6_CT_Brinp3\n",
      "2020-03-05 09:23:00,515 - L6_CT_Cpa6\n",
      "2020-03-05 09:23:00,516 - zeng_10x_cell\n",
      "2020-03-05 09:23:01,010 - zeng_10x_nuc_v3\n",
      "2020-03-05 09:23:01,372 - macosko_10x_nuc_v3\n",
      "2020-03-05 09:23:06,787 - L6_CT_Cpa6_1\n",
      "2020-03-05 09:23:07,019 - L6_CT_Cpa6_2\n",
      "2020-03-05 09:23:07,819 - L6_CT_Gpr139\n",
      "2020-03-05 09:23:08,687 - L6_CT_Gpr139_1\n",
      "2020-03-05 09:23:09,155 - L6_CT_Gpr139_2\n",
      "2020-03-05 09:23:09,747 - L6_CT_Gpr139_3\n",
      "2020-03-05 09:23:10,275 - L6_CT_Grp_1\n",
      "2020-03-05 09:23:10,779 - L6_CT_Nxph2\n",
      "2020-03-05 09:23:11,607 - L6_CT_Nxph2_Kit\n",
      "2020-03-05 09:23:12,253 - L6_CT_Nxph2_Pou3f2\n",
      "2020-03-05 09:23:13,020 - L6_CT_Nxph2_Pou3f2_1\n",
      "2020-03-05 09:23:13,889 - L6_CT_Nxph2_Pou3f2_2\n",
      "2020-03-05 09:23:14,702 - L6_IT_Car3\n",
      "2020-03-05 09:23:14,704 - zeng_10x_cell\n",
      "2020-03-05 09:23:15,424 - zeng_10x_nuc\n",
      "2020-03-05 09:23:22,713 - L6_IT_Sulf1\n",
      "2020-03-05 09:23:23,054 - L6_IT_Sulf1_1\n",
      "2020-03-05 09:23:23,055 - zeng_10x_cell\n",
      "2020-03-05 09:23:23,613 - zeng_10x_cell_v3\n",
      "2020-03-05 09:23:24,194 - macosko_10x_nuc_v3\n",
      "2020-03-05 09:23:30,832 - L6_IT_Sulf1_2\n",
      "2020-03-05 09:23:30,834 - zeng_10x_cell\n",
      "2020-03-05 09:23:31,159 - zeng_10x_cell_v3\n",
      "2020-03-05 09:23:31,420 - zeng_10x_nuc_v3\n",
      "2020-03-05 09:23:31,667 - macosko_10x_nuc_v3\n",
      "2020-03-05 09:23:38,400 - L6_IT_Sulf1_3\n",
      "2020-03-05 09:23:38,401 - zeng_10x_cell\n",
      "2020-03-05 09:23:38,823 - zeng_10x_cell_v3\n",
      "2020-03-05 09:23:39,075 - zeng_10x_nuc_v3\n",
      "2020-03-05 09:23:45,802 - L6_IT_Sulf1_4\n",
      "2020-03-05 09:23:45,804 - zeng_10x_cell_v3\n",
      "2020-03-05 09:23:46,083 - zeng_10x_nuc_v3\n",
      "2020-03-05 09:23:52,528 - L6_IT_Sulf1_Fos\n",
      "2020-03-05 09:23:52,785 - L6_IT_Sulf_1\n",
      "2020-03-05 09:23:53,421 - L6_IT_Sulf_2\n",
      "2020-03-05 09:23:53,966 - L6_IT_Sulf_3\n",
      "2020-03-05 09:23:54,601 - L6_NP_CT\n",
      "2020-03-05 09:23:54,603 - zeng_10x_cell\n",
      "2020-03-05 09:23:55,127 - zeng_10x_nuc_v3\n",
      "2020-03-05 09:24:02,604 - L6_NP_Trh\n",
      "2020-03-05 09:24:02,606 - zeng_10x_nuc\n",
      "2020-03-05 09:24:02,908 - zeng_smart_nuc\n",
      "2020-03-05 09:24:09,670 - L6_NP_Trh_1\n",
      "2020-03-05 09:24:09,672 - zeng_10x_cell\n",
      "2020-03-05 09:24:10,001 - zeng_10x_cell_v3\n",
      "2020-03-05 09:24:10,246 - zeng_10x_nuc_v3\n",
      "2020-03-05 09:24:15,154 - L6_NP_Trh_2\n",
      "2020-03-05 09:24:15,156 - zeng_10x_cell_v3\n",
      "2020-03-05 09:24:15,605 - zeng_10x_nuc_v3\n",
      "2020-03-05 09:24:22,325 - L6_NP_Trh_3\n",
      "2020-03-05 09:24:22,591 - L6b_Kcnip1\n",
      "2020-03-05 09:24:23,057 - L6b_Ror1\n",
      "2020-03-05 09:24:23,058 - zeng_10x_cell\n",
      "2020-03-05 09:24:23,561 - zeng_10x_nuc\n",
      "2020-03-05 09:24:24,140 - zeng_10x_cell_v3\n",
      "2020-03-05 09:24:24,500 - zeng_10x_nuc_v3\n",
      "2020-03-05 09:24:31,140 - L6b_Ror1_1\n",
      "2020-03-05 09:24:31,141 - zeng_smart_cell\n",
      "2020-03-05 09:24:31,537 - macosko_10x_nuc_v3\n",
      "2020-03-05 09:24:37,139 - L6b_Ror1_2\n",
      "2020-03-05 09:24:37,141 - zeng_smart_cell\n",
      "2020-03-05 09:24:37,575 - macosko_10x_nuc_v3\n",
      "2020-03-05 09:24:44,476 - L6b_Rprm\n",
      "2020-03-05 09:24:44,478 - zeng_10x_cell\n",
      "2020-03-05 09:24:44,866 - zeng_smart_cell\n",
      "2020-03-05 09:24:45,191 - zeng_10x_cell_v3\n",
      "2020-03-05 09:24:51,808 - L6b_Rprm_1\n",
      "2020-03-05 09:24:52,045 - L6b_Rprm_3\n",
      "2020-03-05 09:24:52,872 - L6b_Shisa6\n",
      "2020-03-05 09:24:52,873 - zeng_10x_nuc\n",
      "2020-03-05 09:24:53,443 - zeng_smart_cell\n",
      "2020-03-05 09:24:53,986 - zeng_10x_cell_v3\n",
      "2020-03-05 09:24:54,621 - zeng_10x_nuc_v3\n",
      "2020-03-05 09:24:54,893 - macosko_10x_nuc_v3\n",
      "2020-03-05 09:24:59,978 - L6b_Shisa6_1\n",
      "2020-03-05 09:25:00,289 - L6b_Shisa6_2\n",
      "2020-03-05 09:25:00,653 - Lamp5_Egln3\n",
      "2020-03-05 09:25:00,655 - zeng_10x_nuc\n",
      "2020-03-05 09:25:01,106 - zeng_10x_nuc_v3\n",
      "2020-03-05 09:25:08,235 - Lamp5_Egln3_1\n",
      "2020-03-05 09:25:08,237 - zeng_10x_cell\n",
      "2020-03-05 09:25:08,633 - macosko_10x_nuc_v3\n",
      "2020-03-05 09:25:13,649 - Lamp5_Egln3_2\n",
      "2020-03-05 09:25:13,651 - zeng_10x_cell\n",
      "2020-03-05 09:25:14,005 - macosko_10x_nuc_v3\n",
      "2020-03-05 09:25:20,693 - Lamp5_Egln3_2_1\n",
      "2020-03-05 09:25:20,970 - Lamp5_Lhx6\n",
      "2020-03-05 09:25:20,971 - zeng_10x_cell\n",
      "2020-03-05 09:25:21,476 - macosko_10x_nuc_v3\n",
      "2020-03-05 09:25:29,013 - Lamp5_Pax6\n",
      "2020-03-05 09:25:29,015 - zeng_10x_cell\n",
      "2020-03-05 09:25:29,357 - macosko_10x_nuc_v3\n",
      "2020-03-05 09:25:35,993 - Lamp5_Pdlim5\n",
      "2020-03-05 09:25:35,995 - zeng_10x_nuc\n",
      "2020-03-05 09:25:36,374 - zeng_10x_nuc_v3\n",
      "2020-03-05 09:25:36,822 - macosko_10x_nuc_v3\n",
      "2020-03-05 09:25:43,454 - Lamp5_Pdlim5_1\n",
      "2020-03-05 09:25:43,456 - zeng_10x_cell\n",
      "2020-03-05 09:25:43,862 - zeng_10x_cell_v3\n",
      "2020-03-05 09:25:50,612 - Lamp5_Pdlim5_2\n",
      "2020-03-05 09:25:50,613 - zeng_10x_cell\n",
      "2020-03-05 09:25:51,141 - zeng_10x_cell_v3\n",
      "2020-03-05 09:25:58,085 - Lamp5_Slc35d3\n",
      "2020-03-05 09:25:58,087 - zeng_10x_cell\n",
      "2020-03-05 09:25:58,762 - zeng_10x_nuc\n",
      "2020-03-05 09:25:59,223 - zeng_smart_cell\n",
      "2020-03-05 09:25:59,810 - zeng_smart_nuc\n",
      "2020-03-05 09:26:00,266 - zeng_10x_nuc_v3\n",
      "2020-03-05 09:26:00,693 - macosko_10x_nuc_v3\n",
      "2020-03-05 09:26:09,776 - Lamp5_Slc35d3_1\n",
      "2020-03-05 09:26:10,096 - Pvalb_Brinp3\n",
      "2020-03-05 09:26:10,645 - Pvalb_Calb1\n",
      "2020-03-05 09:26:10,647 - zeng_10x_cell\n",
      "2020-03-05 09:26:11,358 - zeng_smart_cell\n",
      "2020-03-05 09:26:18,339 - Pvalb_Gabrg1\n",
      "2020-03-05 09:26:18,341 - zeng_10x_cell\n",
      "2020-03-05 09:26:18,873 - zeng_10x_nuc\n",
      "2020-03-05 09:26:19,553 - zeng_10x_nuc_v3\n",
      "2020-03-05 09:26:26,469 - Pvalb_Gpr149\n",
      "2020-03-05 09:26:26,471 - zeng_10x_cell\n",
      "2020-03-05 09:26:26,938 - zeng_10x_nuc\n",
      "2020-03-05 09:26:27,328 - zeng_10x_nuc_v3\n",
      "2020-03-05 09:26:27,597 - macosko_10x_nuc_v3\n",
      "2020-03-05 09:26:34,644 - Pvalb_Il1rapl2\n",
      "2020-03-05 09:26:34,646 - zeng_10x_cell\n",
      "2020-03-05 09:26:34,993 - zeng_smart_nuc\n",
      "2020-03-05 09:26:35,356 - macosko_10x_nuc_v3\n",
      "2020-03-05 09:26:42,228 - Pvalb_Il1rapl2_1\n",
      "2020-03-05 09:26:42,230 - zeng_10x_nuc\n",
      "2020-03-05 09:26:42,558 - zeng_10x_nuc_v3\n",
      "2020-03-05 09:26:49,556 - Pvalb_Il1rapl2_2\n",
      "2020-03-05 09:26:49,861 - Pvalb_Prdm8\n",
      "2020-03-05 09:26:49,862 - zeng_10x_cell\n",
      "2020-03-05 09:26:50,367 - zeng_10x_nuc_v3\n",
      "2020-03-05 09:26:51,128 - macosko_10x_nuc_v3\n",
      "2020-03-05 09:26:58,022 - Pvalb_Reln\n",
      "2020-03-05 09:26:58,024 - zeng_smart_cell\n",
      "2020-03-05 09:26:58,669 - zeng_smart_nuc\n",
      "2020-03-05 09:26:59,087 - zeng_10x_cell_v3\n",
      "2020-03-05 09:26:59,392 - zeng_10x_nuc_v3\n",
      "2020-03-05 09:27:06,165 - Pvalb_Reln_1\n",
      "2020-03-05 09:27:06,483 - Pvalb_Reln_2\n",
      "2020-03-05 09:27:06,945 - Pvalb_Sst_Calb1\n",
      "2020-03-05 09:27:07,480 - Pvalb_Sst_Th\n",
      "2020-03-05 09:27:08,026 - Pvalb_Sst_Th_2\n",
      "2020-03-05 09:27:08,796 - Pvalb_Vipr2\n",
      "2020-03-05 09:27:08,797 - zeng_10x_cell\n",
      "2020-03-05 09:27:09,444 - macosko_10x_nuc_v3\n",
      "2020-03-05 09:27:16,731 - Sncg\n",
      "2020-03-05 09:27:17,082 - Sncg_1\n",
      "2020-03-05 09:27:17,763 - Sncg_2\n",
      "2020-03-05 09:27:18,471 - Sncg_Calb1_1\n",
      "2020-03-05 09:27:19,013 - Sncg_Calb1_3\n",
      "2020-03-05 09:27:19,481 - Sncg_Col14a1\n",
      "2020-03-05 09:27:20,299 - Sncg_Col14a1_1\n",
      "2020-03-05 09:27:20,301 - zeng_10x_cell\n",
      "2020-03-05 09:27:20,885 - macosko_10x_nuc_v3\n",
      "2020-03-05 09:27:29,725 - Sncg_Col14a1_2\n",
      "2020-03-05 09:27:29,726 - zeng_10x_cell\n",
      "2020-03-05 09:27:30,082 - macosko_10x_nuc_v3\n",
      "2020-03-05 09:27:36,027 - Sncg_Col14a1_3\n",
      "2020-03-05 09:27:36,291 - Sncg_Npy2r_1\n",
      "2020-03-05 09:27:36,693 - Sncg_Slc17a8\n",
      "2020-03-05 09:27:36,694 - zeng_10x_cell\n",
      "2020-03-05 09:27:37,213 - macosko_10x_nuc_v3\n",
      "2020-03-05 09:27:44,359 - Sst_C1ql3\n",
      "2020-03-05 09:27:44,360 - zeng_10x_nuc\n",
      "2020-03-05 09:27:44,717 - macosko_10x_nuc_v3\n",
      "2020-03-05 09:27:50,782 - Sst_C1ql3_1\n",
      "2020-03-05 09:27:50,783 - zeng_10x_cell\n",
      "2020-03-05 09:27:51,125 - zeng_10x_nuc_v3\n",
      "2020-03-05 09:27:51,386 - macosko_10x_nuc_v3\n",
      "2020-03-05 09:27:58,997 - Sst_C1ql3_2\n",
      "2020-03-05 09:27:58,998 - zeng_10x_cell\n",
      "2020-03-05 09:27:59,357 - zeng_10x_cell_v3\n",
      "2020-03-05 09:27:59,624 - macosko_10x_nuc_v3\n",
      "2020-03-05 09:28:06,475 - Sst_C1ql3_3\n",
      "2020-03-05 09:28:06,806 - Sst_Calb2\n",
      "2020-03-05 09:28:06,807 - zeng_10x_cell\n",
      "2020-03-05 09:28:07,317 - zeng_10x_cell_v3\n",
      "2020-03-05 09:28:07,970 - zeng_10x_nuc_v3\n",
      "2020-03-05 09:28:08,444 - macosko_10x_nuc_v3\n",
      "2020-03-05 09:28:14,274 - Sst_Chodl\n",
      "2020-03-05 09:28:14,276 - zeng_10x_cell\n",
      "2020-03-05 09:28:14,623 - zeng_10x_nuc\n",
      "2020-03-05 09:28:14,928 - zeng_10x_cell_v3\n",
      "2020-03-05 09:28:15,179 - macosko_10x_nuc_v3\n",
      "2020-03-05 09:28:23,556 - Sst_Crhr2\n",
      "2020-03-05 09:28:23,827 - Sst_Crhr2_1\n",
      "2020-03-05 09:28:23,828 - zeng_10x_cell\n",
      "2020-03-05 09:28:24,319 - zeng_10x_cell_v3\n",
      "2020-03-05 09:28:30,622 - Sst_Crhr2_2\n",
      "2020-03-05 09:28:30,624 - zeng_10x_cell\n",
      "2020-03-05 09:28:31,007 - zeng_10x_cell_v3\n",
      "2020-03-05 09:28:37,646 - Sst_Etv1_1\n",
      "2020-03-05 09:28:37,647 - zeng_smart_nuc\n",
      "2020-03-05 09:28:38,050 - macosko_10x_nuc_v3\n",
      "2020-03-05 09:28:44,696 - Sst_Etv1_2\n",
      "2020-03-05 09:28:44,697 - zeng_10x_nuc\n",
      "2020-03-05 09:28:45,018 - macosko_10x_nuc_v3\n",
      "2020-03-05 09:28:50,887 - Sst_Etv1_3\n",
      "2020-03-05 09:28:51,213 - Sst_Hpse\n",
      "2020-03-05 09:28:51,214 - zeng_10x_nuc\n",
      "2020-03-05 09:28:51,765 - zeng_10x_nuc_v3\n",
      "2020-03-05 09:28:58,577 - Sst_Hpse_1\n",
      "2020-03-05 09:28:58,858 - Sst_Hpse_2\n",
      "2020-03-05 09:28:58,859 - zeng_10x_cell\n",
      "2020-03-05 09:28:59,347 - macosko_10x_nuc_v3\n",
      "2020-03-05 09:29:06,473 - Sst_Hpse_3\n",
      "2020-03-05 09:29:06,475 - zeng_10x_cell\n",
      "2020-03-05 09:29:06,845 - zeng_10x_cell_v3\n",
      "2020-03-05 09:29:07,100 - macosko_10x_nuc_v3\n",
      "2020-03-05 09:29:13,720 - Sst_Hspe_1\n",
      "2020-03-05 09:29:14,012 - Sst_Myh8\n",
      "2020-03-05 09:29:14,712 - Sst_Myh8_1\n",
      "2020-03-05 09:29:14,713 - zeng_10x_cell\n",
      "2020-03-05 09:29:15,307 - zeng_10x_nuc\n",
      "2020-03-05 09:29:15,731 - zeng_smart_cell\n",
      "2020-03-05 09:29:16,065 - zeng_10x_cell_v3\n",
      "2020-03-05 09:29:22,813 - Sst_Myh8_2\n",
      "2020-03-05 09:29:22,814 - zeng_10x_cell\n",
      "2020-03-05 09:29:23,149 - zeng_10x_nuc\n",
      "2020-03-05 09:29:23,439 - zeng_10x_cell_v3\n",
      "2020-03-05 09:29:24,235 - macosko_10x_nuc_v3\n",
      "2020-03-05 09:29:30,010 - Sst_Myh8_3\n",
      "2020-03-05 09:29:30,319 - Sst_Myh8_4\n",
      "2020-03-05 09:29:30,804 - Sst_Pvalb_Etv1\n",
      "2020-03-05 09:29:31,643 - Sst_Pvalb_Etv1_1\n",
      "2020-03-05 09:29:32,127 - Sst_Pvalb_Etv1_2\n",
      "2020-03-05 09:29:32,630 - Sst_Pvalb_Etv1_3\n",
      "2020-03-05 09:29:33,391 - Sst_Sfrp2\n",
      "2020-03-05 09:29:34,180 - Sst_Th\n",
      "2020-03-05 09:29:34,802 - Vip_C1ql1\n",
      "2020-03-05 09:29:34,804 - zeng_10x_cell\n",
      "2020-03-05 09:29:35,585 - zeng_10x_cell_v3\n",
      "2020-03-05 09:29:42,732 - Vip_Cbln4\n",
      "2020-03-05 09:29:43,064 - Vip_Cbln4_2\n",
      "2020-03-05 09:29:43,751 - Vip_Chat\n",
      "2020-03-05 09:29:43,752 - zeng_10x_cell\n",
      "2020-03-05 09:29:44,288 - zeng_10x_nuc\n",
      "2020-03-05 09:29:44,954 - zeng_10x_cell_v3\n",
      "2020-03-05 09:29:45,220 - zeng_10x_nuc_v3\n",
      "2020-03-05 09:29:51,803 - Vip_Chat_2\n",
      "2020-03-05 09:29:51,804 - zeng_smart_cell\n",
      "2020-03-05 09:29:52,186 - macosko_10x_nuc_v3\n",
      "2020-03-05 09:29:59,768 - Vip_Chat_3\n",
      "2020-03-05 09:30:00,031 - Vip_Chat_4\n",
      "2020-03-05 09:30:00,781 - Vip_Chat_5\n",
      "2020-03-05 09:30:01,442 - Vip_Chat_6\n",
      "2020-03-05 09:30:02,134 - Vip_Crispld2\n",
      "2020-03-05 09:30:02,135 - zeng_10x_cell\n",
      "2020-03-05 09:30:02,699 - zeng_10x_nuc\n",
      "2020-03-05 09:30:03,182 - zeng_10x_cell_v3\n",
      "2020-03-05 09:30:03,885 - zeng_10x_nuc_v3\n",
      "2020-03-05 09:30:04,656 - macosko_10x_nuc_v3\n",
      "2020-03-05 09:30:11,318 - Vip_Gpc3\n",
      "2020-03-05 09:30:11,319 - zeng_10x_cell\n",
      "2020-03-05 09:30:11,689 - zeng_10x_nuc\n",
      "2020-03-05 09:30:11,997 - zeng_10x_cell_v3\n",
      "2020-03-05 09:30:17,764 - Vip_Htr1f\n",
      "2020-03-05 09:30:17,766 - zeng_10x_nuc_v3\n",
      "2020-03-05 09:30:18,070 - macosko_10x_nuc_v3\n",
      "2020-03-05 09:30:24,895 - Vip_Htr1f_1\n",
      "2020-03-05 09:30:25,192 - Vip_Htr1f_2\n",
      "2020-03-05 09:30:25,193 - zeng_10x_cell\n",
      "2020-03-05 09:30:25,712 - zeng_10x_cell_v3\n",
      "2020-03-05 09:30:32,772 - Vip_Igfbp6\n",
      "2020-03-05 09:30:32,773 - zeng_10x_nuc\n",
      "2020-03-05 09:30:33,114 - zeng_smart_cell\n",
      "2020-03-05 09:30:33,439 - zeng_10x_cell_v3\n",
      "2020-03-05 09:30:33,685 - zeng_10x_nuc_v3\n",
      "2020-03-05 09:30:41,099 - Vip_Igfbp6_1\n",
      "2020-03-05 09:30:41,100 - zeng_10x_cell\n",
      "2020-03-05 09:30:41,465 - macosko_10x_nuc_v3\n",
      "2020-03-05 09:30:48,413 - Vip_Igfbp6_2\n",
      "2020-03-05 09:30:48,415 - zeng_10x_cell\n",
      "2020-03-05 09:30:48,817 - macosko_10x_nuc_v3\n",
      "2020-03-05 09:30:56,311 - Vip_Lmo1\n",
      "2020-03-05 09:30:56,638 - Vip_Lypd1\n",
      "2020-03-05 09:30:56,639 - zeng_10x_cell\n",
      "2020-03-05 09:30:57,143 - zeng_10x_cell_v3\n",
      "2020-03-05 09:31:04,291 - Vip_Mybpc1\n",
      "2020-03-05 09:31:04,616 - Vip_Mybpc1_1\n",
      "2020-03-05 09:31:05,243 - Vip_Mybpc1_2\n",
      "2020-03-05 09:31:05,985 - Vip_Pbx3_Igfbp4\n",
      "2020-03-05 09:31:06,581 - Vip_Rspo4\n",
      "2020-03-05 09:31:07,106 - Vip_Serpinf1\n",
      "2020-03-05 09:31:07,722 - Vip_Serpinf1_1\n",
      "2020-03-05 09:31:07,724 - zeng_10x_cell\n",
      "2020-03-05 09:31:08,389 - macosko_10x_nuc_v3\n",
      "2020-03-05 09:31:15,909 - Vip_Serpinf1_2\n"
     ]
    }
   ],
   "source": [
    "for cluster in cluster_spec.columns:\n",
    "    logging.info(cluster)\n",
    "    datasets = cluster_spec.index[cluster_spec[cluster].astype(bool)].values\n",
    "    if len(datasets) == 1:\n",
    "        copyfile(\n",
    "            f'{nws_path}nearest_centroid/{datasets[0]}/nearest_centroid_nw_cluster_label_{cluster}_50.hdf5',\n",
    "            f'{nws_path}nearest_centroid/aggregate/nearest_centroid_nw_cluster_label_{cluster}_50.hdf5'\n",
    "        )\n",
    "        continue\n",
    "    agg = np.zeros([genes.shape[0], genes.shape[0]])\n",
    "    for dataset in datasets:\n",
    "        logging.info(dataset)\n",
    "        agg += pd.read_hdf(\n",
    "            f'{nws_path}nearest_centroid/{dataset}/nearest_centroid_nw_cluster_label_{cluster}_50.hdf5',\n",
    "            'nw')\n",
    "    pd.DataFrame(rank(agg), index=genes, columns=genes).to_hdf(\n",
    "        f'{nws_path}nearest_centroid/aggregate/nearest_centroid_nw_cluster_label_{cluster}_50.hdf5',\n",
    "        'nw')\n",
    "    del agg\n",
    "    gc.collect()"
   ]
  },
  {
   "cell_type": "code",
   "execution_count": 25,
   "metadata": {
    "ExecuteTime": {
     "end_time": "2020-01-09T23:21:00.448553Z",
     "start_time": "2020-01-09T23:19:19.413415Z"
    },
    "scrolled": true
   },
   "outputs": [
    {
     "name": "stderr",
     "output_type": "stream",
     "text": [
      "2020-03-05 09:31:16,278 - L2.3_IT\n",
      "2020-03-05 09:31:16,279 - zeng_10x_cell\n",
      "2020-03-05 09:31:16,863 - zeng_10x_nuc\n",
      "2020-03-05 09:31:17,294 - zeng_smart_cell\n",
      "2020-03-05 09:31:17,810 - zeng_smart_nuc\n",
      "2020-03-05 09:31:18,229 - zeng_10x_cell_v3\n",
      "2020-03-05 09:31:18,464 - zeng_10x_nuc_v3\n",
      "2020-03-05 09:31:18,707 - macosko_10x_nuc_v3\n",
      "2020-03-05 09:31:26,022 - L5.6_NP\n",
      "2020-03-05 09:31:26,023 - zeng_10x_cell\n",
      "2020-03-05 09:31:26,358 - zeng_10x_nuc\n",
      "2020-03-05 09:31:26,658 - zeng_smart_cell\n",
      "2020-03-05 09:31:26,973 - zeng_smart_nuc\n",
      "2020-03-05 09:31:27,315 - zeng_10x_cell_v3\n",
      "2020-03-05 09:31:27,584 - zeng_10x_nuc_v3\n",
      "2020-03-05 09:31:27,814 - macosko_10x_nuc_v3\n",
      "2020-03-05 09:31:34,699 - L5_ET\n",
      "2020-03-05 09:31:34,701 - zeng_10x_cell_v3\n",
      "2020-03-05 09:31:34,968 - zeng_10x_nuc_v3\n",
      "2020-03-05 09:31:35,202 - macosko_10x_nuc_v3\n",
      "2020-03-05 09:31:42,055 - L5_IT\n",
      "2020-03-05 09:31:42,056 - zeng_10x_cell\n",
      "2020-03-05 09:31:42,403 - zeng_10x_nuc\n",
      "2020-03-05 09:31:42,704 - zeng_smart_cell\n",
      "2020-03-05 09:31:43,024 - zeng_smart_nuc\n",
      "2020-03-05 09:31:43,380 - zeng_10x_cell_v3\n",
      "2020-03-05 09:31:43,652 - zeng_10x_nuc_v3\n",
      "2020-03-05 09:31:43,936 - macosko_10x_nuc_v3\n",
      "2020-03-05 09:31:50,793 - L5_PT\n",
      "2020-03-05 09:31:50,795 - zeng_10x_cell\n",
      "2020-03-05 09:31:51,130 - zeng_10x_nuc\n",
      "2020-03-05 09:31:51,470 - zeng_smart_nuc\n",
      "2020-03-05 09:31:58,409 - L6_CT\n",
      "2020-03-05 09:31:58,410 - zeng_10x_cell\n",
      "2020-03-05 09:31:58,741 - zeng_10x_nuc\n",
      "2020-03-05 09:31:59,132 - zeng_smart_cell\n",
      "2020-03-05 09:31:59,738 - zeng_smart_nuc\n",
      "2020-03-05 09:32:00,123 - zeng_10x_cell_v3\n",
      "2020-03-05 09:32:00,375 - zeng_10x_nuc_v3\n",
      "2020-03-05 09:32:00,620 - macosko_10x_nuc_v3\n",
      "2020-03-05 09:32:07,570 - L6_IT\n",
      "2020-03-05 09:32:07,571 - zeng_10x_cell\n",
      "2020-03-05 09:32:08,000 - zeng_10x_nuc\n",
      "2020-03-05 09:32:08,366 - zeng_smart_cell\n",
      "2020-03-05 09:32:08,698 - zeng_smart_nuc\n",
      "2020-03-05 09:32:09,071 - zeng_10x_cell_v3\n",
      "2020-03-05 09:32:09,742 - zeng_10x_nuc_v3\n",
      "2020-03-05 09:32:09,989 - macosko_10x_nuc_v3\n",
      "2020-03-05 09:32:16,968 - L6_IT_Car3\n",
      "2020-03-05 09:32:16,969 - zeng_10x_cell\n",
      "2020-03-05 09:32:17,344 - zeng_10x_nuc\n",
      "2020-03-05 09:32:24,464 - L6b\n",
      "2020-03-05 09:32:24,466 - zeng_10x_cell\n",
      "2020-03-05 09:32:24,809 - zeng_10x_nuc\n",
      "2020-03-05 09:32:25,124 - zeng_smart_cell\n",
      "2020-03-05 09:32:25,451 - zeng_smart_nuc\n",
      "2020-03-05 09:32:25,798 - zeng_10x_cell_v3\n",
      "2020-03-05 09:32:26,058 - zeng_10x_nuc_v3\n",
      "2020-03-05 09:32:26,314 - macosko_10x_nuc_v3\n",
      "2020-03-05 09:32:33,274 - Lamp5\n",
      "2020-03-05 09:32:33,276 - zeng_10x_cell\n",
      "2020-03-05 09:32:33,643 - zeng_10x_nuc\n",
      "2020-03-05 09:32:33,966 - zeng_smart_cell\n",
      "2020-03-05 09:32:34,288 - zeng_smart_nuc\n",
      "2020-03-05 09:32:34,618 - zeng_10x_cell_v3\n",
      "2020-03-05 09:32:34,896 - zeng_10x_nuc_v3\n",
      "2020-03-05 09:32:35,152 - macosko_10x_nuc_v3\n",
      "2020-03-05 09:32:42,138 - Pvalb\n",
      "2020-03-05 09:32:42,139 - zeng_10x_cell\n",
      "2020-03-05 09:32:42,475 - zeng_10x_nuc\n",
      "2020-03-05 09:32:42,774 - zeng_smart_cell\n",
      "2020-03-05 09:32:43,101 - zeng_smart_nuc\n",
      "2020-03-05 09:32:43,435 - zeng_10x_cell_v3\n",
      "2020-03-05 09:32:43,698 - zeng_10x_nuc_v3\n",
      "2020-03-05 09:32:43,943 - macosko_10x_nuc_v3\n",
      "2020-03-05 09:32:50,735 - Sncg\n",
      "2020-03-05 09:32:50,736 - zeng_10x_cell\n",
      "2020-03-05 09:32:51,084 - zeng_10x_nuc\n",
      "2020-03-05 09:32:51,406 - zeng_10x_cell_v3\n",
      "2020-03-05 09:32:51,668 - zeng_10x_nuc_v3\n",
      "2020-03-05 09:32:51,902 - macosko_10x_nuc_v3\n",
      "2020-03-05 09:32:58,765 - Sst\n",
      "2020-03-05 09:32:58,766 - zeng_10x_cell\n",
      "2020-03-05 09:32:59,116 - zeng_10x_nuc\n",
      "2020-03-05 09:32:59,514 - zeng_smart_cell\n",
      "2020-03-05 09:33:00,096 - zeng_smart_nuc\n",
      "2020-03-05 09:33:00,484 - zeng_10x_cell_v3\n",
      "2020-03-05 09:33:00,787 - zeng_10x_nuc_v3\n",
      "2020-03-05 09:33:01,063 - macosko_10x_nuc_v3\n",
      "2020-03-05 09:33:07,849 - Vip\n",
      "2020-03-05 09:33:07,851 - zeng_10x_cell\n",
      "2020-03-05 09:33:08,185 - zeng_10x_nuc\n",
      "2020-03-05 09:33:08,507 - zeng_smart_cell\n",
      "2020-03-05 09:33:08,854 - zeng_smart_nuc\n",
      "2020-03-05 09:33:09,180 - zeng_10x_cell_v3\n",
      "2020-03-05 09:33:09,453 - zeng_10x_nuc_v3\n",
      "2020-03-05 09:33:09,697 - macosko_10x_nuc_v3\n"
     ]
    }
   ],
   "source": [
    "for subclass in subclass_spec.columns:\n",
    "    logging.info(subclass)\n",
    "    datasets = subclass_spec.index[subclass_spec[subclass].astype(bool)].values\n",
    "    if len(datasets) == 1:\n",
    "        copyfile(\n",
    "            f'{nws_path}nearest_centroid/{datasets[0]}/nearest_centroid_nw_subclass_label_{subclass}_50.hdf5',\n",
    "            f'{nws_path}nearest_centroid/aggregate/nearest_centroid_nw_subclass_label_{subclass}_50.hdf5'\n",
    "        )\n",
    "        continue\n",
    "    agg = np.zeros([genes.shape[0], genes.shape[0]])\n",
    "    for dataset in datasets:\n",
    "        logging.info(dataset)\n",
    "        agg += pd.read_hdf(\n",
    "            f'{nws_path}nearest_centroid/{dataset}/nearest_centroid_nw_subclass_label_{subclass}_50.hdf5',\n",
    "            'nw')\n",
    "    pd.DataFrame(rank(agg), index=genes, columns=genes).to_hdf(\n",
    "        f'{nws_path}nearest_centroid/aggregate/nearest_centroid_nw_subclass_label_{subclass}_50.hdf5',\n",
    "        'nw')\n",
    "    del agg\n",
    "    gc.collect()"
   ]
  },
  {
   "cell_type": "code",
   "execution_count": 26,
   "metadata": {
    "scrolled": true
   },
   "outputs": [
    {
     "ename": "NameError",
     "evalue": "name 'joint_spec' is not defined",
     "output_type": "error",
     "traceback": [
      "\u001b[0;31m---------------------------------------------------------------------------\u001b[0m",
      "\u001b[0;31mNameError\u001b[0m                                 Traceback (most recent call last)",
      "\u001b[0;32m<ipython-input-26-ccbb3e40fece>\u001b[0m in \u001b[0;36m<module>\u001b[0;34m\u001b[0m\n\u001b[0;32m----> 1\u001b[0;31m \u001b[0;32mfor\u001b[0m \u001b[0mjoint_cluster\u001b[0m \u001b[0;32min\u001b[0m \u001b[0mjoint_spec\u001b[0m\u001b[0;34m.\u001b[0m\u001b[0mcolumns\u001b[0m\u001b[0;34m:\u001b[0m\u001b[0;34m\u001b[0m\u001b[0m\n\u001b[0m\u001b[1;32m      2\u001b[0m     \u001b[0mlogging\u001b[0m\u001b[0;34m.\u001b[0m\u001b[0minfo\u001b[0m\u001b[0;34m(\u001b[0m\u001b[0mjoint_cluster\u001b[0m\u001b[0;34m)\u001b[0m\u001b[0;34m\u001b[0m\u001b[0m\n\u001b[1;32m      3\u001b[0m     \u001b[0mdatasets\u001b[0m \u001b[0;34m=\u001b[0m \u001b[0mjoint_spec\u001b[0m\u001b[0;34m.\u001b[0m\u001b[0mindex\u001b[0m\u001b[0;34m[\u001b[0m\u001b[0mjoint_spec\u001b[0m\u001b[0;34m[\u001b[0m\u001b[0mjoint_cluster\u001b[0m\u001b[0;34m]\u001b[0m\u001b[0;34m.\u001b[0m\u001b[0mastype\u001b[0m\u001b[0;34m(\u001b[0m\u001b[0mbool\u001b[0m\u001b[0;34m)\u001b[0m\u001b[0;34m]\u001b[0m\u001b[0;34m.\u001b[0m\u001b[0mvalues\u001b[0m\u001b[0;34m\u001b[0m\u001b[0m\n\u001b[1;32m      4\u001b[0m     \u001b[0;32mif\u001b[0m \u001b[0mlen\u001b[0m\u001b[0;34m(\u001b[0m\u001b[0mdatasets\u001b[0m\u001b[0;34m)\u001b[0m \u001b[0;34m==\u001b[0m \u001b[0;36m1\u001b[0m\u001b[0;34m:\u001b[0m\u001b[0;34m\u001b[0m\u001b[0m\n\u001b[1;32m      5\u001b[0m         copyfile(\n",
      "\u001b[0;31mNameError\u001b[0m: name 'joint_spec' is not defined"
     ]
    }
   ],
   "source": [
    "for joint_cluster in joint_spec.columns:\n",
    "    logging.info(joint_cluster)\n",
    "    datasets = joint_spec.index[joint_spec[joint_cluster].astype(bool)].values\n",
    "    if len(datasets) == 1:\n",
    "        copyfile(\n",
    "            f'{nws_path}nearest_centroid/{datasets[0]}/nearest_centroid_nw_joint_cluster_label_{joint_cluster}_50.hdf5',\n",
    "            f'{nws_path}nearest_centroid/aggregate/nearest_centroid_nw_joint_cluster_label_{joint_cluster}_50.hdf5'\n",
    "        )\n",
    "        continue\n",
    "    agg = np.zeros([genes.shape[0], genes.shape[0]])\n",
    "    for dataset in datasets:\n",
    "        logging.info(dataset)\n",
    "        agg += pd.read_hdf(\n",
    "            f'{nws_path}nearest_centroid/{dataset}/nearest_centroid_nw_joint_cluster_label_{joint_cluster}_50.hdf5',\n",
    "            'nw')\n",
    "    pd.DataFrame(rank(agg), index=genes, columns=genes).to_hdf(\n",
    "        f'{nws_path}nearest_centroid/aggregate/nearest_centroid_nw_joint_cluster_label_{joint_cluster}_50.hdf5',\n",
    "        'nw')\n",
    "    del agg\n",
    "    gc.collect()"
   ]
  },
  {
   "cell_type": "markdown",
   "metadata": {},
   "source": [
    "## Aggregate By Dataset"
   ]
  },
  {
   "cell_type": "code",
   "execution_count": null,
   "metadata": {
    "scrolled": true
   },
   "outputs": [],
   "source": [
    "for dataset in dataset_dict:\n",
    "    logging.info(dataset )\n",
    "    subclasses = subclass_spec.columns[subclass_spec.loc[dataset].astype(bool)].values\n",
    "    joint_clusters = joint_cluster_spec.columns[joint_cluster_spec.loc[dataset].astype(bool)].values\n",
    "    clusters = cluster_spec.columns[cluster_spec.loc[dataset].astype(bool)].values\n",
    "    for level, names in zip(['class_label','subclass_label','cluster_label','joint_cluster_label'],\n",
    "                            [['GABAergic','Glutamatergic'],subclasses,clusters,joint_clusters]):\n",
    "        logging.info(level)\n",
    "        agg_nw = np.zeros([genes.shape[0],genes.shape[0]])\n",
    "        for name in names:\n",
    "            logging.info(name)\n",
    "            try:\n",
    "                nw=pd.read_hdf(f'{nws_path}nearest_centroid/{dataset}/nearest_centroid_nw_{level}_{name}_50.hdf5','nw')\n",
    "            except:\n",
    "                logging.info(f'NW {dataset} {level} {name} does not exist')\n",
    "                continue\n",
    "            agg_nw+=nw.values\n",
    "            del nw\n",
    "            gc.collect()\n",
    "        ds_agg = pd.DataFrame(rank(agg_nw),index=genes,columns=genes)\n",
    "        ds_agg.to_hdf(f'{nws_path}nearest_centroid/{dataset}/nearest_centroid_agg_nw_{level}_50.hdf5','nw')\n",
    "        del ds_agg\n",
    "        gc.collect()"
   ]
  },
  {
   "cell_type": "code",
   "execution_count": null,
   "metadata": {
    "scrolled": true
   },
   "outputs": [],
   "source": [
    "for level in ['class_label','subclass_label','cluster_label','joint_cluster_label']:\n",
    "    logging.info(level)\n",
    "    agg_nw = np.zeros([genes.shape[0],genes.shape[0]])\n",
    "    for dataset in dataset_dict:\n",
    "        logging.info(dataset)\n",
    "        nw= pd.read_hdf(f'{nws_path}nearest_centroid/{dataset}/nearest_centroid_agg_nw_{level}_50.hdf5','nw')\n",
    "        agg_nw+=nw.values\n",
    "        del nw\n",
    "        gc.collect()\n",
    "    lvl_agg = pd.DataFrame(rank(agg_nw), index=genes,columns=genes)\n",
    "    lvl_agg.to_hdf(f'{nws_path}nearest_centroid/aggregate/nearest_centroid_agg_nw_{level}_50.hdf5','nw')\n",
    "    del lvl_agg\n",
    "    gc.collect()"
   ]
  },
  {
   "cell_type": "markdown",
   "metadata": {},
   "source": [
    "## Downsample Datasets (Supplementary Figure 4)"
   ]
  },
  {
   "cell_type": "code",
   "execution_count": 14,
   "metadata": {},
   "outputs": [],
   "source": [
    "stephan_markers =pd.read_csv('/home/bharris/biccn_paper/data/stephan_marker_nw.csv',index_col=0)"
   ]
  },
  {
   "cell_type": "code",
   "execution_count": 87,
   "metadata": {},
   "outputs": [
    {
     "name": "stderr",
     "output_type": "stream",
     "text": [
      "2020-03-06 09:09:36,833 - class_label\n",
      "2020-03-06 09:09:39,008 - subclass_label\n",
      "2020-03-06 09:09:41,125 - joint_cluster_label\n"
     ]
    }
   ],
   "source": [
    "nearest_networks = {}\n",
    "for level in ['class_label','subclass_label','joint_cluster_label']:\n",
    "    level_networks = {}\n",
    "    logging.info(level)\n",
    "    for dataset in np.concatenate([all_datasets,['aggregate']]):\n",
    "        nw = pd.read_hdf(f'{nws_path}nearest_centroid/{dataset}/nearest_centroid_agg_nw_{level}_50.hdf5','nw')\n",
    "        level_networks[dataset] = nw\n",
    "        del nw\n",
    "        gc.collect()\n",
    "        \n",
    "    nearest_networks[level] = level_networks\n",
    "    del level_networks\n",
    "    gc.collect()"
   ]
  },
  {
   "cell_type": "code",
   "execution_count": 88,
   "metadata": {},
   "outputs": [
    {
     "name": "stderr",
     "output_type": "stream",
     "text": [
      "2020-03-06 09:10:01,651 - zeng_10x_cell_v3_zeng_10x_nuc_v3_macosko_10x_nuc_v3\n",
      "2020-03-06 09:10:22,446 - zeng_smart_nuc_zeng_10x_nuc_v3_macosko_10x_nuc_v3\n",
      "2020-03-06 09:10:43,200 - zeng_smart_nuc_zeng_10x_cell_v3_macosko_10x_nuc_v3\n",
      "2020-03-06 09:11:04,395 - zeng_smart_nuc_zeng_10x_cell_v3_zeng_10x_nuc_v3\n",
      "2020-03-06 09:11:24,871 - zeng_smart_cell_zeng_10x_nuc_v3_macosko_10x_nuc_v3\n",
      "2020-03-06 09:11:46,575 - zeng_smart_cell_zeng_10x_cell_v3_macosko_10x_nuc_v3\n",
      "2020-03-06 09:12:07,349 - zeng_smart_cell_zeng_10x_cell_v3_zeng_10x_nuc_v3\n",
      "2020-03-06 09:12:30,179 - zeng_smart_cell_zeng_smart_nuc_macosko_10x_nuc_v3\n",
      "2020-03-06 09:12:51,622 - zeng_smart_cell_zeng_smart_nuc_zeng_10x_nuc_v3\n",
      "2020-03-06 09:13:13,326 - zeng_smart_cell_zeng_smart_nuc_zeng_10x_cell_v3\n",
      "2020-03-06 09:13:35,371 - zeng_10x_nuc_zeng_10x_nuc_v3_macosko_10x_nuc_v3\n",
      "2020-03-06 09:13:57,788 - zeng_10x_nuc_zeng_10x_cell_v3_macosko_10x_nuc_v3\n",
      "2020-03-06 09:14:19,990 - zeng_10x_nuc_zeng_10x_cell_v3_zeng_10x_nuc_v3\n",
      "2020-03-06 09:14:42,004 - zeng_10x_nuc_zeng_smart_nuc_macosko_10x_nuc_v3\n",
      "2020-03-06 09:15:03,822 - zeng_10x_nuc_zeng_smart_nuc_zeng_10x_nuc_v3\n",
      "2020-03-06 09:15:25,307 - zeng_10x_nuc_zeng_smart_nuc_zeng_10x_cell_v3\n",
      "2020-03-06 09:15:46,363 - zeng_10x_nuc_zeng_smart_cell_macosko_10x_nuc_v3\n",
      "2020-03-06 09:16:07,527 - zeng_10x_nuc_zeng_smart_cell_zeng_10x_nuc_v3\n",
      "2020-03-06 09:16:28,685 - zeng_10x_nuc_zeng_smart_cell_zeng_10x_cell_v3\n",
      "2020-03-06 09:16:50,215 - zeng_10x_nuc_zeng_smart_cell_zeng_smart_nuc\n",
      "2020-03-06 09:17:11,324 - zeng_10x_cell_zeng_10x_nuc_v3_macosko_10x_nuc_v3\n",
      "2020-03-06 09:17:32,741 - zeng_10x_cell_zeng_10x_cell_v3_macosko_10x_nuc_v3\n",
      "2020-03-06 09:17:58,040 - zeng_10x_cell_zeng_10x_cell_v3_zeng_10x_nuc_v3\n",
      "2020-03-06 09:18:19,227 - zeng_10x_cell_zeng_smart_nuc_macosko_10x_nuc_v3\n",
      "2020-03-06 09:18:40,814 - zeng_10x_cell_zeng_smart_nuc_zeng_10x_nuc_v3\n",
      "2020-03-06 09:19:02,345 - zeng_10x_cell_zeng_smart_nuc_zeng_10x_cell_v3\n",
      "2020-03-06 09:19:23,652 - zeng_10x_cell_zeng_smart_cell_macosko_10x_nuc_v3\n",
      "2020-03-06 09:19:44,282 - zeng_10x_cell_zeng_smart_cell_zeng_10x_nuc_v3\n",
      "2020-03-06 09:20:05,620 - zeng_10x_cell_zeng_smart_cell_zeng_10x_cell_v3\n",
      "2020-03-06 09:20:26,674 - zeng_10x_cell_zeng_smart_cell_zeng_smart_nuc\n",
      "2020-03-06 09:20:48,133 - zeng_10x_cell_zeng_10x_nuc_macosko_10x_nuc_v3\n",
      "2020-03-06 09:21:10,006 - zeng_10x_cell_zeng_10x_nuc_zeng_10x_nuc_v3\n",
      "2020-03-06 09:21:33,782 - zeng_10x_cell_zeng_10x_nuc_zeng_10x_cell_v3\n",
      "2020-03-06 09:21:55,715 - zeng_10x_cell_zeng_10x_nuc_zeng_smart_nuc\n",
      "2020-03-06 09:22:17,397 - zeng_10x_cell_zeng_10x_nuc_zeng_smart_cell\n"
     ]
    }
   ],
   "source": [
    "nw_combinations = list(combinations(all_datasets, 4))\n",
    "all_results = []\n",
    "for nw_ds in nw_combinations:\n",
    "    \n",
    "    marker_ds = all_datasets[~np.in1d(all_datasets, nw_ds)]\n",
    "    markers_name = '_'.join(marker_ds)\n",
    "    logging.info(markers_name)\n",
    "    markers_nw = pd.read_csv(f'/home/bharris/biccn_paper/data/markers_3ds/markers_{markers_name}.csv',\n",
    "                             index_col=0)\n",
    "    iteration_name = '_'.join(nw_ds)\n",
    "    for meta_level in [\n",
    "            'class_label', 'subclass_label', 'joint_cluster_label',\n",
    "    ]:\n",
    "        agg_nw = perf.combine_networks(nw_ds, meta_level, nearest_networks)\n",
    "        egad_res = perf.add_attributes(run_egad(markers_nw, agg_nw),\n",
    "                                       meta_level, iteration_name)\n",
    "\n",
    "        all_results.append(\n",
    "            pd.melt(egad_res.reset_index(),\n",
    "                    id_vars=['labels', 'metric', 'name'],\n",
    "                    var_name='EGAD_res'))\n",
    "        del agg_nw\n",
    "\n",
    "        del egad_res\n",
    "        gc.collect()\n",
    "    del markers_nw\n",
    "    gc.collect()"
   ]
  },
  {
   "cell_type": "code",
   "execution_count": 89,
   "metadata": {},
   "outputs": [],
   "source": [
    "nearest_centroid_results= pd.concat(all_results)"
   ]
  },
  {
   "cell_type": "code",
   "execution_count": 15,
   "metadata": {},
   "outputs": [
    {
     "name": "stderr",
     "output_type": "stream",
     "text": [
      "2020-03-18 14:25:12,990 - zeng_10x_cell\n",
      "2020-03-18 14:25:31,466 - zeng_10x_nuc\n",
      "2020-03-18 14:25:50,656 - zeng_smart_cell\n",
      "2020-03-18 14:26:09,743 - zeng_smart_nuc\n",
      "2020-03-18 14:26:28,958 - zeng_10x_cell_v3\n",
      "2020-03-18 14:26:47,963 - zeng_10x_nuc_v3\n",
      "2020-03-18 14:27:06,934 - macosko_10x_nuc_v3\n"
     ]
    }
   ],
   "source": [
    "pearson_networks = load_pearson_networks.load_all_networks()"
   ]
  },
  {
   "cell_type": "code",
   "execution_count": 44,
   "metadata": {
    "scrolled": true
   },
   "outputs": [
    {
     "name": "stderr",
     "output_type": "stream",
     "text": [
      "2020-03-05 13:46:49,917 - zeng_10x_cell_v3_zeng_10x_nuc_v3_macosko_10x_nuc_v3\n",
      "2020-03-05 13:47:08,834 - zeng_smart_nuc_zeng_10x_nuc_v3_macosko_10x_nuc_v3\n",
      "2020-03-05 13:47:28,012 - zeng_smart_nuc_zeng_10x_cell_v3_macosko_10x_nuc_v3\n",
      "2020-03-05 13:47:47,153 - zeng_smart_nuc_zeng_10x_cell_v3_zeng_10x_nuc_v3\n",
      "2020-03-05 13:48:05,885 - zeng_smart_cell_zeng_10x_nuc_v3_macosko_10x_nuc_v3\n",
      "2020-03-05 13:48:24,972 - zeng_smart_cell_zeng_10x_cell_v3_macosko_10x_nuc_v3\n",
      "2020-03-05 13:48:44,133 - zeng_smart_cell_zeng_10x_cell_v3_zeng_10x_nuc_v3\n",
      "2020-03-05 13:49:03,098 - zeng_smart_cell_zeng_smart_nuc_macosko_10x_nuc_v3\n",
      "2020-03-05 13:49:21,911 - zeng_smart_cell_zeng_smart_nuc_zeng_10x_nuc_v3\n",
      "2020-03-05 13:49:40,704 - zeng_smart_cell_zeng_smart_nuc_zeng_10x_cell_v3\n",
      "2020-03-05 13:49:59,557 - zeng_10x_nuc_zeng_10x_nuc_v3_macosko_10x_nuc_v3\n",
      "2020-03-05 13:50:18,449 - zeng_10x_nuc_zeng_10x_cell_v3_macosko_10x_nuc_v3\n",
      "2020-03-05 13:50:37,342 - zeng_10x_nuc_zeng_10x_cell_v3_zeng_10x_nuc_v3\n",
      "2020-03-05 13:50:56,319 - zeng_10x_nuc_zeng_smart_nuc_macosko_10x_nuc_v3\n",
      "2020-03-05 13:51:15,227 - zeng_10x_nuc_zeng_smart_nuc_zeng_10x_nuc_v3\n",
      "2020-03-05 13:51:34,003 - zeng_10x_nuc_zeng_smart_nuc_zeng_10x_cell_v3\n",
      "2020-03-05 13:51:52,881 - zeng_10x_nuc_zeng_smart_cell_macosko_10x_nuc_v3\n",
      "2020-03-05 13:52:11,726 - zeng_10x_nuc_zeng_smart_cell_zeng_10x_nuc_v3\n",
      "2020-03-05 13:52:30,502 - zeng_10x_nuc_zeng_smart_cell_zeng_10x_cell_v3\n",
      "2020-03-05 13:52:49,329 - zeng_10x_nuc_zeng_smart_cell_zeng_smart_nuc\n",
      "2020-03-05 13:53:07,996 - zeng_10x_cell_zeng_10x_nuc_v3_macosko_10x_nuc_v3\n",
      "2020-03-05 13:53:27,663 - zeng_10x_cell_zeng_10x_cell_v3_macosko_10x_nuc_v3\n",
      "2020-03-05 13:53:48,488 - zeng_10x_cell_zeng_10x_cell_v3_zeng_10x_nuc_v3\n",
      "2020-03-05 13:54:11,076 - zeng_10x_cell_zeng_smart_nuc_macosko_10x_nuc_v3\n",
      "2020-03-05 13:54:29,328 - zeng_10x_cell_zeng_smart_nuc_zeng_10x_nuc_v3\n",
      "2020-03-05 13:54:48,910 - zeng_10x_cell_zeng_smart_nuc_zeng_10x_cell_v3\n",
      "2020-03-05 13:55:08,420 - zeng_10x_cell_zeng_smart_cell_macosko_10x_nuc_v3\n",
      "2020-03-05 13:55:27,966 - zeng_10x_cell_zeng_smart_cell_zeng_10x_nuc_v3\n",
      "2020-03-05 13:55:47,508 - zeng_10x_cell_zeng_smart_cell_zeng_10x_cell_v3\n",
      "2020-03-05 13:56:07,072 - zeng_10x_cell_zeng_smart_cell_zeng_smart_nuc\n",
      "2020-03-05 13:56:25,763 - zeng_10x_cell_zeng_10x_nuc_macosko_10x_nuc_v3\n",
      "2020-03-05 13:56:45,360 - zeng_10x_cell_zeng_10x_nuc_zeng_10x_nuc_v3\n",
      "2020-03-05 13:57:02,983 - zeng_10x_cell_zeng_10x_nuc_zeng_10x_cell_v3\n",
      "2020-03-05 13:57:22,014 - zeng_10x_cell_zeng_10x_nuc_zeng_smart_nuc\n",
      "2020-03-05 13:57:40,936 - zeng_10x_cell_zeng_10x_nuc_zeng_smart_cell\n"
     ]
    }
   ],
   "source": [
    "nw_combinations = list(combinations(all_datasets, 4))\n",
    "all_results = []\n",
    "for nw_ds in nw_combinations:\n",
    "    \n",
    "    marker_ds = all_datasets[~np.in1d(all_datasets, nw_ds)]\n",
    "    markers_name = '_'.join(marker_ds)\n",
    "    logging.info(markers_name)\n",
    "    markers_nw = pd.read_csv(f'/home/bharris/biccn_paper/data/markers_3ds/markers_{markers_name}.csv',\n",
    "                             index_col=0)\n",
    "    iteration_name = '_'.join(nw_ds)\n",
    "    for meta_level in [\n",
    "            'class_label', 'subclass_label', 'joint_cluster_label',\n",
    "    ]:\n",
    "        agg_nw = perf.combine_networks(nw_ds, meta_level, pearson_networks)\n",
    "        egad_res = perf.add_attributes(run_egad(markers_nw, agg_nw),\n",
    "                                       meta_level, iteration_name)\n",
    "\n",
    "        all_results.append(\n",
    "            pd.melt(egad_res.reset_index(),\n",
    "                    id_vars=['labels', 'metric', 'name'],\n",
    "                    var_name='EGAD_res'))\n",
    "        del agg_nw\n",
    "\n",
    "        del egad_res\n",
    "        gc.collect()\n",
    "    del markers_nw\n",
    "    gc.collect()"
   ]
  },
  {
   "cell_type": "code",
   "execution_count": 55,
   "metadata": {},
   "outputs": [],
   "source": [
    "full_network_results = pd.concat(all_results)"
   ]
  },
  {
   "cell_type": "code",
   "execution_count": 90,
   "metadata": {},
   "outputs": [],
   "source": [
    "nearest_centroids_avg_aurocs = nearest_centroid_results[nearest_centroid_results.EGAD_res =='AUC'] \\\n",
    "    .groupby(['labels','metric']) \\\n",
    "    .mean() \\\n",
    "    .reset_index()\n",
    "nearest_centroids_avg_aurocs.rename(columns={'value':'nearest_centroid'}, inplace=True)"
   ]
  },
  {
   "cell_type": "code",
   "execution_count": 56,
   "metadata": {},
   "outputs": [],
   "source": [
    "full_network_avg_aurocs = full_network_results[full_network_results.EGAD_res =='AUC'] \\\n",
    "    .groupby(['labels','metric']) \\\n",
    "    .mean() \\\n",
    "    .reset_index()\n",
    "full_network_avg_aurocs.rename(columns={'value':'full_dataset'}, inplace=True)"
   ]
  },
  {
   "cell_type": "code",
   "execution_count": 91,
   "metadata": {},
   "outputs": [],
   "source": [
    "combined_avg_auroc = pd.concat([full_network_avg_aurocs,nearest_centroids_avg_aurocs],axis=1)\n",
    "\n",
    "combined_avg_auroc = combined_avg_auroc.loc[:,~combined_avg_auroc.columns.duplicated()]    \n",
    "\n",
    "combined_avg_auroc = combined_avg_auroc[combined_avg_auroc.labels!='Non.Neuronal']"
   ]
  },
  {
   "cell_type": "code",
   "execution_count": 25,
   "metadata": {},
   "outputs": [],
   "source": [
    "all_metadata_color = pd.read_csv(\n",
    "    '/home/bharris/biccn_paper/data/biccn_mouse_full_labels_new.csv',\n",
    "    index_col=0)\n",
    "class_label_palette = all_metadata_color[[\n",
    "    'class_label', 'class_color'\n",
    "]].groupby(['class_label', 'class_color']).size().reset_index().sort_values(\n",
    "    ['class_label', 0], ascending=False).drop_duplicates(\n",
    "        subset='class_label').set_index('class_label')['class_color']\n",
    "replace_hyphen = np.vectorize(lambda x: x.replace('-', '.'))\n",
    "class_label_palette.index = replace_hyphen(class_label_palette.index)\n",
    "\n",
    "subclass_colors = pd.read_csv(\n",
    "    '/home/bharris/biccn_paper/data/subclass_colors.csv', index_col=1,header=None)[0]\n",
    "replace_space = np.vectorize(lambda x: x.replace(' ', '.'))\n",
    "replace_slash = np.vectorize(lambda x: x.replace('/', '.'))\n",
    "subclass_colors.index = fix_marker_name(replace_slash(replace_space(subclass_colors.index)))\n",
    "\n",
    "\n",
    "combined_color_pal = pd.concat([subclass_colors,class_label_palette])"
   ]
  },
  {
   "cell_type": "code",
   "execution_count": 93,
   "metadata": {},
   "outputs": [],
   "source": [
    "colormap = sns.color_palette(combined_color_pal[combined_avg_auroc.labels.unique()].values,desat=.5)\n",
    "colormap_dict =dict(zip(combined_avg_auroc.labels.unique(),colormap))"
   ]
  },
  {
   "cell_type": "code",
   "execution_count": 121,
   "metadata": {},
   "outputs": [
    {
     "data": {
      "text/html": [
       "<div>\n",
       "<style scoped>\n",
       "    .dataframe tbody tr th:only-of-type {\n",
       "        vertical-align: middle;\n",
       "    }\n",
       "\n",
       "    .dataframe tbody tr th {\n",
       "        vertical-align: top;\n",
       "    }\n",
       "\n",
       "    .dataframe thead th {\n",
       "        text-align: right;\n",
       "    }\n",
       "</style>\n",
       "<table border=\"1\" class=\"dataframe\">\n",
       "  <thead>\n",
       "    <tr style=\"text-align: right;\">\n",
       "      <th></th>\n",
       "      <th>full_dataset</th>\n",
       "      <th>nearest_centroid</th>\n",
       "    </tr>\n",
       "    <tr>\n",
       "      <th>metric</th>\n",
       "      <th></th>\n",
       "      <th></th>\n",
       "    </tr>\n",
       "  </thead>\n",
       "  <tbody>\n",
       "    <tr>\n",
       "      <th>class_label</th>\n",
       "      <td>0.927940</td>\n",
       "      <td>0.830232</td>\n",
       "    </tr>\n",
       "    <tr>\n",
       "      <th>joint_cluster_label</th>\n",
       "      <td>0.821948</td>\n",
       "      <td>0.821828</td>\n",
       "    </tr>\n",
       "    <tr>\n",
       "      <th>subclass_label</th>\n",
       "      <td>0.845145</td>\n",
       "      <td>0.813759</td>\n",
       "    </tr>\n",
       "  </tbody>\n",
       "</table>\n",
       "</div>"
      ],
      "text/plain": [
       "                     full_dataset  nearest_centroid\n",
       "metric                                             \n",
       "class_label              0.927940          0.830232\n",
       "joint_cluster_label      0.821948          0.821828\n",
       "subclass_label           0.845145          0.813759"
      ]
     },
     "execution_count": 121,
     "metadata": {},
     "output_type": "execute_result"
    }
   ],
   "source": [
    "combined_avg_auroc[combined_avg_auroc.labels.isin(subclass_colors.index)].groupby('metric').mean()"
   ]
  },
  {
   "cell_type": "code",
   "execution_count": 104,
   "metadata": {},
   "outputs": [
    {
     "data": {
      "image/png": "[encoded data removed]",
      "text/plain": [
       "<Figure size 1080x360 with 3 Axes>"
      ]
     },
     "metadata": {
      "needs_background": "light"
     },
     "output_type": "display_data"
    }
   ],
   "source": [
    "g = sns.relplot(data=combined_avg_auroc[combined_avg_auroc.labels.isin(subclass_colors.index)],\n",
    "                x='full_dataset',\n",
    "                y='nearest_centroid',\n",
    "                hue='labels',\n",
    "                col='metric',\n",
    "                palette=colormap_dict,\n",
    "                col_order=['class_label','subclass_label','joint_cluster_label'],\n",
    "                s=150,\n",
    "                legend=None)\n",
    "g.set_titles(\"{col_name}\")\n",
    "g.set_xlabels('All Cells Average Subclass AUROC')\n",
    "g.set_ylabels('Downsampled Cells Nearest\\n Centroid Subclass AUROC')\n",
    "for ax in g.axes[0]: \n",
    "    ax.plot(ax.get_xlim(),ax.get_xlim(),c='.8',ls='--')\n",
    "plt.savefig('/home/bharris/biccn_paper/figures/nearest_centroid_results.pdf',\n",
    "            transparent=True)"
   ]
  },
  {
   "cell_type": "markdown",
   "metadata": {},
   "source": [
    "Correlations between full networks and Centroids : \n",
    "* Class label : .58\n",
    "* Subclass label: .90\n",
    "* Joint Cluster Label : .87\n"
   ]
  },
  {
   "cell_type": "code",
   "execution_count": 57,
   "metadata": {},
   "outputs": [],
   "source": [
    "joy_data = full_network_results[(full_network_results.EGAD_res=='AUC') & \n",
    "                                          (full_network_results.labels.isin(subclass_colors.index.drop('L5_ET')))].groupby(['labels','metric']).mean().reset_index()"
   ]
  },
  {
   "cell_type": "code",
   "execution_count": 58,
   "metadata": {},
   "outputs": [],
   "source": [
    "def code_labels(l):\n",
    "    if l is 'class_label':\n",
    "        return 'a'\n",
    "    elif l is 'subclass_label':\n",
    "        return 'b'\n",
    "    elif l  is 'joint_cluster_label':\n",
    "        return 'c'\n",
    "    else:\n",
    "        return 'd'\n",
    "code_labels = np.vectorize(code_labels)\n",
    "joy_data['metric_code'] = code_labels(joy_data.metric.values)"
   ]
  },
  {
   "cell_type": "markdown",
   "metadata": {},
   "source": [
    "##  Figure 3e"
   ]
  },
  {
   "cell_type": "code",
   "execution_count": 435,
   "metadata": {},
   "outputs": [
    {
     "data": {
      "image/png": "[encoded data removed]",
      "text/plain": [
       "<Figure size 432x288 with 4 Axes>"
      ]
     },
     "metadata": {
      "needs_background": "light"
     },
     "output_type": "display_data"
    }
   ],
   "source": [
    "joypy.joyplot(joy_data, by='metric_code', labels=['class_label','subclass_label','joint_cluster_label'], \n",
    "              colormap=plt.cm.gist_earth, alpha=.75, x_range=[.5,1])\n",
    "plt.savefig('/home/bharris/biccn_paper/figures/multiscale_joyplot.pdf',transparent=True)"
   ]
  },
  {
   "cell_type": "markdown",
   "metadata": {},
   "source": [
    "## Compare Subclass Connectivity (Figures 3fgh and Supp 5)\n"
   ]
  },
  {
   "cell_type": "code",
   "execution_count": 19,
   "metadata": {},
   "outputs": [],
   "source": [
    "def lighten_color(color, amount=0.5):\n",
    "    \"\"\"\n",
    "    Lightens the given color by multiplying (1-luminosity) by the given amount.\n",
    "    Input can be matplotlib color string, hex string, or RGB tuple.\n",
    "\n",
    "    Examples:\n",
    "    >> lighten_color('g', 0.3)\n",
    "    >> lighten_color('#F034A3', 0.6)\n",
    "    >> lighten_color((.3,.55,.1), 0.5)\n",
    "    \"\"\"\n",
    "    import matplotlib.colors as mc\n",
    "    import colorsys\n",
    "    try:\n",
    "        c = mc.cnames[color]\n",
    "    except:\n",
    "        c = color\n",
    "    c = colorsys.rgb_to_hls(*mc.to_rgb(c))\n",
    "    return colorsys.hls_to_rgb(c[0], 1 - amount * (1 - c[1]), c[2])"
   ]
  },
  {
   "cell_type": "code",
   "execution_count": 20,
   "metadata": {},
   "outputs": [],
   "source": [
    "def plot_two_modules(module1, module2, nw, threshold=.99,pos=None, legend=False, ax=None):\n",
    "    m1_genes = genes[stephan_markers[module1].astype(bool)]\n",
    "    if type(module2) is np.ndarray:\n",
    "        m2_genes = module2\n",
    "        module2 = 'random'\n",
    "    else:\n",
    "        m2_genes = genes[stephan_markers[module2].astype(bool)]\n",
    "    \n",
    "    shared_genes = np.intersect1d(m1_genes, m2_genes)\n",
    "    both_genes = np.unique(np.concatenate([m1_genes,m2_genes]))\n",
    "    adj_all = nw.loc[both_genes, both_genes]>threshold\n",
    "    new_idx = adj_all.index[adj_all.sum()- np.diag(adj_all)!=0]\n",
    "    adj =adj_all.loc[new_idx, new_idx]\n",
    "    \n",
    "    m1_genes = np.intersect1d(m1_genes, new_idx)\n",
    "    m2_genes = np.intersect1d(m2_genes, new_idx)\n",
    "    shared_genes = np.intersect1d(shared_genes, new_idx)\n",
    "    both_genes = np.intersect1d(both_genes, new_idx)\n",
    "\n",
    "    G= nx.from_pandas_adjacency(adj)\n",
    "    G.remove_nodes_from(list(nx.isolates(G)))\n",
    "    if ax is None:\n",
    "        fig, ax = plt.subplots()\n",
    "    \n",
    "    if pos is None:\n",
    "        pos = nx.spring_layout(G)\n",
    "    nx.draw_networkx_nodes(G,\n",
    "                           pos,\n",
    "                           nodelist=m1_genes,\n",
    "                           node_color=lighten_color(subclass_colors[module1],.5),\n",
    "                           ax=ax,\n",
    "                           alpha=.9)\n",
    "    m2_color = 'g' if module2 == 'random' else lighten_color(subclass_colors[module2],.5)\n",
    "    nx.draw_networkx_nodes(G,\n",
    "                           pos,\n",
    "                           nodelist=m2_genes, \n",
    "                           node_color=m2_color,\n",
    "                           ax=ax,\n",
    "                           alpha=.5)\n",
    "    nx.draw_networkx_nodes(G,pos,nodelist=shared_genes, node_color='.4',ax=ax, alpha=.5)\n",
    "    nx.draw_networkx_edges(G,pos,ax=ax)\n",
    "    ax.axis('off')\n",
    "    patches = [mpatches.Patch(color='.4',label='Shared'),\n",
    "               mpatches.Patch(color=lighten_color(subclass_colors[module1],.5), label=module1),\n",
    "               mpatches.Patch(color=m2_color, label=module2)\n",
    "              ]\n",
    "\n",
    "    if legend:\n",
    "        ax.legend(handles=patches, loc=(.9,.8),frameon=False)\n",
    "    return adj_all,ax,pos"
   ]
  },
  {
   "cell_type": "code",
   "execution_count": 21,
   "metadata": {},
   "outputs": [],
   "source": [
    "stephan_markers.columns = fix_marker_name(stephan_markers.columns)"
   ]
  },
  {
   "cell_type": "code",
   "execution_count": null,
   "metadata": {},
   "outputs": [],
   "source": [
    "rand_module = np.random.choice(genes,size=100)\n",
    "\n",
    "_,ax,pos = plot_two_modules('Sst','Vip',pearson_networks['class_label']['aggregate'], threshold=.99, legend=True)\n",
    "ax.set(title='Sst + Vip Class Label')\n",
    "#plt.savefig('/home/bharris/biccn_paper/figures/aggregate_class_label_Sst_Vip.pdf',transparent=True)\n",
    "\n",
    "_,ax,_ = plot_two_modules('Sst','Vip',pearson_networks['subclass_label']['aggregate'], threshold=.99)\n",
    "ax.set(title='Sst + Vip Subclass Label')\n",
    "#plt.savefig('/home/bharris/biccn_paper/figures/aggregate_subclass_label_Sst_Vip.pdf',transparent=True)\n",
    "\n",
    "_,ax,_ = plot_two_modules('Sst','Vip',pearson_networks['joint_cluster_label']['aggregate'], threshold=.99)\n",
    "ax.set(title='Sst + Vip Cluster Label')\n",
    "#plt.savefig('/home/bharris/biccn_paper/figures/aggregate_joint_cluster_label_Sst_Vip.pdf',transparent=True)\n",
    "plt.show()"
   ]
  },
  {
   "cell_type": "code",
   "execution_count": 82,
   "metadata": {},
   "outputs": [
    {
     "data": {
      "image/png": "[encoded data removed]",
      "text/plain": [
       "<Figure size 432x288 with 2 Axes>"
      ]
     },
     "metadata": {
      "needs_background": "light"
     },
     "output_type": "display_data"
    }
   ],
   "source": [
    "tt_vip_sst_class_label = egad_tt.run_egad_train_test(stephan_markers[['Vip','Sst']],\n",
    "                                        pearson_networks['class_label']['aggregate'])\n",
    "np.fill_diagonal(tt_vip_sst_class_label.values,run_egad(stephan_markers[['Vip','Sst']],\n",
    "                                                 pearson_networks['class_label']['aggregate']).AUC.values)\n",
    "sns.heatmap(tt_vip_sst_class_label,cmap='Blues',vmin=.5, vmax=1)\n",
    "plt.savefig('/home/bharris/biccn_paper/figures/figure3_tt_class_label.pdf',transparent=True)"
   ]
  },
  {
   "cell_type": "code",
   "execution_count": 83,
   "metadata": {},
   "outputs": [
    {
     "data": {
      "image/png": "[encoded data removed]",
      "text/plain": [
       "<Figure size 432x288 with 2 Axes>"
      ]
     },
     "metadata": {
      "needs_background": "light"
     },
     "output_type": "display_data"
    }
   ],
   "source": [
    "tt_vip_sst_subclass_label = egad_tt.run_egad_train_test(stephan_markers[['Vip','Sst']],\n",
    "                                        pearson_networks['subclass_label']['aggregate'])\n",
    "np.fill_diagonal(tt_vip_sst_subclass_label.values,run_egad(stephan_markers[['Vip','Sst']],\n",
    "                                                 pearson_networks['subclass_label']['aggregate']).AUC.values)\n",
    "sns.heatmap(tt_vip_sst_subclass_label,cmap='Blues',vmin=.5, vmax=1)\n",
    "plt.savefig('/home/bharris/biccn_paper/figures/figure3_tt_subclass_label.pdf',transparent=True)"
   ]
  },
  {
   "cell_type": "code",
   "execution_count": 84,
   "metadata": {},
   "outputs": [
    {
     "data": {
      "image/png": "[encoded data removed]",
      "text/plain": [
       "<Figure size 432x288 with 2 Axes>"
      ]
     },
     "metadata": {
      "needs_background": "light"
     },
     "output_type": "display_data"
    }
   ],
   "source": [
    "tt_vip_sst_cluster_label = egad_tt.run_egad_train_test(stephan_markers[['Vip','Sst']],\n",
    "                                        pearson_networks['joint_cluster_label']['aggregate'])\n",
    "np.fill_diagonal(tt_vip_sst_cluster_label.values,run_egad(stephan_markers[['Vip','Sst']],\n",
    "                                                 pearson_networks['joint_cluster_label']['aggregate']).AUC.values)\n",
    "sns.heatmap(tt_vip_sst_cluster_label,cmap='Blues',vmin=.5, vmax=1)\n",
    "plt.savefig('/home/bharris/biccn_paper/figures/figure3_tt_cluster_label.pdf',transparent=True)"
   ]
  },
  {
   "cell_type": "code",
   "execution_count": 22,
   "metadata": {},
   "outputs": [],
   "source": [
    "def get_non_diagonal_performances(nw, name, drop_row, drop_col=None):\n",
    "    if drop_col is None:\n",
    "        drop_col = drop_row\n",
    "    temp = nw.drop(index=drop_row,columns=drop_col)\n",
    "    np.fill_diagonal(temp.values,np.nan)\n",
    "    temp = pd.melt(temp).dropna()[['value']]\n",
    "    temp['Network'] = name\n",
    "    return temp.reset_index(drop=True)"
   ]
  },
  {
   "cell_type": "code",
   "execution_count": 23,
   "metadata": {},
   "outputs": [],
   "source": [
    "marker_genes = genes[(stephan_markers.drop(columns=['GABAergic','Glutamatergic','Non.Neuronal']).sum(axis=1)>0)]\n",
    "not_marker_genes = genes[~(stephan_markers.drop(columns=['GABAergic','Glutamatergic','Non.Neuronal']).sum(axis=1)>0)]"
   ]
  },
  {
   "cell_type": "code",
   "execution_count": 26,
   "metadata": {},
   "outputs": [],
   "source": [
    "n_rand = 200\n",
    "rand_modules = pd.DataFrame(0.0, index=genes, columns = np.arange(n_rand))\n",
    "for col in rand_modules.columns:\n",
    "    selected = np.random.choice(genes,size=100, replace=False)\n",
    "    rand_modules.at[selected,col] = 1\n",
    "subclasses_tested= np.intersect1d(subclass_colors.index,stephan_markers.columns)\n",
    "for subclass in subclasses_tested:\n",
    "    rand_modules[subclass] = stephan_markers[subclass]"
   ]
  },
  {
   "cell_type": "code",
   "execution_count": 28,
   "metadata": {},
   "outputs": [],
   "source": [
    "rand_class_label = egad_tt.run_egad_train_test(rand_modules, pearson_networks['class_label']['aggregate'])\n",
    "rand_subclass_label = egad_tt.run_egad_train_test(rand_modules, pearson_networks['subclass_label']['aggregate'])\n",
    "rand_cluster_label = egad_tt.run_egad_train_test(rand_modules, pearson_networks['joint_cluster_label']['aggregate'])"
   ]
  },
  {
   "cell_type": "code",
   "execution_count": 29,
   "metadata": {},
   "outputs": [],
   "source": [
    "rand_perf = pd.concat([get_non_diagonal_performances(rand_class_label,'Class Label',subclasses_tested),\n",
    " get_non_diagonal_performances(rand_subclass_label,'Subclass Label',subclasses_tested),\n",
    " get_non_diagonal_performances(rand_cluster_label,'Cluster Label',subclasses_tested)])\n",
    "\n",
    "rand_perf = pd.pivot(rand_perf.reset_index(),index='index',columns='Network')['value']"
   ]
  },
  {
   "cell_type": "code",
   "execution_count": 30,
   "metadata": {},
   "outputs": [],
   "source": [
    "mixed_perf = pd.concat([get_non_diagonal_performances(rand_class_label,'Class Label',subclasses_tested, drop_col=np.arange(200)),\n",
    " get_non_diagonal_performances(rand_subclass_label,'Subclass Label',subclasses_tested, drop_col=np.arange(200)),\n",
    " get_non_diagonal_performances(rand_cluster_label,'Cluster Label',subclasses_tested, drop_col=np.arange(200))])\n",
    "\n",
    "mixed_perf = pd.pivot(mixed_perf.reset_index(),index='index',columns='Network')['value']"
   ]
  },
  {
   "cell_type": "code",
   "execution_count": 31,
   "metadata": {},
   "outputs": [],
   "source": [
    "marker_perf = pd.concat([get_non_diagonal_performances(rand_class_label,'Class Label',np.arange(200)),\n",
    " get_non_diagonal_performances(rand_subclass_label,'Subclass Label',np.arange(200)),\n",
    " get_non_diagonal_performances(rand_cluster_label,'Cluster Label',np.arange(200))])\n",
    "\n",
    "marker_perf = pd.pivot(marker_perf.reset_index(),index='index',columns='Network')['value']"
   ]
  },
  {
   "cell_type": "code",
   "execution_count": 32,
   "metadata": {},
   "outputs": [],
   "source": [
    "gist_earth = sns.color_palette('gist_earth',3)\n",
    "gist_earth[0] = 'k'"
   ]
  },
  {
   "cell_type": "code",
   "execution_count": 33,
   "metadata": {},
   "outputs": [],
   "source": [
    "def create_term_nw(term_vector, nw, color, threshold=.9,ax=None, remove_isolates=False):\n",
    "    selected_term_genes = np.intersect1d(genes,term_vector.index[term_vector.astype(bool)])\n",
    "    adj = nw.loc[selected_term_genes,selected_term_genes]>=threshold\n",
    "    np.fill_diagonal(adj.values,0)\n",
    "    #adj = adj.loc[adj.sum()>1,adj.sum()>1]\n",
    "    if ax is None:\n",
    "        fix,  ax = plt.subplots()\n",
    "    G  = nx.from_pandas_adjacency(adj)\n",
    "    if remove_isolates:\n",
    "        G.remove_nodes_from(list(nx.isolates(G)))\n",
    "\n",
    "    nx.draw_spring(G,node_color=color,ax=ax, node_size=5)"
   ]
  },
  {
   "cell_type": "code",
   "execution_count": 34,
   "metadata": {},
   "outputs": [],
   "source": [
    "def plot_avg_perf(ax):\n",
    "    avg_perf = joy_data.groupby(['metric']).mean()['value']\n",
    "    ax.axvline(avg_perf['class_label'],ls='--',c=gist_earth[0], ymax=.5)\n",
    "    ax.axvline(avg_perf['subclass_label'],ls='--',c=gist_earth[1], ymax=.5)\n",
    "    ax.axvline(avg_perf['joint_cluster_label'],ls='--',c=gist_earth[2], ymax=.5)"
   ]
  },
  {
   "cell_type": "code",
   "execution_count": 35,
   "metadata": {},
   "outputs": [
    {
     "data": {
      "text/plain": [
       "Network\n",
       "Class Label       0.491543\n",
       "Cluster Label     0.662317\n",
       "Subclass Label    0.648988\n",
       "dtype: float64"
      ]
     },
     "execution_count": 35,
     "metadata": {},
     "output_type": "execute_result"
    }
   ],
   "source": [
    "marker_perf.mean()"
   ]
  },
  {
   "cell_type": "code",
   "execution_count": 36,
   "metadata": {},
   "outputs": [
    {
     "data": {
      "text/plain": [
       "Network\n",
       "Class Label       0.482437\n",
       "Cluster Label     0.486972\n",
       "Subclass Label    0.486110\n",
       "dtype: float64"
      ]
     },
     "execution_count": 36,
     "metadata": {},
     "output_type": "execute_result"
    }
   ],
   "source": [
    "mixed_perf.mean()"
   ]
  },
  {
   "cell_type": "code",
   "execution_count": 448,
   "metadata": {},
   "outputs": [
    {
     "name": "stderr",
     "output_type": "stream",
     "text": [
      "2020-03-18 12:16:05,768 - 'c' argument looks like a single numeric RGB or RGBA sequence, which should be avoided as value-mapping will have precedence in case its length matches with 'x' & 'y'.  Please use a 2-D array with a single row if you really want to specify the same RGB or RGBA value for all points.\n",
      "2020-03-18 12:16:05,855 - 'c' argument looks like a single numeric RGB or RGBA sequence, which should be avoided as value-mapping will have precedence in case its length matches with 'x' & 'y'.  Please use a 2-D array with a single row if you really want to specify the same RGB or RGBA value for all points.\n",
      "2020-03-18 12:16:05,969 - 'c' argument looks like a single numeric RGB or RGBA sequence, which should be avoided as value-mapping will have precedence in case its length matches with 'x' & 'y'.  Please use a 2-D array with a single row if you really want to specify the same RGB or RGBA value for all points.\n",
      "2020-03-18 12:16:06,058 - 'c' argument looks like a single numeric RGB or RGBA sequence, which should be avoided as value-mapping will have precedence in case its length matches with 'x' & 'y'.  Please use a 2-D array with a single row if you really want to specify the same RGB or RGBA value for all points.\n",
      "2020-03-18 12:16:06,168 - 'c' argument looks like a single numeric RGB or RGBA sequence, which should be avoided as value-mapping will have precedence in case its length matches with 'x' & 'y'.  Please use a 2-D array with a single row if you really want to specify the same RGB or RGBA value for all points.\n",
      "2020-03-18 12:16:06,250 - 'c' argument looks like a single numeric RGB or RGBA sequence, which should be avoided as value-mapping will have precedence in case its length matches with 'x' & 'y'.  Please use a 2-D array with a single row if you really want to specify the same RGB or RGBA value for all points.\n"
     ]
    },
    {
     "data": {
      "image/png": "[encoded data removed]",
      "text/plain": [
       "<Figure size 1584x432 with 3 Axes>"
      ]
     },
     "metadata": {},
     "output_type": "display_data"
    }
   ],
   "source": [
    "fig, ax = plt.subplots(figsize=(22,6), \n",
    "                       ncols=3,)\n",
    "sns.kdeplot(rand_perf['Class Label'],\n",
    "            shade=True,\n",
    "            alpha=.75,\n",
    "            color=gist_earth[0],\n",
    "            ax=ax[0])\n",
    "sns.kdeplot(rand_perf['Subclass Label'],\n",
    "            shade=True,\n",
    "            alpha=.75,\n",
    "            color=gist_earth[1],\n",
    "            ax=ax[0])\n",
    "sns.kdeplot(rand_perf['Cluster Label'],\n",
    "            shade=True,\n",
    "            alpha=.75,\n",
    "            color=gist_earth[2],\n",
    "            ax=ax[0])\n",
    "axins0a = ax[0].inset_axes([.65,.6,.25,.25])\n",
    "axins0a.set(aspect='equal')\n",
    "create_term_nw(rand_modules[1], \n",
    "               pearson_networks['subclass_label']['aggregate'],\n",
    "               sns.color_palette('gist_gray',1)[0], \n",
    "               threshold=.99,\n",
    "              ax=axins0a)\n",
    "\n",
    "axins0b = ax[0].inset_axes([.85,.6,.25,.25])\n",
    "axins0b.set(aspect='equal')\n",
    "create_term_nw(rand_modules[2], \n",
    "               pearson_networks['subclass_label']['aggregate'],\n",
    "               sns.color_palette('gist_gray',2)[1], \n",
    "               threshold=.99,\n",
    "              ax=axins0b)\n",
    "\n",
    "\n",
    "sns.kdeplot(marker_perf['Class Label'],\n",
    "            shade=True,\n",
    "            alpha=.75,\n",
    "            color=gist_earth[0],\n",
    "            ax=ax[1])\n",
    "sns.kdeplot(marker_perf['Subclass Label'],\n",
    "            shade=True,\n",
    "            alpha=.75,\n",
    "            color=gist_earth[1],\n",
    "            ax=ax[1])\n",
    "sns.kdeplot(marker_perf['Cluster Label'],\n",
    "            shade=True,\n",
    "            alpha=.75,\n",
    "            color=gist_earth[2],\n",
    "            ax=ax[1])\n",
    "\n",
    "axins1a = ax[1].inset_axes([.65,.6,.25,.25])\n",
    "axins1a.set(aspect='equal')\n",
    "create_term_nw(stephan_markers['Vip'], \n",
    "               pearson_networks['subclass_label']['aggregate'],\n",
    "               sns.desaturate(subclass_colors['Vip'],.5), \n",
    "               threshold=.99,\n",
    "              ax=axins1a,\n",
    "              remove_isolates=True)\n",
    "\n",
    "axins1b = ax[1].inset_axes([.85,.6,.25,.25])\n",
    "axins1b.set(aspect='equal')\n",
    "create_term_nw(stephan_markers['Sst'], \n",
    "               pearson_networks['subclass_label']['aggregate'],\n",
    "               sns.desaturate(subclass_colors['Sst'],.5), \n",
    "               threshold=.99,\n",
    "              ax=axins1b,\n",
    "              remove_isolates=True)\n",
    "\n",
    "sns.kdeplot(mixed_perf['Class Label'],\n",
    "            shade=True,\n",
    "            alpha=.75,\n",
    "            color=gist_earth[0],\n",
    "            ax=ax[2])\n",
    "sns.kdeplot(mixed_perf['Subclass Label'],\n",
    "            shade=True,\n",
    "            alpha=.75,\n",
    "            color=gist_earth[1],\n",
    "            ax=ax[2])\n",
    "sns.kdeplot(mixed_perf['Cluster Label'],\n",
    "            shade=True,\n",
    "            alpha=.75,\n",
    "            color=gist_earth[2],\n",
    "            ax=ax[2])\n",
    "axins2a = ax[2].inset_axes([.65,.6,.25,.25])\n",
    "axins2a.set(aspect='equal')\n",
    "create_term_nw(rand_modules[4], \n",
    "               pearson_networks['subclass_label']['aggregate'],\n",
    "               sns.color_palette('gist_gray',3)[2], \n",
    "               threshold=.99,\n",
    "              ax=axins2a)\n",
    "\n",
    "axins2b = ax[2].inset_axes([.85,.6,.25,.25])\n",
    "axins2b.set(aspect='equal')\n",
    "create_term_nw(stephan_markers['Sst'], \n",
    "               pearson_networks['subclass_label']['aggregate'],\n",
    "               sns.desaturate(subclass_colors['Sst'],.5), \n",
    "               threshold=.99,\n",
    "              ax=axins2b,\n",
    "              remove_isolates=True)\n",
    "\n",
    "ax[0].legend().set_visible(False)\n",
    "ax[0].set(yticks=[], xlim=[0,1])\n",
    "ax[1].legend().set_visible(False)\n",
    "ax[1].set(yticks=[],xlim=[0,1])\n",
    "ax[2].legend().set_visible(False)\n",
    "ax[2].set(yticks=[],xlim=[0,1])\n",
    "plot_avg_perf(ax[0])\n",
    "plot_avg_perf(ax[1])\n",
    "plot_avg_perf(ax[2])\n",
    "plt.tight_layout()\n",
    "plt.savefig('/home/bharris/biccn_paper/figures/figure3_train_test.pdf',transparent=True)"
   ]
  },
  {
   "cell_type": "code",
   "execution_count": 46,
   "metadata": {},
   "outputs": [],
   "source": [
    "module_marker_perc = rand_modules.loc[marker_genes,np.arange(200)].sum()/100"
   ]
  },
  {
   "cell_type": "code",
   "execution_count": 54,
   "metadata": {},
   "outputs": [
    {
     "name": "stderr",
     "output_type": "stream",
     "text": [
      "/home/bharris/miniconda3/envs/python3/lib/python3.7/site-packages/pandas/core/indexing.py:1418: FutureWarning: \n",
      "Passing list-likes to .loc or [] with any missing label will raise\n",
      "KeyError in the future, you can use .reindex() as an alternative.\n",
      "\n",
      "See the documentation here:\n",
      "https://pandas.pydata.org/pandas-docs/stable/user_guide/indexing.html#deprecate-loc-reindex-listlike\n",
      "  return self._getitem_tuple(key)\n"
     ]
    }
   ],
   "source": [
    "rand_marker_perf = pd.concat([rand_class_label.loc[np.arange(200), subclass_colors.index].dropna(axis=1).mean(axis=1),\n",
    "          rand_subclass_label.loc[np.arange(200), subclass_colors.index].dropna(axis=1).mean(axis=1),\n",
    "          rand_cluster_label.loc[np.arange(200), subclass_colors.index].dropna(axis=1).mean(axis=1)],axis=1)\n",
    "rand_marker_perf.columns = ['Class Label','Subclass Label','Cluster Label']\n",
    "rand_marker_perf['Percent Marker Genes'] = module_marker_perc\n",
    "rand_marker_perf = pd.melt(rand_marker_perf,id_vars='Percent Marker Genes')"
   ]
  },
  {
   "cell_type": "code",
   "execution_count": 74,
   "metadata": {},
   "outputs": [
    {
     "data": {
      "image/png": "[encoded data removed]",
      "text/plain": [
       "<Figure size 1080x360 with 3 Axes>"
      ]
     },
     "metadata": {
      "needs_background": "light"
     },
     "output_type": "display_data"
    }
   ],
   "source": [
    "g = sns.relplot(data=rand_marker_perf,\n",
    "                x='Percent Marker Genes',\n",
    "                y='value',col='variable',\n",
    "                hue='variable',\n",
    "                palette=gist_earth, \n",
    "                legend=False)\n",
    "g.set(ylabel='Avg AUROC for Gene Set')\n",
    "g.set_titles('{col_name}')\n",
    "plt.tight_layout()\n",
    "plt.savefig('/home/bharris/biccn_paper/figures/supp5_marker_genes_perf.pdf',\n",
    "            transparent=True)"
   ]
  },
  {
   "cell_type": "code",
   "execution_count": 65,
   "metadata": {},
   "outputs": [
    {
     "data": {
      "text/plain": [
       "variable\n",
       "Class Label        (0.3199982777452787, 3.853479413160941e-06)\n",
       "Cluster Label     (0.41985343739588343, 6.062973786164864e-10)\n",
       "Subclass Label    (0.4043650989988945, 2.8797904367202387e-09)\n",
       "dtype: object"
      ]
     },
     "execution_count": 65,
     "metadata": {},
     "output_type": "execute_result"
    }
   ],
   "source": [
    "rand_marker_perf.groupby('variable').apply(lambda x: stats.pearsonr(x['Percent Marker Genes'].values,\n",
    "                                                                    x['value'].values))"
   ]
  }
 ],
 "metadata": {
  "kernelspec": {
   "display_name": "Python 3",
   "language": "python",
   "name": "python3"
  },
  "language_info": {
   "codemirror_mode": {
    "name": "ipython",
    "version": 3
   },
   "file_extension": ".py",
   "mimetype": "text/x-python",
   "name": "python",
   "nbconvert_exporter": "python",
   "pygments_lexer": "ipython3",
   "version": "3.7.9"
  },
  "latex_envs": {
   "LaTeX_envs_menu_present": true,
   "autoclose": false,
   "autocomplete": true,
   "bibliofile": "biblio.bib",
   "cite_by": "apalike",
   "current_citInitial": 1,
   "eqLabelWithNumbers": true,
   "eqNumInitial": 1,
   "hotkeys": {
    "equation": "Ctrl-E",
    "itemize": "Ctrl-I"
   },
   "labels_anchors": false,
   "latex_user_defs": false,
   "report_style_numbering": false,
   "user_envs_cfg": false
  },
  "output_auto_scroll": true,
  "toc": {
   "base_numbering": 1,
   "nav_menu": {},
   "number_sections": true,
   "sideBar": true,
   "skip_h1_title": false,
   "title_cell": "Table of Contents",
   "title_sidebar": "Contents",
   "toc_cell": false,
   "toc_position": {},
   "toc_section_display": true,
   "toc_window_display": true
  },
  "widgets": {
   "application/vnd.jupyter.widget-state+json": {
    "state": {},
    "version_major": 2,
    "version_minor": 0
   }
  }
 },
 "nbformat": 4,
 "nbformat_minor": 4
}
